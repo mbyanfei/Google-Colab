{
  "nbformat": 4,
  "nbformat_minor": 0,
  "metadata": {
    "kernelspec": {
      "display_name": "Python 3",
      "language": "python",
      "name": "python3"
    },
    "language_info": {
      "codemirror_mode": {
        "name": "ipython",
        "version": 3
      },
      "file_extension": ".py",
      "mimetype": "text/x-python",
      "name": "python",
      "nbconvert_exporter": "python",
      "pygments_lexer": "ipython3",
      "version": "3.7.1"
    },
    "toc": {
      "base_numbering": 1,
      "nav_menu": {},
      "number_sections": true,
      "sideBar": true,
      "skip_h1_title": false,
      "title_cell": "Table of Contents",
      "title_sidebar": "Contents",
      "toc_cell": false,
      "toc_position": {},
      "toc_section_display": true,
      "toc_window_display": false
    },
    "colab": {
      "name": "day_2_data_wrangling_with_python_code.ipynb",
      "provenance": [],
      "include_colab_link": true
    }
  },
  "cells": [
    {
      "cell_type": "markdown",
      "metadata": {
        "id": "view-in-github",
        "colab_type": "text"
      },
      "source": [
        "<a href=\"https://colab.research.google.com/github/mbyanfei/Google-Colab/blob/master/day_2_data_wrangling_with_python_code.ipynb\" target=\"_parent\"><img src=\"https://colab.research.google.com/assets/colab-badge.svg\" alt=\"Open In Colab\"/></a>"
      ]
    },
    {
      "cell_type": "code",
      "metadata": {
        "id": "oulFLC8JhG80"
      },
      "source": [
        "\n",
        "#######################################################\n",
        "#######################################################\n",
        "############    COPYRIGHT - DATA SOCIETY   ############\n",
        "#######################################################\n",
        "#######################################################\n",
        "\n",
        "## DAY 2 DATA WRANGLING WITH PYTHON ##\n",
        "\n",
        "## NOTE: To run individual pieces of code, select the line of code and\n",
        "##       press ctrl + enter for PCs or command + enter for Macs\n",
        "\n"
      ],
      "execution_count": null,
      "outputs": []
    },
    {
      "cell_type": "code",
      "metadata": {
        "id": "uIHN7e40hG89"
      },
      "source": [
        "#=================================================-\n",
        "#### Slide 5: Creating arrays  ####\n",
        "\n",
        "# Import numpy as 'np' sets 'np' as the shortcut/alias.\n",
        "import numpy as np\n",
        "\n",
        "# Create an array from a list.\n",
        "arr = np.array([17, -10, 16.8, 11])\n",
        "print(arr)\n",
        "\n",
        "# Check the type of the object.\n",
        "print(type(arr))\n",
        "\n"
      ],
      "execution_count": null,
      "outputs": []
    },
    {
      "cell_type": "code",
      "metadata": {
        "id": "rNlc4bwqhG8-"
      },
      "source": [
        "#=================================================-\n",
        "#### Slide 6: Dtype in arrays  ####\n",
        "\n",
        "# Check the data type stored in the array.\n",
        "print(arr.dtype)\n",
        "\n"
      ],
      "execution_count": null,
      "outputs": []
    },
    {
      "cell_type": "code",
      "metadata": {
        "id": "RHNhphcehG8-"
      },
      "source": [
        "#=================================================-\n",
        "#### Slide 7: Using ndarray  ####\n",
        "\n",
        "x = np.array([3, 19, 7, 11])\n",
        "print(x)\n",
        "\n"
      ],
      "execution_count": null,
      "outputs": []
    },
    {
      "cell_type": "code",
      "metadata": {
        "id": "7XRuKZ38hG8-"
      },
      "source": [
        "#=================================================-\n",
        "#### Slide 9: Building an array with linspace  ####\n",
        "\n",
        "y = np.linspace(-2, -1, 25)\n",
        "print(y)\n",
        "\n"
      ],
      "execution_count": null,
      "outputs": []
    },
    {
      "cell_type": "code",
      "metadata": {
        "id": "4-vxHgYkhG8_"
      },
      "source": [
        "#=================================================-\n",
        "#### Slide 10: Alternative ways of accessing functions  ####\n",
        "\n",
        "from numpy import array, linspace\n",
        "x = array([0.01, 0.45, -0.3])\n",
        "y = linspace(0, 1, 50)\n",
        "\n"
      ],
      "execution_count": null,
      "outputs": []
    },
    {
      "cell_type": "code",
      "metadata": {
        "id": "Ju-BeIULhG8_"
      },
      "source": [
        "#=================================================-\n",
        "#### Slide 13: Arrays vs Lists  ####\n",
        "\n",
        "mixed_array = np.array([1, 2, \"apple\", \"XYZ\", 5.5])\n",
        "print(mixed_array)\n",
        "print(mixed_array.dtype)\n",
        "mixed_array = np.array([3, 12, 5.56])\n",
        "print(mixed_array)\n",
        "print(mixed_array.dtype)\n",
        "\n"
      ],
      "execution_count": null,
      "outputs": []
    },
    {
      "cell_type": "code",
      "metadata": {
        "id": "99hcW1r_hG9A"
      },
      "source": [
        "#=================================================-\n",
        "#### Slide 15: Arrays from sequences (cont'd)  ####\n",
        "\n",
        "rng = np.arange(0, 51)\n",
        "print(rng)\n",
        "\n"
      ],
      "execution_count": null,
      "outputs": []
    },
    {
      "cell_type": "code",
      "metadata": {
        "id": "N0T2DJeAhG9A"
      },
      "source": [
        "#=================================================-\n",
        "#### Slide 16: Arrays from sequences - using a step size  ####\n",
        "\n",
        "evens = np.arange(0, 23, 2)\n",
        "print(evens)\n",
        "\n",
        "quarters = np.arange(0, 1, .25)  #<- contains 0 to 0.75\n",
        "print(quarters)\n",
        "\n"
      ],
      "execution_count": null,
      "outputs": []
    },
    {
      "cell_type": "code",
      "metadata": {
        "id": "TdkEztgXhG9B"
      },
      "source": [
        "#=================================================-\n",
        "#### Slide 17: Helper functions: min, max, and sum  ####\n",
        "\n",
        "# Generate 5 numbers between 15 and 19.\n",
        "x = np.linspace(15, 19, 5)\n",
        "# Find the min of x.\n",
        "np.amin(x)\n",
        "# Find the max of x.\n",
        "np.amax(x)\n",
        "# Find the max of x.\n",
        "np.sum(x)\n",
        "\n"
      ],
      "execution_count": null,
      "outputs": []
    },
    {
      "cell_type": "code",
      "metadata": {
        "id": "yIzOzT7NhG9B"
      },
      "source": [
        "#=================================================-\n",
        "#### Slide 18: Convert an array to a list  ####\n",
        "\n",
        "print(list(evens))\n",
        "\n"
      ],
      "execution_count": null,
      "outputs": []
    },
    {
      "cell_type": "code",
      "metadata": {
        "id": "ZQVsZ3BohG9B"
      },
      "source": [
        "#=================================================-\n",
        "#### Slide 19: Operations on arrays  ####\n",
        "\n",
        "# Save two arrays as variables.\n",
        "a = np.array([1,1,1,1])\n",
        "b = np.array([2,2,2,2])\n",
        "\n",
        "# Addition of arrays.\n",
        "print(a + b)\n",
        "\n",
        "# Subtraction of arrays.\n",
        "print(a - b)\n",
        "# Multiplication of arrays.\n",
        "print(a * b)\n",
        "# Division of arrays.\n",
        "print(a / b)\n",
        "\n"
      ],
      "execution_count": null,
      "outputs": []
    },
    {
      "cell_type": "code",
      "metadata": {
        "id": "YxJXWM62hG9C"
      },
      "source": [
        "#=================================================-\n",
        "#### Slide 20: Mathematical functions on lists   ####\n",
        "\n",
        "abs([-2, -7, 1])\n",
        "\n"
      ],
      "execution_count": null,
      "outputs": []
    },
    {
      "cell_type": "code",
      "metadata": {
        "id": "BgUHOitJhG9C"
      },
      "source": [
        "#=================================================-\n",
        "#### Slide 21: Mathematical functions on arrays  ####\n",
        "\n",
        "print(np.abs(-3))\n",
        "print(np.abs([-2, -7, 1]))\n",
        "nums = np.arange(20, 30, .5)\n",
        "print(len(nums))\n",
        "\n"
      ],
      "execution_count": null,
      "outputs": []
    },
    {
      "cell_type": "code",
      "metadata": {
        "id": "AFeS6l3khG9C"
      },
      "source": [
        "#=================================================-\n",
        "#### Slide 22: User-defined functions on arrays  ####\n",
        "\n",
        "# Define a function to multiply every element in array with 3 and add 1\n",
        "def some_calculation(arr):\n",
        "    return 3*arr+1\n",
        "\n",
        "print(some_calculation(nums))\n",
        "\n"
      ],
      "execution_count": null,
      "outputs": []
    },
    {
      "cell_type": "code",
      "metadata": {
        "id": "lkvdyGL-hG9C"
      },
      "source": [
        "#=================================================-\n",
        "#### Slide 24: Exercise 1  ####\n",
        "\n",
        "\n",
        "\n"
      ],
      "execution_count": null,
      "outputs": []
    },
    {
      "cell_type": "code",
      "metadata": {
        "id": "kQojxQtWhG9D"
      },
      "source": [
        "#=================================================-\n",
        "#### Slide 26: Accessing array values  ####\n",
        "\n",
        "# Import numpy as 'np' sets 'np' as the shortcut/alias.\n",
        "import numpy as np\n",
        "\n",
        "nums = np.arange(20, 30, .5) #<- Create array\n",
        "print(len(nums)) #<- get the length of array\n",
        "print(nums[1])  #<- get the second element\n",
        "\n",
        "print(nums[0:3]) #<- get the first three elements\n",
        "\n"
      ],
      "execution_count": null,
      "outputs": []
    },
    {
      "cell_type": "code",
      "metadata": {
        "id": "gHkcU_GThG9D"
      },
      "source": [
        "#=================================================-\n",
        "#### Slide 27: Logical filtering  ####\n",
        "\n",
        "print(nums)\n",
        "\n",
        "large_nums = nums[nums > 26]\n",
        "print(large_nums)\n",
        "\n"
      ],
      "execution_count": null,
      "outputs": []
    },
    {
      "cell_type": "code",
      "metadata": {
        "id": "EaF9j4CChG9D"
      },
      "source": [
        "#=================================================-\n",
        "#### Slide 28: Logical filtering (cont'd)  ####\n",
        "\n",
        "print(nums)\n",
        "\n",
        "large_nums = nums[nums > 26]\n",
        "print(large_nums)\n",
        "\n"
      ],
      "execution_count": null,
      "outputs": []
    },
    {
      "cell_type": "code",
      "metadata": {
        "id": "JKgQiiglhG9E"
      },
      "source": [
        "#=================================================-\n",
        "#### Slide 29: Two-dimensional arrays  ####\n",
        "\n",
        "mat = np.array([\n",
        "        [8, 2, 6, 8],\n",
        "        [4, 5, 7, 2],\n",
        "        [3, 9, 7, 1]\n",
        "       ])\n",
        "print(mat)\n",
        "\n"
      ],
      "execution_count": null,
      "outputs": []
    },
    {
      "cell_type": "code",
      "metadata": {
        "id": "0rvktM-thG9E"
      },
      "source": [
        "#=================================================-\n",
        "#### Slide 31: Two-dimensional arrays - shape (cont'd)  ####\n",
        "\n",
        "print(mat.shape) #<- 3 rows and 4 columns -- returned as a tuple\n",
        "nrows, ncols = mat.shape\n",
        "print(nrows)\n",
        "\n"
      ],
      "execution_count": null,
      "outputs": []
    },
    {
      "cell_type": "code",
      "metadata": {
        "id": "a9JxqmIGhG9E"
      },
      "source": [
        "#=================================================-\n",
        "#### Slide 32: Two-dimensional arrays - extracting elements  ####\n",
        "\n",
        "print(mat[1, 3]) #<- 2nd row 4th column - remember that indexing starts at 0!\n",
        "\n"
      ],
      "execution_count": null,
      "outputs": []
    },
    {
      "cell_type": "code",
      "metadata": {
        "id": "Wllr3dCYhG9F"
      },
      "source": [
        "#=================================================-\n",
        "#### Slide 33: Two-dimensional arrays - rows  ####\n",
        "\n",
        "print(mat[0, :]) #<- first row\n",
        "print(mat[0, 0:2]) #<- first row and just first 2 columns\n",
        "\n"
      ],
      "execution_count": null,
      "outputs": []
    },
    {
      "cell_type": "code",
      "metadata": {
        "id": "G1OHPWAjhG9F"
      },
      "source": [
        "#=================================================-\n",
        "#### Slide 34: Two-dimensional arrays - columns  ####\n",
        "\n",
        "print(mat[:, 2]) #<- 3rd column\n",
        "print(mat[1:3, 2]) #<- 3rd column but skipping over the first row\n",
        "print(mat[1:3, 2:3]) #<- same as previous, but maintains the vertical structure of the column\n",
        "\n"
      ],
      "execution_count": null,
      "outputs": []
    },
    {
      "cell_type": "code",
      "metadata": {
        "id": "m-xA2Gf1hG9F"
      },
      "source": [
        "#=================================================-\n",
        "#### Slide 35: Reshaping arrays  ####\n",
        "\n",
        "arr = np.arange(1,13)\n",
        "print(arr)\n",
        "print(arr.reshape(3, 4))\n",
        "\n"
      ],
      "execution_count": null,
      "outputs": []
    },
    {
      "cell_type": "code",
      "metadata": {
        "id": "PDzj2FqGhG9F"
      },
      "source": [
        "#=================================================-\n",
        "#### Slide 36: Reshaping arrays (cont'd)  ####\n",
        "\n",
        "print(arr.reshape(2,      #<- specify number of rows=2\n",
        "                  -1))    #<- number of columns=-1 lets Python infer it\n",
        "print(arr.reshape(5,      #<- specify number of rows=5\n",
        "                  -2))    #<- number of columns=-2 lets Python infer it\n",
        "\n"
      ],
      "execution_count": null,
      "outputs": []
    },
    {
      "cell_type": "code",
      "metadata": {
        "id": "E-s5sGa7hG9G"
      },
      "source": [
        "#=================================================-\n",
        "#### Slide 41: Import Pandas and os  ####\n",
        "\n",
        "import pandas as pd\n",
        "import os\n",
        "\n"
      ],
      "execution_count": null,
      "outputs": []
    },
    {
      "cell_type": "code",
      "metadata": {
        "id": "voPxizbuhG9G"
      },
      "source": [
        "#=================================================-\n",
        "#### Slide 42: Directory settings  ####\n",
        "\n",
        "# Set `main_dir` to the location of your `skill-soft` folder (for Linux).\n",
        "main_dir = \"/home/[username]/Desktop/skill-soft\"\n",
        "# Set `main_dir` to the location of your `skill-soft` folder (for Mac).\n",
        "main_dir = '/Users/[username]/Desktop/skill-soft'\n",
        "# Set `main_dir` to the location of your `skill-soft` folder (for Windows).\n",
        "main_dir = \"C:\\\\Users\\\\[username]\\\\Desktop\\\\skill-soft\"\n",
        "# Make `data_dir` from the `main_dir` and\n",
        "# remainder of the path to data directory.\n",
        "data_dir = main_dir + \"/data\"\n",
        "\n",
        "\n"
      ],
      "execution_count": null,
      "outputs": []
    },
    {
      "cell_type": "code",
      "metadata": {
        "id": "YI5n4eo-hG9G"
      },
      "source": [
        "#=================================================-\n",
        "#### Slide 43: Working directory  ####\n",
        "\n",
        "# Set working directory.\n",
        "os.chdir(data_dir)\n",
        "# Check working directory.\n",
        "print(os.getcwd())\n",
        "\n"
      ],
      "execution_count": null,
      "outputs": []
    }
  ]
}