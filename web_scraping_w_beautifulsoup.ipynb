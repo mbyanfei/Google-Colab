{
  "nbformat": 4,
  "nbformat_minor": 0,
  "metadata": {
    "colab": {
      "name": "web-scraping-w-beautifulsoup.ipynb",
      "provenance": [],
      "collapsed_sections": [],
      "authorship_tag": "ABX9TyNhHuToTuNUtISBLm9hH96U",
      "include_colab_link": true
    },
    "kernelspec": {
      "name": "python3",
      "display_name": "Python 3"
    },
    "language_info": {
      "name": "python"
    }
  },
  "cells": [
    {
      "cell_type": "markdown",
      "metadata": {
        "id": "view-in-github",
        "colab_type": "text"
      },
      "source": [
        "<a href=\"https://colab.research.google.com/github/mbyanfei/Google-Colab/blob/master/web_scraping_w_beautifulsoup.ipynb\" target=\"_parent\"><img src=\"https://colab.research.google.com/assets/colab-badge.svg\" alt=\"Open In Colab\"/></a>"
      ]
    },
    {
      "cell_type": "code",
      "execution_count": 1,
      "metadata": {
        "id": "llMWcbXEL3Gp"
      },
      "outputs": [],
      "source": [
        "# importing the requests library\n",
        "import requests"
      ]
    },
    {
      "cell_type": "code",
      "source": [
        "# api-endpoint\n",
        "URL = \"http://maps.googleapis.com/maps/api/geocode/json\"\n",
        "  \n",
        "# location given here\n",
        "location = \"delhi technological university\"\n",
        "  \n",
        "# defining a params dict for the parameters to be sent to the API\n",
        "PARAMS = {'address':location}"
      ],
      "metadata": {
        "id": "pDIAn9wRL8XL"
      },
      "execution_count": 2,
      "outputs": []
    },
    {
      "cell_type": "code",
      "source": [
        "# sending get request and saving the response as response object\n",
        "r = requests.get(url = URL, params = PARAMS)\n",
        "  \n",
        "# extracting data in json format\n",
        "data = r.json()"
      ],
      "metadata": {
        "id": "zxbBYGslMcZz"
      },
      "execution_count": 3,
      "outputs": []
    },
    {
      "cell_type": "code",
      "source": [
        "data"
      ],
      "metadata": {
        "colab": {
          "base_uri": "https://localhost:8080/"
        },
        "id": "I2dRkUryM2nm",
        "outputId": "17c1bb8b-2827-4605-fde4-46cba55e4553"
      },
      "execution_count": 4,
      "outputs": [
        {
          "output_type": "execute_result",
          "data": {
            "text/plain": [
              "{'error_message': 'You must use an API key to authenticate each request to Google Maps Platform APIs. For additional information, please refer to http://g.co/dev/maps-no-account',\n",
              " 'results': [],\n",
              " 'status': 'REQUEST_DENIED'}"
            ]
          },
          "metadata": {},
          "execution_count": 4
        }
      ]
    },
    {
      "cell_type": "code",
      "source": [
        "# extracting latitude, longitude and formatted address \n",
        "# of the first matching location\n",
        "latitude = data['results'][0]['geometry']['location']['lat']\n",
        "longitude = data['results'][0]['geometry']['location']['lng']\n",
        "formatted_address = data['results'][0]['formatted_address']\n",
        "  \n",
        "# printing the output\n",
        "print(\"Latitude:%s\\nLongitude:%s\\nFormatted Address:%s\"\n",
        "      %(latitude, longitude,formatted_address))"
      ],
      "metadata": {
        "id": "yXjTSTtmMH6E"
      },
      "execution_count": null,
      "outputs": []
    },
    {
      "cell_type": "code",
      "source": [
        "import requests\n",
        "from bs4 import BeautifulSoup\n",
        "\n",
        "URL = \"https://realpython.github.io/fake-jobs/\"\n",
        "page = requests.get(URL)\n",
        "page\n"
      ],
      "metadata": {
        "colab": {
          "base_uri": "https://localhost:8080/"
        },
        "id": "0wPijqz1bBqX",
        "outputId": "849cdcac-b936-4505-9141-d248b7026123"
      },
      "execution_count": 2,
      "outputs": [
        {
          "output_type": "execute_result",
          "data": {
            "text/plain": [
              "<Response [200]>"
            ]
          },
          "metadata": {},
          "execution_count": 2
        }
      ]
    },
    {
      "cell_type": "code",
      "source": [
        "soup = BeautifulSoup(page.content, \"html.parser\")\n",
        "# soup"
      ],
      "metadata": {
        "id": "WKV6qABxbGu7"
      },
      "execution_count": 3,
      "outputs": []
    },
    {
      "cell_type": "code",
      "source": [
        "results = soup.find(id=\"ResultsContainer\")\n",
        "type(results)"
      ],
      "metadata": {
        "colab": {
          "base_uri": "https://localhost:8080/"
        },
        "id": "4gWt_9sObz_Z",
        "outputId": "1435b9db-8a40-420f-95f3-828ad13b557e"
      },
      "execution_count": 4,
      "outputs": [
        {
          "output_type": "execute_result",
          "data": {
            "text/plain": [
              "bs4.element.Tag"
            ]
          },
          "metadata": {},
          "execution_count": 4
        }
      ]
    },
    {
      "cell_type": "code",
      "source": [
        "# print(results.prettify())"
      ],
      "metadata": {
        "id": "_dVaIPOocEkj"
      },
      "execution_count": null,
      "outputs": []
    },
    {
      "cell_type": "code",
      "source": [
        "job_elements = results.find_all(\"div\", class_=\"card-content\")"
      ],
      "metadata": {
        "id": "d-cApRDscNCq"
      },
      "execution_count": 6,
      "outputs": []
    },
    {
      "cell_type": "markdown",
      "source": [
        ""
      ],
      "metadata": {
        "id": "f5U3euq7p06G"
      }
    },
    {
      "cell_type": "code",
      "source": [
        "for job_element in job_elements:\n",
        "    print(job_element, end=\"\\n\"*2)"
      ],
      "metadata": {
        "id": "HPdZkTaecQrs"
      },
      "execution_count": null,
      "outputs": []
    },
    {
      "cell_type": "code",
      "source": [
        "for job_element in job_elements:\n",
        "    title_element = job_element.find(\"h2\", class_=\"title\")\n",
        "    company_element = job_element.find(\"h3\", class_=\"company\")\n",
        "    location_element = job_element.find(\"p\", class_=\"location\")\n",
        "    print(title_element)\n",
        "    print(company_element)\n",
        "    print(location_element)\n",
        "    print()\n",
        "    break"
      ],
      "metadata": {
        "colab": {
          "base_uri": "https://localhost:8080/"
        },
        "id": "Np6dHSzSctFo",
        "outputId": "e2534c92-c694-4d8f-a967-77abecb780b0"
      },
      "execution_count": 31,
      "outputs": [
        {
          "output_type": "stream",
          "name": "stdout",
          "text": [
            "<h2 class=\"title is-5\">Senior Python Developer</h2>\n",
            "<h3 class=\"subtitle is-6 company\">Payne, Roberts and Davis</h3>\n",
            "<p class=\"location\">\n",
            "        Stewartbury, AA\n",
            "      </p>\n",
            "\n"
          ]
        }
      ]
    },
    {
      "cell_type": "code",
      "source": [
        "for job_element in job_elements:\n",
        "    title_element = job_element.find(\"h2\", class_=\"title\")\n",
        "    company_element = job_element.find(\"h3\", class_=\"company\")\n",
        "    location_element = job_element.find(\"p\", class_=\"location\")\n",
        "    print(title_element.text.strip())\n",
        "    print(company_element.text.strip())\n",
        "    print(location_element.text.strip())\n",
        "    print()\n",
        "    # break"
      ],
      "metadata": {
        "id": "pCmakctxdGkK"
      },
      "execution_count": null,
      "outputs": []
    }
  ]
}