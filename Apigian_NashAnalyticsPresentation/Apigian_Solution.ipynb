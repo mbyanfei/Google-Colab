{
  "nbformat": 4,
  "nbformat_minor": 0,
  "metadata": {
    "kernelspec": {
      "display_name": "Python 3",
      "language": "python",
      "name": "python3"
    },
    "language_info": {
      "codemirror_mode": {
        "name": "ipython",
        "version": 3
      },
      "file_extension": ".py",
      "mimetype": "text/x-python",
      "name": "python",
      "nbconvert_exporter": "python",
      "pygments_lexer": "ipython3",
      "version": "3.6.5"
    },
    "colab": {
      "name": "Apigian_Solution.ipynb",
      "provenance": [],
      "include_colab_link": true
    }
  },
  "cells": [
    {
      "cell_type": "markdown",
      "metadata": {
        "id": "view-in-github",
        "colab_type": "text"
      },
      "source": [
        "<a href=\"https://colab.research.google.com/github/mbyanfei/Google-Colab/blob/master/Apigian_NashAnalyticsPresentation/Apigian_Solution.ipynb\" target=\"_parent\"><img src=\"https://colab.research.google.com/assets/colab-badge.svg\" alt=\"Open In Colab\"/></a>"
      ]
    },
    {
      "cell_type": "markdown",
      "metadata": {
        "id": "AgpDhAQxuY0T"
      },
      "source": [
        "# Supervised Learning Walkthrough"
      ]
    },
    {
      "cell_type": "markdown",
      "metadata": {
        "id": "2LIKaiukuY0V"
      },
      "source": [
        "![MTSU Data Science Institute](https://github.com/mbyanfei/AnalyticsSummit/blob/master/Apigian_NashAnalyticsPresentation/images/MTDataScienceInstituteHorizontal.jpg?raw=1)"
      ]
    },
    {
      "cell_type": "markdown",
      "metadata": {
        "id": "MB-Y6jq1uY0W"
      },
      "source": [
        "### Summary of Notebook\n",
        "#### Created by Charlie H. Apigian, PhD.  - Interim Director of the Data Science Institute at MTSU\n",
        "<br>\n",
        "#### Contents\n",
        "- Frame the Business Problem\n",
        "- Import Libraries\n",
        "- Import Data\n",
        "- Explore the Data\n",
        "- Cleanse the Data\n",
        "- Transform the Data\n",
        "- Split the Data\n",
        "- Select and Run the Model\n",
        "- Fine Tune the Model\n"
      ]
    },
    {
      "cell_type": "markdown",
      "metadata": {
        "id": "cYmL1mn2uY0W"
      },
      "source": [
        "# --------------------------------------------------------------------------------\n",
        "# XXXXXXXXXXXXX  What is the Business Problem XXXXXXXXXXXXX\n",
        "# --------------------------------------------------------------------------------"
      ]
    },
    {
      "cell_type": "markdown",
      "metadata": {
        "id": "jPx63-a7uY0X"
      },
      "source": [
        "# --------------------------------------------------------------------------------\n",
        "# XXXXXXXXXXXXXXXXXX  Import Libraries XXXXXXXXXXXXXXXXXX\n",
        "# --------------------------------------------------------------------------------"
      ]
    },
    {
      "cell_type": "code",
      "metadata": {
        "id": "rToYm09wuY0X"
      },
      "source": [
        "import numpy as np\n",
        "import pandas as pd\n",
        "import matplotlib.pyplot as plt\n",
        "import seaborn as sns\n",
        "%matplotlib inline\n",
        "\n",
        "sns.set_style('whitegrid')"
      ],
      "execution_count": 1,
      "outputs": []
    },
    {
      "cell_type": "markdown",
      "metadata": {
        "id": "gx2sEhAnuY0Y"
      },
      "source": [
        "# --------------------------------------------------------------------------------\n",
        "# XXXXXXXXXXXXXXXXXXX  Import Data XXXXXXXXXXXXXXXXXXX\n",
        "# --------------------------------------------------------------------------------"
      ]
    },
    {
      "cell_type": "markdown",
      "metadata": {
        "id": "r2285IvEuY0Y"
      },
      "source": [
        "### Import the data and create dataframes and arrays that can then be cleansed, transformed, and split."
      ]
    },
    {
      "cell_type": "code",
      "metadata": {
        "scrolled": true,
        "id": "yc1OJ78RuY0Y"
      },
      "source": [
        "import requests\n",
        "\n",
        "url_loandata=\"https://raw.githubusercontent.com/capigian/AnalyticsSummit/master/Apigian_NashAnalyticsPresentation/data/Loan_Data.csv\"\n",
        "\n",
        "df_loandata_url=pd.read_csv(url_loandata, index_col = 1, header = 0)"
      ],
      "execution_count": 2,
      "outputs": []
    },
    {
      "cell_type": "code",
      "metadata": {
        "colab": {
          "base_uri": "https://localhost:8080/",
          "height": 253
        },
        "id": "5qaGz1s5uY0Z",
        "outputId": "90696150-1b0f-4754-b170-d4b2ab27d450"
      },
      "source": [
        "df_loandata_url.head()"
      ],
      "execution_count": 3,
      "outputs": [
        {
          "output_type": "execute_result",
          "data": {
            "text/html": [
              "<div>\n",
              "<style scoped>\n",
              "    .dataframe tbody tr th:only-of-type {\n",
              "        vertical-align: middle;\n",
              "    }\n",
              "\n",
              "    .dataframe tbody tr th {\n",
              "        vertical-align: top;\n",
              "    }\n",
              "\n",
              "    .dataframe thead th {\n",
              "        text-align: right;\n",
              "    }\n",
              "</style>\n",
              "<table border=\"1\" class=\"dataframe\">\n",
              "  <thead>\n",
              "    <tr style=\"text-align: right;\">\n",
              "      <th></th>\n",
              "      <th>member_id</th>\n",
              "      <th>term</th>\n",
              "      <th>sub_grade</th>\n",
              "      <th>emp_length</th>\n",
              "      <th>home_ownership</th>\n",
              "      <th>annual_inc</th>\n",
              "      <th>purpose</th>\n",
              "      <th>delinq_2yrs</th>\n",
              "      <th>mths_since_last_delinq</th>\n",
              "      <th>open_acc</th>\n",
              "      <th>pub_rec</th>\n",
              "      <th>revol_bal</th>\n",
              "      <th>total_acc</th>\n",
              "      <th>collections_12_mths_ex_med</th>\n",
              "      <th>mths_since_last_major_derog</th>\n",
              "      <th>acc_now_delinq</th>\n",
              "      <th>tot_coll_amt</th>\n",
              "      <th>tot_cur_debt</th>\n",
              "      <th>total_credit_rv</th>\n",
              "      <th>loan_status</th>\n",
              "    </tr>\n",
              "    <tr>\n",
              "      <th>loan_amnt</th>\n",
              "      <th></th>\n",
              "      <th></th>\n",
              "      <th></th>\n",
              "      <th></th>\n",
              "      <th></th>\n",
              "      <th></th>\n",
              "      <th></th>\n",
              "      <th></th>\n",
              "      <th></th>\n",
              "      <th></th>\n",
              "      <th></th>\n",
              "      <th></th>\n",
              "      <th></th>\n",
              "      <th></th>\n",
              "      <th></th>\n",
              "      <th></th>\n",
              "      <th></th>\n",
              "      <th></th>\n",
              "      <th></th>\n",
              "      <th></th>\n",
              "    </tr>\n",
              "  </thead>\n",
              "  <tbody>\n",
              "    <tr>\n",
              "      <th>7200</th>\n",
              "      <td>149512</td>\n",
              "      <td>36</td>\n",
              "      <td>D4</td>\n",
              "      <td>9</td>\n",
              "      <td>RENT</td>\n",
              "      <td>58000.0</td>\n",
              "      <td>debt_consolidation</td>\n",
              "      <td>0</td>\n",
              "      <td>26.0</td>\n",
              "      <td>6</td>\n",
              "      <td>0</td>\n",
              "      <td>3874</td>\n",
              "      <td>25.0</td>\n",
              "      <td>0</td>\n",
              "      <td>30</td>\n",
              "      <td>0</td>\n",
              "      <td>0</td>\n",
              "      <td>154930</td>\n",
              "      <td>4300</td>\n",
              "      <td>Fully Paid</td>\n",
              "    </tr>\n",
              "    <tr>\n",
              "      <th>8000</th>\n",
              "      <td>384456</td>\n",
              "      <td>36</td>\n",
              "      <td>B3</td>\n",
              "      <td>10</td>\n",
              "      <td>MORTGAGE</td>\n",
              "      <td>64000.0</td>\n",
              "      <td>debt_consolidation</td>\n",
              "      <td>0</td>\n",
              "      <td>NaN</td>\n",
              "      <td>8</td>\n",
              "      <td>0</td>\n",
              "      <td>29797</td>\n",
              "      <td>22.0</td>\n",
              "      <td>0</td>\n",
              "      <td>0</td>\n",
              "      <td>0</td>\n",
              "      <td>0</td>\n",
              "      <td>0</td>\n",
              "      <td>0</td>\n",
              "      <td>Fully Paid</td>\n",
              "    </tr>\n",
              "    <tr>\n",
              "      <th>16000</th>\n",
              "      <td>407046</td>\n",
              "      <td>36</td>\n",
              "      <td>B1</td>\n",
              "      <td>4</td>\n",
              "      <td>RENT</td>\n",
              "      <td>55000.0</td>\n",
              "      <td>debt_consolidation</td>\n",
              "      <td>0</td>\n",
              "      <td>NaN</td>\n",
              "      <td>12</td>\n",
              "      <td>0</td>\n",
              "      <td>6840</td>\n",
              "      <td>38.0</td>\n",
              "      <td>0</td>\n",
              "      <td>0</td>\n",
              "      <td>0</td>\n",
              "      <td>0</td>\n",
              "      <td>29116</td>\n",
              "      <td>24800</td>\n",
              "      <td>Fully Paid</td>\n",
              "    </tr>\n",
              "    <tr>\n",
              "      <th>35000</th>\n",
              "      <td>507531</td>\n",
              "      <td>36</td>\n",
              "      <td>B1</td>\n",
              "      <td>8</td>\n",
              "      <td>RENT</td>\n",
              "      <td>130000.0</td>\n",
              "      <td>credit_card</td>\n",
              "      <td>0</td>\n",
              "      <td>NaN</td>\n",
              "      <td>11</td>\n",
              "      <td>0</td>\n",
              "      <td>23025</td>\n",
              "      <td>37.0</td>\n",
              "      <td>0</td>\n",
              "      <td>0</td>\n",
              "      <td>0</td>\n",
              "      <td>0</td>\n",
              "      <td>60019</td>\n",
              "      <td>55800</td>\n",
              "      <td>Fully Paid</td>\n",
              "    </tr>\n",
              "    <tr>\n",
              "      <th>21000</th>\n",
              "      <td>513904</td>\n",
              "      <td>36</td>\n",
              "      <td>A1</td>\n",
              "      <td>10</td>\n",
              "      <td>RENT</td>\n",
              "      <td>120000.0</td>\n",
              "      <td>debt_consolidation</td>\n",
              "      <td>0</td>\n",
              "      <td>NaN</td>\n",
              "      <td>16</td>\n",
              "      <td>0</td>\n",
              "      <td>18641</td>\n",
              "      <td>35.0</td>\n",
              "      <td>0</td>\n",
              "      <td>0</td>\n",
              "      <td>0</td>\n",
              "      <td>0</td>\n",
              "      <td>37603</td>\n",
              "      <td>85031</td>\n",
              "      <td>Fully Paid</td>\n",
              "    </tr>\n",
              "  </tbody>\n",
              "</table>\n",
              "</div>"
            ],
            "text/plain": [
              "           member_id  term sub_grade  ...  tot_cur_debt total_credit_rv  loan_status\n",
              "loan_amnt                             ...                                           \n",
              "7200          149512    36        D4  ...        154930            4300   Fully Paid\n",
              "8000          384456    36        B3  ...             0               0   Fully Paid\n",
              "16000         407046    36        B1  ...         29116           24800   Fully Paid\n",
              "35000         507531    36        B1  ...         60019           55800   Fully Paid\n",
              "21000         513904    36        A1  ...         37603           85031   Fully Paid\n",
              "\n",
              "[5 rows x 20 columns]"
            ]
          },
          "metadata": {
            "tags": []
          },
          "execution_count": 3
        }
      ]
    },
    {
      "cell_type": "code",
      "metadata": {
        "colab": {
          "base_uri": "https://localhost:8080/",
          "height": 35
        },
        "id": "1lkboIPWvLEk",
        "outputId": "f0364fa7-230d-4986-b5e1-64411c62b29a"
      },
      "source": [
        "pwd"
      ],
      "execution_count": 4,
      "outputs": [
        {
          "output_type": "execute_result",
          "data": {
            "application/vnd.google.colaboratory.intrinsic+json": {
              "type": "string"
            },
            "text/plain": [
              "'/content'"
            ]
          },
          "metadata": {
            "tags": []
          },
          "execution_count": 4
        }
      ]
    },
    {
      "cell_type": "code",
      "metadata": {
        "colab": {
          "base_uri": "https://localhost:8080/"
        },
        "id": "aPUjtnUdvNMg",
        "outputId": "082c34c1-3283-4926-d4a2-01b7cc150a3e"
      },
      "source": [
        "%ls"
      ],
      "execution_count": 5,
      "outputs": [
        {
          "output_type": "stream",
          "text": [
            "\u001b[0m\u001b[01;34msample_data\u001b[0m/\n"
          ],
          "name": "stdout"
        }
      ]
    },
    {
      "cell_type": "code",
      "metadata": {
        "id": "Qf2BoqXbuY0a"
      },
      "source": [
        "# df_loandata = pd.read_csv('data/Loan_Data.csv', index_col = 0, header = 0)\n",
        "# df_loandata.info()"
      ],
      "execution_count": null,
      "outputs": []
    },
    {
      "cell_type": "code",
      "metadata": {
        "scrolled": true,
        "id": "Iz-bvyGcuY0a"
      },
      "source": [
        "# df_loandata.head()"
      ],
      "execution_count": null,
      "outputs": []
    },
    {
      "cell_type": "markdown",
      "metadata": {
        "id": "Ff-raXcXuY0b"
      },
      "source": [
        "# --------------------------------------------------------------------------------\n",
        "# XXXXXXXXXXXXXXXXXX  Explore the Data XXXXXXXXXXXXXXXXXX\n",
        "# --------------------------------------------------------------------------------"
      ]
    },
    {
      "cell_type": "markdown",
      "metadata": {
        "id": "OyYm1x5_uY0c"
      },
      "source": [
        "### Why explore before cleanse?  Exploring and cleansing may be conducted simultaneously, but you cannot cleanse without looking at the data first\n",
        "\n",
        "https://seaborn.pydata.org/examples/index.html"
      ]
    },
    {
      "cell_type": "code",
      "metadata": {
        "id": "AH2lkgIovfrr"
      },
      "source": [
        "df_loandata = df_loandata_url"
      ],
      "execution_count": 10,
      "outputs": []
    },
    {
      "cell_type": "code",
      "metadata": {
        "colab": {
          "base_uri": "https://localhost:8080/",
          "height": 869
        },
        "id": "iMQNX0BRuY0c",
        "outputId": "98c2866f-da47-4fd5-cff3-38be8eb1478b"
      },
      "source": [
        "df_loandata.head(25)\n",
        "# index on left side and NaN???"
      ],
      "execution_count": 11,
      "outputs": [
        {
          "output_type": "execute_result",
          "data": {
            "text/html": [
              "<div>\n",
              "<style scoped>\n",
              "    .dataframe tbody tr th:only-of-type {\n",
              "        vertical-align: middle;\n",
              "    }\n",
              "\n",
              "    .dataframe tbody tr th {\n",
              "        vertical-align: top;\n",
              "    }\n",
              "\n",
              "    .dataframe thead th {\n",
              "        text-align: right;\n",
              "    }\n",
              "</style>\n",
              "<table border=\"1\" class=\"dataframe\">\n",
              "  <thead>\n",
              "    <tr style=\"text-align: right;\">\n",
              "      <th></th>\n",
              "      <th>member_id</th>\n",
              "      <th>term</th>\n",
              "      <th>sub_grade</th>\n",
              "      <th>emp_length</th>\n",
              "      <th>home_ownership</th>\n",
              "      <th>annual_inc</th>\n",
              "      <th>purpose</th>\n",
              "      <th>delinq_2yrs</th>\n",
              "      <th>mths_since_last_delinq</th>\n",
              "      <th>open_acc</th>\n",
              "      <th>pub_rec</th>\n",
              "      <th>revol_bal</th>\n",
              "      <th>total_acc</th>\n",
              "      <th>collections_12_mths_ex_med</th>\n",
              "      <th>mths_since_last_major_derog</th>\n",
              "      <th>acc_now_delinq</th>\n",
              "      <th>tot_coll_amt</th>\n",
              "      <th>tot_cur_debt</th>\n",
              "      <th>total_credit_rv</th>\n",
              "      <th>loan_status</th>\n",
              "    </tr>\n",
              "    <tr>\n",
              "      <th>loan_amnt</th>\n",
              "      <th></th>\n",
              "      <th></th>\n",
              "      <th></th>\n",
              "      <th></th>\n",
              "      <th></th>\n",
              "      <th></th>\n",
              "      <th></th>\n",
              "      <th></th>\n",
              "      <th></th>\n",
              "      <th></th>\n",
              "      <th></th>\n",
              "      <th></th>\n",
              "      <th></th>\n",
              "      <th></th>\n",
              "      <th></th>\n",
              "      <th></th>\n",
              "      <th></th>\n",
              "      <th></th>\n",
              "      <th></th>\n",
              "      <th></th>\n",
              "    </tr>\n",
              "  </thead>\n",
              "  <tbody>\n",
              "    <tr>\n",
              "      <th>7200</th>\n",
              "      <td>149512</td>\n",
              "      <td>36</td>\n",
              "      <td>D4</td>\n",
              "      <td>9</td>\n",
              "      <td>RENT</td>\n",
              "      <td>58000.0</td>\n",
              "      <td>debt_consolidation</td>\n",
              "      <td>0</td>\n",
              "      <td>26.0</td>\n",
              "      <td>6</td>\n",
              "      <td>0</td>\n",
              "      <td>3874</td>\n",
              "      <td>25.0</td>\n",
              "      <td>0</td>\n",
              "      <td>30</td>\n",
              "      <td>0</td>\n",
              "      <td>0</td>\n",
              "      <td>154930</td>\n",
              "      <td>4300</td>\n",
              "      <td>Fully Paid</td>\n",
              "    </tr>\n",
              "    <tr>\n",
              "      <th>8000</th>\n",
              "      <td>384456</td>\n",
              "      <td>36</td>\n",
              "      <td>B3</td>\n",
              "      <td>10</td>\n",
              "      <td>MORTGAGE</td>\n",
              "      <td>64000.0</td>\n",
              "      <td>debt_consolidation</td>\n",
              "      <td>0</td>\n",
              "      <td>NaN</td>\n",
              "      <td>8</td>\n",
              "      <td>0</td>\n",
              "      <td>29797</td>\n",
              "      <td>22.0</td>\n",
              "      <td>0</td>\n",
              "      <td>0</td>\n",
              "      <td>0</td>\n",
              "      <td>0</td>\n",
              "      <td>0</td>\n",
              "      <td>0</td>\n",
              "      <td>Fully Paid</td>\n",
              "    </tr>\n",
              "    <tr>\n",
              "      <th>16000</th>\n",
              "      <td>407046</td>\n",
              "      <td>36</td>\n",
              "      <td>B1</td>\n",
              "      <td>4</td>\n",
              "      <td>RENT</td>\n",
              "      <td>55000.0</td>\n",
              "      <td>debt_consolidation</td>\n",
              "      <td>0</td>\n",
              "      <td>NaN</td>\n",
              "      <td>12</td>\n",
              "      <td>0</td>\n",
              "      <td>6840</td>\n",
              "      <td>38.0</td>\n",
              "      <td>0</td>\n",
              "      <td>0</td>\n",
              "      <td>0</td>\n",
              "      <td>0</td>\n",
              "      <td>29116</td>\n",
              "      <td>24800</td>\n",
              "      <td>Fully Paid</td>\n",
              "    </tr>\n",
              "    <tr>\n",
              "      <th>35000</th>\n",
              "      <td>507531</td>\n",
              "      <td>36</td>\n",
              "      <td>B1</td>\n",
              "      <td>8</td>\n",
              "      <td>RENT</td>\n",
              "      <td>130000.0</td>\n",
              "      <td>credit_card</td>\n",
              "      <td>0</td>\n",
              "      <td>NaN</td>\n",
              "      <td>11</td>\n",
              "      <td>0</td>\n",
              "      <td>23025</td>\n",
              "      <td>37.0</td>\n",
              "      <td>0</td>\n",
              "      <td>0</td>\n",
              "      <td>0</td>\n",
              "      <td>0</td>\n",
              "      <td>60019</td>\n",
              "      <td>55800</td>\n",
              "      <td>Fully Paid</td>\n",
              "    </tr>\n",
              "    <tr>\n",
              "      <th>21000</th>\n",
              "      <td>513904</td>\n",
              "      <td>36</td>\n",
              "      <td>A1</td>\n",
              "      <td>10</td>\n",
              "      <td>RENT</td>\n",
              "      <td>120000.0</td>\n",
              "      <td>debt_consolidation</td>\n",
              "      <td>0</td>\n",
              "      <td>NaN</td>\n",
              "      <td>16</td>\n",
              "      <td>0</td>\n",
              "      <td>18641</td>\n",
              "      <td>35.0</td>\n",
              "      <td>0</td>\n",
              "      <td>0</td>\n",
              "      <td>0</td>\n",
              "      <td>0</td>\n",
              "      <td>37603</td>\n",
              "      <td>85031</td>\n",
              "      <td>Fully Paid</td>\n",
              "    </tr>\n",
              "    <tr>\n",
              "      <th>20000</th>\n",
              "      <td>551068</td>\n",
              "      <td>60</td>\n",
              "      <td>C1</td>\n",
              "      <td>10</td>\n",
              "      <td>OWN</td>\n",
              "      <td>40800.0</td>\n",
              "      <td>debt_consolidation</td>\n",
              "      <td>0</td>\n",
              "      <td>NaN</td>\n",
              "      <td>9</td>\n",
              "      <td>0</td>\n",
              "      <td>18477</td>\n",
              "      <td>18.0</td>\n",
              "      <td>0</td>\n",
              "      <td>0</td>\n",
              "      <td>0</td>\n",
              "      <td>0</td>\n",
              "      <td>0</td>\n",
              "      <td>0</td>\n",
              "      <td>Fully Paid</td>\n",
              "    </tr>\n",
              "    <tr>\n",
              "      <th>24975</th>\n",
              "      <td>572165</td>\n",
              "      <td>36</td>\n",
              "      <td>C1</td>\n",
              "      <td>9</td>\n",
              "      <td>MORTGAGE</td>\n",
              "      <td>57000.0</td>\n",
              "      <td>debt_consolidation</td>\n",
              "      <td>0</td>\n",
              "      <td>29.0</td>\n",
              "      <td>10</td>\n",
              "      <td>0</td>\n",
              "      <td>24313</td>\n",
              "      <td>25.0</td>\n",
              "      <td>1</td>\n",
              "      <td>29</td>\n",
              "      <td>0</td>\n",
              "      <td>94</td>\n",
              "      <td>170151</td>\n",
              "      <td>34000</td>\n",
              "      <td>Charged Off</td>\n",
              "    </tr>\n",
              "    <tr>\n",
              "      <th>3600</th>\n",
              "      <td>602177</td>\n",
              "      <td>36</td>\n",
              "      <td>A1</td>\n",
              "      <td>5</td>\n",
              "      <td>MORTGAGE</td>\n",
              "      <td>65000.0</td>\n",
              "      <td>personal</td>\n",
              "      <td>0</td>\n",
              "      <td>NaN</td>\n",
              "      <td>8</td>\n",
              "      <td>0</td>\n",
              "      <td>3920</td>\n",
              "      <td>22.0</td>\n",
              "      <td>0</td>\n",
              "      <td>0</td>\n",
              "      <td>0</td>\n",
              "      <td>0</td>\n",
              "      <td>0</td>\n",
              "      <td>0</td>\n",
              "      <td>Fully Paid</td>\n",
              "    </tr>\n",
              "    <tr>\n",
              "      <th>15000</th>\n",
              "      <td>603349</td>\n",
              "      <td>36</td>\n",
              "      <td>C4</td>\n",
              "      <td>0</td>\n",
              "      <td>MORTGAGE</td>\n",
              "      <td>72000.0</td>\n",
              "      <td>personal</td>\n",
              "      <td>0</td>\n",
              "      <td>62.0</td>\n",
              "      <td>18</td>\n",
              "      <td>1</td>\n",
              "      <td>11702</td>\n",
              "      <td>30.0</td>\n",
              "      <td>0</td>\n",
              "      <td>62</td>\n",
              "      <td>0</td>\n",
              "      <td>0</td>\n",
              "      <td>227890</td>\n",
              "      <td>26300</td>\n",
              "      <td>Fully Paid</td>\n",
              "    </tr>\n",
              "    <tr>\n",
              "      <th>1500</th>\n",
              "      <td>656281</td>\n",
              "      <td>36</td>\n",
              "      <td>C1</td>\n",
              "      <td>5</td>\n",
              "      <td>RENT</td>\n",
              "      <td>75000.0</td>\n",
              "      <td>other</td>\n",
              "      <td>0</td>\n",
              "      <td>30.0</td>\n",
              "      <td>3</td>\n",
              "      <td>0</td>\n",
              "      <td>3362</td>\n",
              "      <td>21.0</td>\n",
              "      <td>0</td>\n",
              "      <td>0</td>\n",
              "      <td>0</td>\n",
              "      <td>0</td>\n",
              "      <td>11451</td>\n",
              "      <td>3700</td>\n",
              "      <td>Fully Paid</td>\n",
              "    </tr>\n",
              "    <tr>\n",
              "      <th>12000</th>\n",
              "      <td>719419</td>\n",
              "      <td>36</td>\n",
              "      <td>B4</td>\n",
              "      <td>4</td>\n",
              "      <td>MORTGAGE</td>\n",
              "      <td>75000.0</td>\n",
              "      <td>debt_consolidation</td>\n",
              "      <td>0</td>\n",
              "      <td>NaN</td>\n",
              "      <td>16</td>\n",
              "      <td>0</td>\n",
              "      <td>31610</td>\n",
              "      <td>32.0</td>\n",
              "      <td>0</td>\n",
              "      <td>0</td>\n",
              "      <td>0</td>\n",
              "      <td>0</td>\n",
              "      <td>0</td>\n",
              "      <td>0</td>\n",
              "      <td>Fully Paid</td>\n",
              "    </tr>\n",
              "    <tr>\n",
              "      <th>4000</th>\n",
              "      <td>728541</td>\n",
              "      <td>36</td>\n",
              "      <td>B4</td>\n",
              "      <td>6</td>\n",
              "      <td>RENT</td>\n",
              "      <td>56208.0</td>\n",
              "      <td>debt_consolidation</td>\n",
              "      <td>0</td>\n",
              "      <td>71.0</td>\n",
              "      <td>14</td>\n",
              "      <td>0</td>\n",
              "      <td>10931</td>\n",
              "      <td>26.0</td>\n",
              "      <td>0</td>\n",
              "      <td>0</td>\n",
              "      <td>0</td>\n",
              "      <td>0</td>\n",
              "      <td>0</td>\n",
              "      <td>0</td>\n",
              "      <td>Fully Paid</td>\n",
              "    </tr>\n",
              "    <tr>\n",
              "      <th>28000</th>\n",
              "      <td>732403</td>\n",
              "      <td>36</td>\n",
              "      <td>A4</td>\n",
              "      <td>5</td>\n",
              "      <td>RENT</td>\n",
              "      <td>87000.0</td>\n",
              "      <td>personal</td>\n",
              "      <td>0</td>\n",
              "      <td>NaN</td>\n",
              "      <td>4</td>\n",
              "      <td>0</td>\n",
              "      <td>1350</td>\n",
              "      <td>13.0</td>\n",
              "      <td>0</td>\n",
              "      <td>0</td>\n",
              "      <td>0</td>\n",
              "      <td>0</td>\n",
              "      <td>0</td>\n",
              "      <td>0</td>\n",
              "      <td>Fully Paid</td>\n",
              "    </tr>\n",
              "    <tr>\n",
              "      <th>18000</th>\n",
              "      <td>734773</td>\n",
              "      <td>60</td>\n",
              "      <td>B1</td>\n",
              "      <td>10</td>\n",
              "      <td>MORTGAGE</td>\n",
              "      <td>72804.0</td>\n",
              "      <td>credit_card</td>\n",
              "      <td>0</td>\n",
              "      <td>NaN</td>\n",
              "      <td>21</td>\n",
              "      <td>0</td>\n",
              "      <td>8751</td>\n",
              "      <td>49.0</td>\n",
              "      <td>0</td>\n",
              "      <td>0</td>\n",
              "      <td>0</td>\n",
              "      <td>0</td>\n",
              "      <td>0</td>\n",
              "      <td>0</td>\n",
              "      <td>Current</td>\n",
              "    </tr>\n",
              "    <tr>\n",
              "      <th>7500</th>\n",
              "      <td>735990</td>\n",
              "      <td>36</td>\n",
              "      <td>A3</td>\n",
              "      <td>4</td>\n",
              "      <td>MORTGAGE</td>\n",
              "      <td>92000.0</td>\n",
              "      <td>credit_card</td>\n",
              "      <td>0</td>\n",
              "      <td>NaN</td>\n",
              "      <td>5</td>\n",
              "      <td>0</td>\n",
              "      <td>6419</td>\n",
              "      <td>20.0</td>\n",
              "      <td>0</td>\n",
              "      <td>0</td>\n",
              "      <td>0</td>\n",
              "      <td>0</td>\n",
              "      <td>265809</td>\n",
              "      <td>43000</td>\n",
              "      <td>Fully Paid</td>\n",
              "    </tr>\n",
              "    <tr>\n",
              "      <th>10000</th>\n",
              "      <td>749447</td>\n",
              "      <td>36</td>\n",
              "      <td>C1</td>\n",
              "      <td>10</td>\n",
              "      <td>RENT</td>\n",
              "      <td>55000.0</td>\n",
              "      <td>debt_consolidation</td>\n",
              "      <td>0</td>\n",
              "      <td>NaN</td>\n",
              "      <td>12</td>\n",
              "      <td>0</td>\n",
              "      <td>10019</td>\n",
              "      <td>16.0</td>\n",
              "      <td>0</td>\n",
              "      <td>0</td>\n",
              "      <td>0</td>\n",
              "      <td>0</td>\n",
              "      <td>0</td>\n",
              "      <td>0</td>\n",
              "      <td>Fully Paid</td>\n",
              "    </tr>\n",
              "    <tr>\n",
              "      <th>8000</th>\n",
              "      <td>752157</td>\n",
              "      <td>36</td>\n",
              "      <td>A3</td>\n",
              "      <td>5</td>\n",
              "      <td>RENT</td>\n",
              "      <td>96000.0</td>\n",
              "      <td>debt_consolidation</td>\n",
              "      <td>0</td>\n",
              "      <td>60.0</td>\n",
              "      <td>10</td>\n",
              "      <td>0</td>\n",
              "      <td>669</td>\n",
              "      <td>24.0</td>\n",
              "      <td>0</td>\n",
              "      <td>0</td>\n",
              "      <td>0</td>\n",
              "      <td>0</td>\n",
              "      <td>0</td>\n",
              "      <td>0</td>\n",
              "      <td>Fully Paid</td>\n",
              "    </tr>\n",
              "    <tr>\n",
              "      <th>12000</th>\n",
              "      <td>754658</td>\n",
              "      <td>36</td>\n",
              "      <td>A4</td>\n",
              "      <td>10</td>\n",
              "      <td>RENT</td>\n",
              "      <td>100000.0</td>\n",
              "      <td>debt_consolidation</td>\n",
              "      <td>0</td>\n",
              "      <td>NaN</td>\n",
              "      <td>3</td>\n",
              "      <td>0</td>\n",
              "      <td>157</td>\n",
              "      <td>12.0</td>\n",
              "      <td>0</td>\n",
              "      <td>0</td>\n",
              "      <td>0</td>\n",
              "      <td>0</td>\n",
              "      <td>0</td>\n",
              "      <td>0</td>\n",
              "      <td>Fully Paid</td>\n",
              "    </tr>\n",
              "    <tr>\n",
              "      <th>35000</th>\n",
              "      <td>771211</td>\n",
              "      <td>60</td>\n",
              "      <td>E3</td>\n",
              "      <td>7</td>\n",
              "      <td>MORTGAGE</td>\n",
              "      <td>114000.0</td>\n",
              "      <td>credit_card</td>\n",
              "      <td>1</td>\n",
              "      <td>18.0</td>\n",
              "      <td>19</td>\n",
              "      <td>0</td>\n",
              "      <td>38651</td>\n",
              "      <td>33.0</td>\n",
              "      <td>0</td>\n",
              "      <td>0</td>\n",
              "      <td>0</td>\n",
              "      <td>0</td>\n",
              "      <td>354982</td>\n",
              "      <td>79800</td>\n",
              "      <td>Fully Paid</td>\n",
              "    </tr>\n",
              "    <tr>\n",
              "      <th>18500</th>\n",
              "      <td>775731</td>\n",
              "      <td>36</td>\n",
              "      <td>A4</td>\n",
              "      <td>10</td>\n",
              "      <td>RENT</td>\n",
              "      <td>85200.0</td>\n",
              "      <td>credit_card</td>\n",
              "      <td>0</td>\n",
              "      <td>NaN</td>\n",
              "      <td>6</td>\n",
              "      <td>0</td>\n",
              "      <td>18437</td>\n",
              "      <td>15.0</td>\n",
              "      <td>0</td>\n",
              "      <td>0</td>\n",
              "      <td>0</td>\n",
              "      <td>0</td>\n",
              "      <td>0</td>\n",
              "      <td>0</td>\n",
              "      <td>Fully Paid</td>\n",
              "    </tr>\n",
              "    <tr>\n",
              "      <th>10000</th>\n",
              "      <td>778284</td>\n",
              "      <td>36</td>\n",
              "      <td>A1</td>\n",
              "      <td>1</td>\n",
              "      <td>MORTGAGE</td>\n",
              "      <td>108000.0</td>\n",
              "      <td>personal</td>\n",
              "      <td>0</td>\n",
              "      <td>50.0</td>\n",
              "      <td>10</td>\n",
              "      <td>0</td>\n",
              "      <td>4653</td>\n",
              "      <td>21.0</td>\n",
              "      <td>0</td>\n",
              "      <td>0</td>\n",
              "      <td>0</td>\n",
              "      <td>0</td>\n",
              "      <td>152402</td>\n",
              "      <td>46100</td>\n",
              "      <td>Fully Paid</td>\n",
              "    </tr>\n",
              "    <tr>\n",
              "      <th>8000</th>\n",
              "      <td>779705</td>\n",
              "      <td>36</td>\n",
              "      <td>D2</td>\n",
              "      <td>7</td>\n",
              "      <td>RENT</td>\n",
              "      <td>92500.0</td>\n",
              "      <td>debt_consolidation</td>\n",
              "      <td>3</td>\n",
              "      <td>9.0</td>\n",
              "      <td>19</td>\n",
              "      <td>0</td>\n",
              "      <td>9832</td>\n",
              "      <td>61.0</td>\n",
              "      <td>0</td>\n",
              "      <td>0</td>\n",
              "      <td>0</td>\n",
              "      <td>0</td>\n",
              "      <td>0</td>\n",
              "      <td>0</td>\n",
              "      <td>Fully Paid</td>\n",
              "    </tr>\n",
              "    <tr>\n",
              "      <th>3600</th>\n",
              "      <td>780866</td>\n",
              "      <td>36</td>\n",
              "      <td>B2</td>\n",
              "      <td>3</td>\n",
              "      <td>MORTGAGE</td>\n",
              "      <td>65000.0</td>\n",
              "      <td>personal</td>\n",
              "      <td>0</td>\n",
              "      <td>NaN</td>\n",
              "      <td>22</td>\n",
              "      <td>0</td>\n",
              "      <td>12936</td>\n",
              "      <td>32.0</td>\n",
              "      <td>0</td>\n",
              "      <td>0</td>\n",
              "      <td>0</td>\n",
              "      <td>0</td>\n",
              "      <td>175788</td>\n",
              "      <td>39400</td>\n",
              "      <td>Current</td>\n",
              "    </tr>\n",
              "    <tr>\n",
              "      <th>24000</th>\n",
              "      <td>782052</td>\n",
              "      <td>60</td>\n",
              "      <td>C4</td>\n",
              "      <td>10</td>\n",
              "      <td>MORTGAGE</td>\n",
              "      <td>92000.0</td>\n",
              "      <td>personal</td>\n",
              "      <td>1</td>\n",
              "      <td>16.0</td>\n",
              "      <td>19</td>\n",
              "      <td>0</td>\n",
              "      <td>10760</td>\n",
              "      <td>37.0</td>\n",
              "      <td>0</td>\n",
              "      <td>0</td>\n",
              "      <td>0</td>\n",
              "      <td>0</td>\n",
              "      <td>404255</td>\n",
              "      <td>19500</td>\n",
              "      <td>Current</td>\n",
              "    </tr>\n",
              "    <tr>\n",
              "      <th>20000</th>\n",
              "      <td>791320</td>\n",
              "      <td>36</td>\n",
              "      <td>C2</td>\n",
              "      <td>10</td>\n",
              "      <td>MORTGAGE</td>\n",
              "      <td>66000.0</td>\n",
              "      <td>debt_consolidation</td>\n",
              "      <td>1</td>\n",
              "      <td>19.0</td>\n",
              "      <td>12</td>\n",
              "      <td>0</td>\n",
              "      <td>8777</td>\n",
              "      <td>34.0</td>\n",
              "      <td>0</td>\n",
              "      <td>45</td>\n",
              "      <td>0</td>\n",
              "      <td>0</td>\n",
              "      <td>414879</td>\n",
              "      <td>15300</td>\n",
              "      <td>Fully Paid</td>\n",
              "    </tr>\n",
              "  </tbody>\n",
              "</table>\n",
              "</div>"
            ],
            "text/plain": [
              "           member_id  term  ... total_credit_rv  loan_status\n",
              "loan_amnt                   ...                             \n",
              "7200          149512    36  ...            4300   Fully Paid\n",
              "8000          384456    36  ...               0   Fully Paid\n",
              "16000         407046    36  ...           24800   Fully Paid\n",
              "35000         507531    36  ...           55800   Fully Paid\n",
              "21000         513904    36  ...           85031   Fully Paid\n",
              "20000         551068    60  ...               0   Fully Paid\n",
              "24975         572165    36  ...           34000  Charged Off\n",
              "3600          602177    36  ...               0   Fully Paid\n",
              "15000         603349    36  ...           26300   Fully Paid\n",
              "1500          656281    36  ...            3700   Fully Paid\n",
              "12000         719419    36  ...               0   Fully Paid\n",
              "4000          728541    36  ...               0   Fully Paid\n",
              "28000         732403    36  ...               0   Fully Paid\n",
              "18000         734773    60  ...               0      Current\n",
              "7500          735990    36  ...           43000   Fully Paid\n",
              "10000         749447    36  ...               0   Fully Paid\n",
              "8000          752157    36  ...               0   Fully Paid\n",
              "12000         754658    36  ...               0   Fully Paid\n",
              "35000         771211    60  ...           79800   Fully Paid\n",
              "18500         775731    36  ...               0   Fully Paid\n",
              "10000         778284    36  ...           46100   Fully Paid\n",
              "8000          779705    36  ...               0   Fully Paid\n",
              "3600          780866    36  ...           39400      Current\n",
              "24000         782052    60  ...           19500      Current\n",
              "20000         791320    36  ...           15300   Fully Paid\n",
              "\n",
              "[25 rows x 20 columns]"
            ]
          },
          "metadata": {
            "tags": []
          },
          "execution_count": 11
        }
      ]
    },
    {
      "cell_type": "markdown",
      "metadata": {
        "id": "wIxrtF9BuY0d"
      },
      "source": [
        "## Describe the data\n",
        "## XXXXXXXXXXXXX\n",
        "### Shows a list of summary statistics - what to look for?\n",
        "- Min and max for outliers\n",
        "- Count to see how many columns have NaN values\n",
        "![PandasSummaryStatistics.png](https://github.com/mbyanfei/AnalyticsSummit/blob/master/Apigian_NashAnalyticsPresentation/images/PandasSummaryStatistics.png?raw=1)\n",
        "https://pandas.pydata.org/pandas-docs/stable/basics.html"
      ]
    },
    {
      "cell_type": "code",
      "metadata": {
        "colab": {
          "base_uri": "https://localhost:8080/",
          "height": 315
        },
        "id": "l9Chlbd6uY0d",
        "outputId": "8c144ad2-397c-4fbc-fcf2-03af6f842244"
      },
      "source": [
        "df_loandata.describe()"
      ],
      "execution_count": 12,
      "outputs": [
        {
          "output_type": "execute_result",
          "data": {
            "text/html": [
              "<div>\n",
              "<style scoped>\n",
              "    .dataframe tbody tr th:only-of-type {\n",
              "        vertical-align: middle;\n",
              "    }\n",
              "\n",
              "    .dataframe tbody tr th {\n",
              "        vertical-align: top;\n",
              "    }\n",
              "\n",
              "    .dataframe thead th {\n",
              "        text-align: right;\n",
              "    }\n",
              "</style>\n",
              "<table border=\"1\" class=\"dataframe\">\n",
              "  <thead>\n",
              "    <tr style=\"text-align: right;\">\n",
              "      <th></th>\n",
              "      <th>member_id</th>\n",
              "      <th>term</th>\n",
              "      <th>emp_length</th>\n",
              "      <th>annual_inc</th>\n",
              "      <th>delinq_2yrs</th>\n",
              "      <th>mths_since_last_delinq</th>\n",
              "      <th>open_acc</th>\n",
              "      <th>pub_rec</th>\n",
              "      <th>revol_bal</th>\n",
              "      <th>total_acc</th>\n",
              "      <th>collections_12_mths_ex_med</th>\n",
              "      <th>mths_since_last_major_derog</th>\n",
              "      <th>acc_now_delinq</th>\n",
              "      <th>tot_coll_amt</th>\n",
              "      <th>tot_cur_debt</th>\n",
              "      <th>total_credit_rv</th>\n",
              "    </tr>\n",
              "  </thead>\n",
              "  <tbody>\n",
              "    <tr>\n",
              "      <th>count</th>\n",
              "      <td>4.987000e+04</td>\n",
              "      <td>49870.000000</td>\n",
              "      <td>49870.000000</td>\n",
              "      <td>4.987000e+04</td>\n",
              "      <td>49870.000000</td>\n",
              "      <td>21790.000000</td>\n",
              "      <td>49870.000000</td>\n",
              "      <td>49870.000000</td>\n",
              "      <td>4.987000e+04</td>\n",
              "      <td>49865.000000</td>\n",
              "      <td>49870.000000</td>\n",
              "      <td>49870.000000</td>\n",
              "      <td>49870.000000</td>\n",
              "      <td>49870.000000</td>\n",
              "      <td>4.987000e+04</td>\n",
              "      <td>4.987000e+04</td>\n",
              "    </tr>\n",
              "    <tr>\n",
              "      <th>mean</th>\n",
              "      <td>2.283604e+06</td>\n",
              "      <td>40.496330</td>\n",
              "      <td>5.776078</td>\n",
              "      <td>7.159109e+04</td>\n",
              "      <td>0.224343</td>\n",
              "      <td>36.095503</td>\n",
              "      <td>11.006778</td>\n",
              "      <td>0.056527</td>\n",
              "      <td>1.601605e+04</td>\n",
              "      <td>24.320967</td>\n",
              "      <td>0.001143</td>\n",
              "      <td>6.014478</td>\n",
              "      <td>0.000822</td>\n",
              "      <td>36.864287</td>\n",
              "      <td>9.455061e+04</td>\n",
              "      <td>2.072933e+04</td>\n",
              "    </tr>\n",
              "    <tr>\n",
              "      <th>std</th>\n",
              "      <td>8.031995e+05</td>\n",
              "      <td>9.364652</td>\n",
              "      <td>3.547176</td>\n",
              "      <td>8.712060e+04</td>\n",
              "      <td>0.671164</td>\n",
              "      <td>21.490493</td>\n",
              "      <td>4.543002</td>\n",
              "      <td>0.266042</td>\n",
              "      <td>1.845353e+04</td>\n",
              "      <td>11.029044</td>\n",
              "      <td>0.036085</td>\n",
              "      <td>16.748695</td>\n",
              "      <td>0.034386</td>\n",
              "      <td>556.180288</td>\n",
              "      <td>1.453257e+05</td>\n",
              "      <td>2.779434e+04</td>\n",
              "    </tr>\n",
              "    <tr>\n",
              "      <th>min</th>\n",
              "      <td>1.495120e+05</td>\n",
              "      <td>36.000000</td>\n",
              "      <td>0.000000</td>\n",
              "      <td>5.000000e+03</td>\n",
              "      <td>0.000000</td>\n",
              "      <td>1.000000</td>\n",
              "      <td>0.000000</td>\n",
              "      <td>0.000000</td>\n",
              "      <td>0.000000e+00</td>\n",
              "      <td>2.000000</td>\n",
              "      <td>0.000000</td>\n",
              "      <td>0.000000</td>\n",
              "      <td>0.000000</td>\n",
              "      <td>0.000000</td>\n",
              "      <td>0.000000e+00</td>\n",
              "      <td>0.000000e+00</td>\n",
              "    </tr>\n",
              "    <tr>\n",
              "      <th>25%</th>\n",
              "      <td>1.695031e+06</td>\n",
              "      <td>36.000000</td>\n",
              "      <td>2.000000</td>\n",
              "      <td>4.500000e+04</td>\n",
              "      <td>0.000000</td>\n",
              "      <td>18.000000</td>\n",
              "      <td>8.000000</td>\n",
              "      <td>0.000000</td>\n",
              "      <td>7.102250e+03</td>\n",
              "      <td>16.000000</td>\n",
              "      <td>0.000000</td>\n",
              "      <td>0.000000</td>\n",
              "      <td>0.000000</td>\n",
              "      <td>0.000000</td>\n",
              "      <td>0.000000e+00</td>\n",
              "      <td>0.000000e+00</td>\n",
              "    </tr>\n",
              "    <tr>\n",
              "      <th>50%</th>\n",
              "      <td>1.856641e+06</td>\n",
              "      <td>36.000000</td>\n",
              "      <td>6.000000</td>\n",
              "      <td>6.000000e+04</td>\n",
              "      <td>0.000000</td>\n",
              "      <td>33.000000</td>\n",
              "      <td>10.000000</td>\n",
              "      <td>0.000000</td>\n",
              "      <td>1.237350e+04</td>\n",
              "      <td>23.000000</td>\n",
              "      <td>0.000000</td>\n",
              "      <td>0.000000</td>\n",
              "      <td>0.000000</td>\n",
              "      <td>0.000000</td>\n",
              "      <td>3.054700e+04</td>\n",
              "      <td>1.540000e+04</td>\n",
              "    </tr>\n",
              "    <tr>\n",
              "      <th>75%</th>\n",
              "      <td>2.744758e+06</td>\n",
              "      <td>36.000000</td>\n",
              "      <td>10.000000</td>\n",
              "      <td>8.500000e+04</td>\n",
              "      <td>0.000000</td>\n",
              "      <td>52.000000</td>\n",
              "      <td>14.000000</td>\n",
              "      <td>0.000000</td>\n",
              "      <td>2.051675e+04</td>\n",
              "      <td>31.000000</td>\n",
              "      <td>0.000000</td>\n",
              "      <td>0.000000</td>\n",
              "      <td>0.000000</td>\n",
              "      <td>0.000000</td>\n",
              "      <td>1.479252e+05</td>\n",
              "      <td>2.970000e+04</td>\n",
              "    </tr>\n",
              "    <tr>\n",
              "      <th>max</th>\n",
              "      <td>4.076727e+06</td>\n",
              "      <td>60.000000</td>\n",
              "      <td>10.000000</td>\n",
              "      <td>1.236000e+07</td>\n",
              "      <td>18.000000</td>\n",
              "      <td>152.000000</td>\n",
              "      <td>53.000000</td>\n",
              "      <td>8.000000</td>\n",
              "      <td>1.743266e+06</td>\n",
              "      <td>99.000000</td>\n",
              "      <td>2.000000</td>\n",
              "      <td>152.000000</td>\n",
              "      <td>4.000000</td>\n",
              "      <td>55009.000000</td>\n",
              "      <td>8.000078e+06</td>\n",
              "      <td>2.013133e+06</td>\n",
              "    </tr>\n",
              "  </tbody>\n",
              "</table>\n",
              "</div>"
            ],
            "text/plain": [
              "          member_id          term  ...  tot_cur_debt  total_credit_rv\n",
              "count  4.987000e+04  49870.000000  ...  4.987000e+04     4.987000e+04\n",
              "mean   2.283604e+06     40.496330  ...  9.455061e+04     2.072933e+04\n",
              "std    8.031995e+05      9.364652  ...  1.453257e+05     2.779434e+04\n",
              "min    1.495120e+05     36.000000  ...  0.000000e+00     0.000000e+00\n",
              "25%    1.695031e+06     36.000000  ...  0.000000e+00     0.000000e+00\n",
              "50%    1.856641e+06     36.000000  ...  3.054700e+04     1.540000e+04\n",
              "75%    2.744758e+06     36.000000  ...  1.479252e+05     2.970000e+04\n",
              "max    4.076727e+06     60.000000  ...  8.000078e+06     2.013133e+06\n",
              "\n",
              "[8 rows x 16 columns]"
            ]
          },
          "metadata": {
            "tags": []
          },
          "execution_count": 12
        }
      ]
    },
    {
      "cell_type": "code",
      "metadata": {
        "colab": {
          "base_uri": "https://localhost:8080/"
        },
        "id": "_gOTbqi2uY0e",
        "outputId": "1b25ab69-d12f-4cee-97f0-ce9e4f8f1fdf"
      },
      "source": [
        "df_loandata['annual_inc'].median()"
      ],
      "execution_count": 13,
      "outputs": [
        {
          "output_type": "execute_result",
          "data": {
            "text/plain": [
              "60000.0"
            ]
          },
          "metadata": {
            "tags": []
          },
          "execution_count": 13
        }
      ]
    },
    {
      "cell_type": "code",
      "metadata": {
        "colab": {
          "base_uri": "https://localhost:8080/"
        },
        "id": "QMR9z61nuY0f",
        "outputId": "47549f2d-bbcf-4310-ba6c-6adbf9757ff2"
      },
      "source": [
        "df_loandata['annual_inc'].mean()"
      ],
      "execution_count": 14,
      "outputs": [
        {
          "output_type": "execute_result",
          "data": {
            "text/plain": [
              "71591.08597754166"
            ]
          },
          "metadata": {
            "tags": []
          },
          "execution_count": 14
        }
      ]
    },
    {
      "cell_type": "code",
      "metadata": {
        "colab": {
          "base_uri": "https://localhost:8080/"
        },
        "id": "BdBA1SQTuY0f",
        "outputId": "0820e367-643b-4dde-d392-c793c8f97a1c"
      },
      "source": [
        "df_loandata['annual_inc'].kurt()"
      ],
      "execution_count": 15,
      "outputs": [
        {
          "output_type": "execute_result",
          "data": {
            "text/plain": [
              "9485.59746960201"
            ]
          },
          "metadata": {
            "tags": []
          },
          "execution_count": 15
        }
      ]
    },
    {
      "cell_type": "code",
      "metadata": {
        "colab": {
          "base_uri": "https://localhost:8080/",
          "height": 561
        },
        "id": "hp2CCPwjuY0f",
        "outputId": "c7111993-4e19-4779-9468-73ce3ea1d381"
      },
      "source": [
        "df_loandata.corr()"
      ],
      "execution_count": 16,
      "outputs": [
        {
          "output_type": "execute_result",
          "data": {
            "text/html": [
              "<div>\n",
              "<style scoped>\n",
              "    .dataframe tbody tr th:only-of-type {\n",
              "        vertical-align: middle;\n",
              "    }\n",
              "\n",
              "    .dataframe tbody tr th {\n",
              "        vertical-align: top;\n",
              "    }\n",
              "\n",
              "    .dataframe thead th {\n",
              "        text-align: right;\n",
              "    }\n",
              "</style>\n",
              "<table border=\"1\" class=\"dataframe\">\n",
              "  <thead>\n",
              "    <tr style=\"text-align: right;\">\n",
              "      <th></th>\n",
              "      <th>member_id</th>\n",
              "      <th>term</th>\n",
              "      <th>emp_length</th>\n",
              "      <th>annual_inc</th>\n",
              "      <th>delinq_2yrs</th>\n",
              "      <th>mths_since_last_delinq</th>\n",
              "      <th>open_acc</th>\n",
              "      <th>pub_rec</th>\n",
              "      <th>revol_bal</th>\n",
              "      <th>total_acc</th>\n",
              "      <th>collections_12_mths_ex_med</th>\n",
              "      <th>mths_since_last_major_derog</th>\n",
              "      <th>acc_now_delinq</th>\n",
              "      <th>tot_coll_amt</th>\n",
              "      <th>tot_cur_debt</th>\n",
              "      <th>total_credit_rv</th>\n",
              "    </tr>\n",
              "  </thead>\n",
              "  <tbody>\n",
              "    <tr>\n",
              "      <th>member_id</th>\n",
              "      <td>1.000000</td>\n",
              "      <td>0.016009</td>\n",
              "      <td>0.047172</td>\n",
              "      <td>0.047410</td>\n",
              "      <td>0.027957</td>\n",
              "      <td>-0.013445</td>\n",
              "      <td>0.056721</td>\n",
              "      <td>0.188628</td>\n",
              "      <td>0.087216</td>\n",
              "      <td>0.075352</td>\n",
              "      <td>0.041292</td>\n",
              "      <td>0.131181</td>\n",
              "      <td>0.031552</td>\n",
              "      <td>0.034155</td>\n",
              "      <td>0.272884</td>\n",
              "      <td>0.295545</td>\n",
              "    </tr>\n",
              "    <tr>\n",
              "      <th>term</th>\n",
              "      <td>0.016009</td>\n",
              "      <td>1.000000</td>\n",
              "      <td>0.091551</td>\n",
              "      <td>0.068021</td>\n",
              "      <td>0.012631</td>\n",
              "      <td>-0.019062</td>\n",
              "      <td>0.081851</td>\n",
              "      <td>-0.017797</td>\n",
              "      <td>0.122441</td>\n",
              "      <td>0.126942</td>\n",
              "      <td>0.000457</td>\n",
              "      <td>-0.014655</td>\n",
              "      <td>0.010938</td>\n",
              "      <td>-0.007853</td>\n",
              "      <td>0.101901</td>\n",
              "      <td>0.079184</td>\n",
              "    </tr>\n",
              "    <tr>\n",
              "      <th>emp_length</th>\n",
              "      <td>0.047172</td>\n",
              "      <td>0.091551</td>\n",
              "      <td>1.000000</td>\n",
              "      <td>0.059992</td>\n",
              "      <td>0.033516</td>\n",
              "      <td>-0.014936</td>\n",
              "      <td>0.046458</td>\n",
              "      <td>0.022189</td>\n",
              "      <td>0.104092</td>\n",
              "      <td>0.130888</td>\n",
              "      <td>0.003566</td>\n",
              "      <td>0.020530</td>\n",
              "      <td>0.007099</td>\n",
              "      <td>0.002899</td>\n",
              "      <td>0.099146</td>\n",
              "      <td>0.080826</td>\n",
              "    </tr>\n",
              "    <tr>\n",
              "      <th>annual_inc</th>\n",
              "      <td>0.047410</td>\n",
              "      <td>0.068021</td>\n",
              "      <td>0.059992</td>\n",
              "      <td>1.000000</td>\n",
              "      <td>0.041609</td>\n",
              "      <td>-0.047817</td>\n",
              "      <td>0.093873</td>\n",
              "      <td>-0.009339</td>\n",
              "      <td>0.248416</td>\n",
              "      <td>0.144454</td>\n",
              "      <td>0.001418</td>\n",
              "      <td>0.001158</td>\n",
              "      <td>0.003267</td>\n",
              "      <td>0.000931</td>\n",
              "      <td>0.293814</td>\n",
              "      <td>0.195372</td>\n",
              "    </tr>\n",
              "    <tr>\n",
              "      <th>delinq_2yrs</th>\n",
              "      <td>0.027957</td>\n",
              "      <td>0.012631</td>\n",
              "      <td>0.033516</td>\n",
              "      <td>0.041609</td>\n",
              "      <td>1.000000</td>\n",
              "      <td>-0.583592</td>\n",
              "      <td>0.054435</td>\n",
              "      <td>-0.025428</td>\n",
              "      <td>-0.024312</td>\n",
              "      <td>0.147723</td>\n",
              "      <td>0.011768</td>\n",
              "      <td>0.060983</td>\n",
              "      <td>0.068469</td>\n",
              "      <td>0.006185</td>\n",
              "      <td>0.085196</td>\n",
              "      <td>-0.003990</td>\n",
              "    </tr>\n",
              "    <tr>\n",
              "      <th>mths_since_last_delinq</th>\n",
              "      <td>-0.013445</td>\n",
              "      <td>-0.019062</td>\n",
              "      <td>-0.014936</td>\n",
              "      <td>-0.047817</td>\n",
              "      <td>-0.583592</td>\n",
              "      <td>1.000000</td>\n",
              "      <td>-0.017556</td>\n",
              "      <td>0.044569</td>\n",
              "      <td>-0.006879</td>\n",
              "      <td>-0.070118</td>\n",
              "      <td>-0.014451</td>\n",
              "      <td>0.191318</td>\n",
              "      <td>-0.051696</td>\n",
              "      <td>0.020036</td>\n",
              "      <td>-0.072567</td>\n",
              "      <td>-0.031899</td>\n",
              "    </tr>\n",
              "    <tr>\n",
              "      <th>open_acc</th>\n",
              "      <td>0.056721</td>\n",
              "      <td>0.081851</td>\n",
              "      <td>0.046458</td>\n",
              "      <td>0.093873</td>\n",
              "      <td>0.054435</td>\n",
              "      <td>-0.017556</td>\n",
              "      <td>1.000000</td>\n",
              "      <td>-0.007733</td>\n",
              "      <td>0.226263</td>\n",
              "      <td>0.661931</td>\n",
              "      <td>0.019035</td>\n",
              "      <td>0.022603</td>\n",
              "      <td>0.014598</td>\n",
              "      <td>0.008430</td>\n",
              "      <td>0.188848</td>\n",
              "      <td>0.248495</td>\n",
              "    </tr>\n",
              "    <tr>\n",
              "      <th>pub_rec</th>\n",
              "      <td>0.188628</td>\n",
              "      <td>-0.017797</td>\n",
              "      <td>0.022189</td>\n",
              "      <td>-0.009339</td>\n",
              "      <td>-0.025428</td>\n",
              "      <td>0.044569</td>\n",
              "      <td>-0.007733</td>\n",
              "      <td>1.000000</td>\n",
              "      <td>-0.063448</td>\n",
              "      <td>-0.004663</td>\n",
              "      <td>0.020424</td>\n",
              "      <td>0.019284</td>\n",
              "      <td>0.012456</td>\n",
              "      <td>0.025654</td>\n",
              "      <td>0.001079</td>\n",
              "      <td>-0.028967</td>\n",
              "    </tr>\n",
              "    <tr>\n",
              "      <th>revol_bal</th>\n",
              "      <td>0.087216</td>\n",
              "      <td>0.122441</td>\n",
              "      <td>0.104092</td>\n",
              "      <td>0.248416</td>\n",
              "      <td>-0.024312</td>\n",
              "      <td>-0.006879</td>\n",
              "      <td>0.226263</td>\n",
              "      <td>-0.063448</td>\n",
              "      <td>1.000000</td>\n",
              "      <td>0.232609</td>\n",
              "      <td>0.000166</td>\n",
              "      <td>-0.064138</td>\n",
              "      <td>0.001522</td>\n",
              "      <td>-0.018377</td>\n",
              "      <td>0.403285</td>\n",
              "      <td>0.713280</td>\n",
              "    </tr>\n",
              "    <tr>\n",
              "      <th>total_acc</th>\n",
              "      <td>0.075352</td>\n",
              "      <td>0.126942</td>\n",
              "      <td>0.130888</td>\n",
              "      <td>0.144454</td>\n",
              "      <td>0.147723</td>\n",
              "      <td>-0.070118</td>\n",
              "      <td>0.661931</td>\n",
              "      <td>-0.004663</td>\n",
              "      <td>0.232609</td>\n",
              "      <td>1.000000</td>\n",
              "      <td>0.007140</td>\n",
              "      <td>0.092267</td>\n",
              "      <td>0.014321</td>\n",
              "      <td>0.019103</td>\n",
              "      <td>0.272089</td>\n",
              "      <td>0.239322</td>\n",
              "    </tr>\n",
              "    <tr>\n",
              "      <th>collections_12_mths_ex_med</th>\n",
              "      <td>0.041292</td>\n",
              "      <td>0.000457</td>\n",
              "      <td>0.003566</td>\n",
              "      <td>0.001418</td>\n",
              "      <td>0.011768</td>\n",
              "      <td>-0.014451</td>\n",
              "      <td>0.019035</td>\n",
              "      <td>0.020424</td>\n",
              "      <td>0.000166</td>\n",
              "      <td>0.007140</td>\n",
              "      <td>1.000000</td>\n",
              "      <td>0.016562</td>\n",
              "      <td>0.047725</td>\n",
              "      <td>0.035642</td>\n",
              "      <td>0.018249</td>\n",
              "      <td>0.013142</td>\n",
              "    </tr>\n",
              "    <tr>\n",
              "      <th>mths_since_last_major_derog</th>\n",
              "      <td>0.131181</td>\n",
              "      <td>-0.014655</td>\n",
              "      <td>0.020530</td>\n",
              "      <td>0.001158</td>\n",
              "      <td>0.060983</td>\n",
              "      <td>0.191318</td>\n",
              "      <td>0.022603</td>\n",
              "      <td>0.019284</td>\n",
              "      <td>-0.064138</td>\n",
              "      <td>0.092267</td>\n",
              "      <td>0.016562</td>\n",
              "      <td>1.000000</td>\n",
              "      <td>0.001511</td>\n",
              "      <td>0.067197</td>\n",
              "      <td>0.079128</td>\n",
              "      <td>0.017507</td>\n",
              "    </tr>\n",
              "    <tr>\n",
              "      <th>acc_now_delinq</th>\n",
              "      <td>0.031552</td>\n",
              "      <td>0.010938</td>\n",
              "      <td>0.007099</td>\n",
              "      <td>0.003267</td>\n",
              "      <td>0.068469</td>\n",
              "      <td>-0.051696</td>\n",
              "      <td>0.014598</td>\n",
              "      <td>0.012456</td>\n",
              "      <td>0.001522</td>\n",
              "      <td>0.014321</td>\n",
              "      <td>0.047725</td>\n",
              "      <td>0.001511</td>\n",
              "      <td>1.000000</td>\n",
              "      <td>0.020149</td>\n",
              "      <td>0.016539</td>\n",
              "      <td>0.014043</td>\n",
              "    </tr>\n",
              "    <tr>\n",
              "      <th>tot_coll_amt</th>\n",
              "      <td>0.034155</td>\n",
              "      <td>-0.007853</td>\n",
              "      <td>0.002899</td>\n",
              "      <td>0.000931</td>\n",
              "      <td>0.006185</td>\n",
              "      <td>0.020036</td>\n",
              "      <td>0.008430</td>\n",
              "      <td>0.025654</td>\n",
              "      <td>-0.018377</td>\n",
              "      <td>0.019103</td>\n",
              "      <td>0.035642</td>\n",
              "      <td>0.067197</td>\n",
              "      <td>0.020149</td>\n",
              "      <td>1.000000</td>\n",
              "      <td>0.021787</td>\n",
              "      <td>0.005584</td>\n",
              "    </tr>\n",
              "    <tr>\n",
              "      <th>tot_cur_debt</th>\n",
              "      <td>0.272884</td>\n",
              "      <td>0.101901</td>\n",
              "      <td>0.099146</td>\n",
              "      <td>0.293814</td>\n",
              "      <td>0.085196</td>\n",
              "      <td>-0.072567</td>\n",
              "      <td>0.188848</td>\n",
              "      <td>0.001079</td>\n",
              "      <td>0.403285</td>\n",
              "      <td>0.272089</td>\n",
              "      <td>0.018249</td>\n",
              "      <td>0.079128</td>\n",
              "      <td>0.016539</td>\n",
              "      <td>0.021787</td>\n",
              "      <td>1.000000</td>\n",
              "      <td>0.539712</td>\n",
              "    </tr>\n",
              "    <tr>\n",
              "      <th>total_credit_rv</th>\n",
              "      <td>0.295545</td>\n",
              "      <td>0.079184</td>\n",
              "      <td>0.080826</td>\n",
              "      <td>0.195372</td>\n",
              "      <td>-0.003990</td>\n",
              "      <td>-0.031899</td>\n",
              "      <td>0.248495</td>\n",
              "      <td>-0.028967</td>\n",
              "      <td>0.713280</td>\n",
              "      <td>0.239322</td>\n",
              "      <td>0.013142</td>\n",
              "      <td>0.017507</td>\n",
              "      <td>0.014043</td>\n",
              "      <td>0.005584</td>\n",
              "      <td>0.539712</td>\n",
              "      <td>1.000000</td>\n",
              "    </tr>\n",
              "  </tbody>\n",
              "</table>\n",
              "</div>"
            ],
            "text/plain": [
              "                             member_id      term  ...  tot_cur_debt  total_credit_rv\n",
              "member_id                     1.000000  0.016009  ...      0.272884         0.295545\n",
              "term                          0.016009  1.000000  ...      0.101901         0.079184\n",
              "emp_length                    0.047172  0.091551  ...      0.099146         0.080826\n",
              "annual_inc                    0.047410  0.068021  ...      0.293814         0.195372\n",
              "delinq_2yrs                   0.027957  0.012631  ...      0.085196        -0.003990\n",
              "mths_since_last_delinq       -0.013445 -0.019062  ...     -0.072567        -0.031899\n",
              "open_acc                      0.056721  0.081851  ...      0.188848         0.248495\n",
              "pub_rec                       0.188628 -0.017797  ...      0.001079        -0.028967\n",
              "revol_bal                     0.087216  0.122441  ...      0.403285         0.713280\n",
              "total_acc                     0.075352  0.126942  ...      0.272089         0.239322\n",
              "collections_12_mths_ex_med    0.041292  0.000457  ...      0.018249         0.013142\n",
              "mths_since_last_major_derog   0.131181 -0.014655  ...      0.079128         0.017507\n",
              "acc_now_delinq                0.031552  0.010938  ...      0.016539         0.014043\n",
              "tot_coll_amt                  0.034155 -0.007853  ...      0.021787         0.005584\n",
              "tot_cur_debt                  0.272884  0.101901  ...      1.000000         0.539712\n",
              "total_credit_rv               0.295545  0.079184  ...      0.539712         1.000000\n",
              "\n",
              "[16 rows x 16 columns]"
            ]
          },
          "metadata": {
            "tags": []
          },
          "execution_count": 16
        }
      ]
    },
    {
      "cell_type": "code",
      "metadata": {
        "id": "wm0PRlY0xp2B"
      },
      "source": [
        "df_loandata = df_loandata.reset_index()"
      ],
      "execution_count": 20,
      "outputs": []
    },
    {
      "cell_type": "code",
      "metadata": {
        "colab": {
          "base_uri": "https://localhost:8080/",
          "height": 223
        },
        "id": "vgMmyKhCyCN3",
        "outputId": "8e11d9f8-ecfc-4a69-b3fa-74a19e7764d0"
      },
      "source": [
        "df_loandata.head()"
      ],
      "execution_count": 21,
      "outputs": [
        {
          "output_type": "execute_result",
          "data": {
            "text/html": [
              "<div>\n",
              "<style scoped>\n",
              "    .dataframe tbody tr th:only-of-type {\n",
              "        vertical-align: middle;\n",
              "    }\n",
              "\n",
              "    .dataframe tbody tr th {\n",
              "        vertical-align: top;\n",
              "    }\n",
              "\n",
              "    .dataframe thead th {\n",
              "        text-align: right;\n",
              "    }\n",
              "</style>\n",
              "<table border=\"1\" class=\"dataframe\">\n",
              "  <thead>\n",
              "    <tr style=\"text-align: right;\">\n",
              "      <th></th>\n",
              "      <th>loan_amnt</th>\n",
              "      <th>member_id</th>\n",
              "      <th>term</th>\n",
              "      <th>sub_grade</th>\n",
              "      <th>emp_length</th>\n",
              "      <th>home_ownership</th>\n",
              "      <th>annual_inc</th>\n",
              "      <th>purpose</th>\n",
              "      <th>delinq_2yrs</th>\n",
              "      <th>mths_since_last_delinq</th>\n",
              "      <th>open_acc</th>\n",
              "      <th>pub_rec</th>\n",
              "      <th>revol_bal</th>\n",
              "      <th>total_acc</th>\n",
              "      <th>collections_12_mths_ex_med</th>\n",
              "      <th>mths_since_last_major_derog</th>\n",
              "      <th>acc_now_delinq</th>\n",
              "      <th>tot_coll_amt</th>\n",
              "      <th>tot_cur_debt</th>\n",
              "      <th>total_credit_rv</th>\n",
              "      <th>loan_status</th>\n",
              "    </tr>\n",
              "  </thead>\n",
              "  <tbody>\n",
              "    <tr>\n",
              "      <th>0</th>\n",
              "      <td>7200</td>\n",
              "      <td>149512</td>\n",
              "      <td>36</td>\n",
              "      <td>D4</td>\n",
              "      <td>9</td>\n",
              "      <td>RENT</td>\n",
              "      <td>58000.0</td>\n",
              "      <td>debt_consolidation</td>\n",
              "      <td>0</td>\n",
              "      <td>26.0</td>\n",
              "      <td>6</td>\n",
              "      <td>0</td>\n",
              "      <td>3874</td>\n",
              "      <td>25.0</td>\n",
              "      <td>0</td>\n",
              "      <td>30</td>\n",
              "      <td>0</td>\n",
              "      <td>0</td>\n",
              "      <td>154930</td>\n",
              "      <td>4300</td>\n",
              "      <td>Fully Paid</td>\n",
              "    </tr>\n",
              "    <tr>\n",
              "      <th>1</th>\n",
              "      <td>8000</td>\n",
              "      <td>384456</td>\n",
              "      <td>36</td>\n",
              "      <td>B3</td>\n",
              "      <td>10</td>\n",
              "      <td>MORTGAGE</td>\n",
              "      <td>64000.0</td>\n",
              "      <td>debt_consolidation</td>\n",
              "      <td>0</td>\n",
              "      <td>NaN</td>\n",
              "      <td>8</td>\n",
              "      <td>0</td>\n",
              "      <td>29797</td>\n",
              "      <td>22.0</td>\n",
              "      <td>0</td>\n",
              "      <td>0</td>\n",
              "      <td>0</td>\n",
              "      <td>0</td>\n",
              "      <td>0</td>\n",
              "      <td>0</td>\n",
              "      <td>Fully Paid</td>\n",
              "    </tr>\n",
              "    <tr>\n",
              "      <th>2</th>\n",
              "      <td>16000</td>\n",
              "      <td>407046</td>\n",
              "      <td>36</td>\n",
              "      <td>B1</td>\n",
              "      <td>4</td>\n",
              "      <td>RENT</td>\n",
              "      <td>55000.0</td>\n",
              "      <td>debt_consolidation</td>\n",
              "      <td>0</td>\n",
              "      <td>NaN</td>\n",
              "      <td>12</td>\n",
              "      <td>0</td>\n",
              "      <td>6840</td>\n",
              "      <td>38.0</td>\n",
              "      <td>0</td>\n",
              "      <td>0</td>\n",
              "      <td>0</td>\n",
              "      <td>0</td>\n",
              "      <td>29116</td>\n",
              "      <td>24800</td>\n",
              "      <td>Fully Paid</td>\n",
              "    </tr>\n",
              "    <tr>\n",
              "      <th>3</th>\n",
              "      <td>35000</td>\n",
              "      <td>507531</td>\n",
              "      <td>36</td>\n",
              "      <td>B1</td>\n",
              "      <td>8</td>\n",
              "      <td>RENT</td>\n",
              "      <td>130000.0</td>\n",
              "      <td>credit_card</td>\n",
              "      <td>0</td>\n",
              "      <td>NaN</td>\n",
              "      <td>11</td>\n",
              "      <td>0</td>\n",
              "      <td>23025</td>\n",
              "      <td>37.0</td>\n",
              "      <td>0</td>\n",
              "      <td>0</td>\n",
              "      <td>0</td>\n",
              "      <td>0</td>\n",
              "      <td>60019</td>\n",
              "      <td>55800</td>\n",
              "      <td>Fully Paid</td>\n",
              "    </tr>\n",
              "    <tr>\n",
              "      <th>4</th>\n",
              "      <td>21000</td>\n",
              "      <td>513904</td>\n",
              "      <td>36</td>\n",
              "      <td>A1</td>\n",
              "      <td>10</td>\n",
              "      <td>RENT</td>\n",
              "      <td>120000.0</td>\n",
              "      <td>debt_consolidation</td>\n",
              "      <td>0</td>\n",
              "      <td>NaN</td>\n",
              "      <td>16</td>\n",
              "      <td>0</td>\n",
              "      <td>18641</td>\n",
              "      <td>35.0</td>\n",
              "      <td>0</td>\n",
              "      <td>0</td>\n",
              "      <td>0</td>\n",
              "      <td>0</td>\n",
              "      <td>37603</td>\n",
              "      <td>85031</td>\n",
              "      <td>Fully Paid</td>\n",
              "    </tr>\n",
              "  </tbody>\n",
              "</table>\n",
              "</div>"
            ],
            "text/plain": [
              "   loan_amnt  member_id  term  ... tot_cur_debt  total_credit_rv loan_status\n",
              "0       7200     149512    36  ...       154930             4300  Fully Paid\n",
              "1       8000     384456    36  ...            0                0  Fully Paid\n",
              "2      16000     407046    36  ...        29116            24800  Fully Paid\n",
              "3      35000     507531    36  ...        60019            55800  Fully Paid\n",
              "4      21000     513904    36  ...        37603            85031  Fully Paid\n",
              "\n",
              "[5 rows x 21 columns]"
            ]
          },
          "metadata": {
            "tags": []
          },
          "execution_count": 21
        }
      ]
    },
    {
      "cell_type": "code",
      "metadata": {
        "colab": {
          "base_uri": "https://localhost:8080/",
          "height": 203
        },
        "id": "wbQdxKBJuY0f",
        "outputId": "9653edde-f8f1-4356-d20b-532324454daf"
      },
      "source": [
        "df_loandata[['loan_amnt', 'annual_inc', 'revol_bal', 'total_acc', 'tot_coll_amt']].corr()"
      ],
      "execution_count": 22,
      "outputs": [
        {
          "output_type": "execute_result",
          "data": {
            "text/html": [
              "<div>\n",
              "<style scoped>\n",
              "    .dataframe tbody tr th:only-of-type {\n",
              "        vertical-align: middle;\n",
              "    }\n",
              "\n",
              "    .dataframe tbody tr th {\n",
              "        vertical-align: top;\n",
              "    }\n",
              "\n",
              "    .dataframe thead th {\n",
              "        text-align: right;\n",
              "    }\n",
              "</style>\n",
              "<table border=\"1\" class=\"dataframe\">\n",
              "  <thead>\n",
              "    <tr style=\"text-align: right;\">\n",
              "      <th></th>\n",
              "      <th>loan_amnt</th>\n",
              "      <th>annual_inc</th>\n",
              "      <th>revol_bal</th>\n",
              "      <th>total_acc</th>\n",
              "      <th>tot_coll_amt</th>\n",
              "    </tr>\n",
              "  </thead>\n",
              "  <tbody>\n",
              "    <tr>\n",
              "      <th>loan_amnt</th>\n",
              "      <td>1.000000</td>\n",
              "      <td>0.229937</td>\n",
              "      <td>0.317752</td>\n",
              "      <td>0.252457</td>\n",
              "      <td>-0.015075</td>\n",
              "    </tr>\n",
              "    <tr>\n",
              "      <th>annual_inc</th>\n",
              "      <td>0.229937</td>\n",
              "      <td>1.000000</td>\n",
              "      <td>0.248416</td>\n",
              "      <td>0.144454</td>\n",
              "      <td>0.000931</td>\n",
              "    </tr>\n",
              "    <tr>\n",
              "      <th>revol_bal</th>\n",
              "      <td>0.317752</td>\n",
              "      <td>0.248416</td>\n",
              "      <td>1.000000</td>\n",
              "      <td>0.232609</td>\n",
              "      <td>-0.018377</td>\n",
              "    </tr>\n",
              "    <tr>\n",
              "      <th>total_acc</th>\n",
              "      <td>0.252457</td>\n",
              "      <td>0.144454</td>\n",
              "      <td>0.232609</td>\n",
              "      <td>1.000000</td>\n",
              "      <td>0.019103</td>\n",
              "    </tr>\n",
              "    <tr>\n",
              "      <th>tot_coll_amt</th>\n",
              "      <td>-0.015075</td>\n",
              "      <td>0.000931</td>\n",
              "      <td>-0.018377</td>\n",
              "      <td>0.019103</td>\n",
              "      <td>1.000000</td>\n",
              "    </tr>\n",
              "  </tbody>\n",
              "</table>\n",
              "</div>"
            ],
            "text/plain": [
              "              loan_amnt  annual_inc  revol_bal  total_acc  tot_coll_amt\n",
              "loan_amnt      1.000000    0.229937   0.317752   0.252457     -0.015075\n",
              "annual_inc     0.229937    1.000000   0.248416   0.144454      0.000931\n",
              "revol_bal      0.317752    0.248416   1.000000   0.232609     -0.018377\n",
              "total_acc      0.252457    0.144454   0.232609   1.000000      0.019103\n",
              "tot_coll_amt  -0.015075    0.000931  -0.018377   0.019103      1.000000"
            ]
          },
          "metadata": {
            "tags": []
          },
          "execution_count": 22
        }
      ]
    },
    {
      "cell_type": "code",
      "metadata": {
        "id": "zbDe6rxoyiOk"
      },
      "source": [
        "del df_lonadata"
      ],
      "execution_count": 23,
      "outputs": []
    },
    {
      "cell_type": "code",
      "metadata": {
        "colab": {
          "base_uri": "https://localhost:8080/"
        },
        "id": "I1sxDwhhuY0g",
        "outputId": "8266d12f-6c37-4f88-f025-e0fa5abf154a"
      },
      "source": [
        "df_loandata.term.value_counts() #Should probably encode term as 0 or 1"
      ],
      "execution_count": 24,
      "outputs": [
        {
          "output_type": "execute_result",
          "data": {
            "text/plain": [
              "36    40527\n",
              "60     9343\n",
              "Name: term, dtype: int64"
            ]
          },
          "metadata": {
            "tags": []
          },
          "execution_count": 24
        }
      ]
    },
    {
      "cell_type": "code",
      "metadata": {
        "id": "T_GJQARKuY0g"
      },
      "source": [
        "df_loandata_explore = df_loandata[['loan_amnt', 'emp_length', 'annual_inc', 'revol_bal', 'tot_cur_debt', 'total_credit_rv', 'purpose']]"
      ],
      "execution_count": 25,
      "outputs": []
    },
    {
      "cell_type": "code",
      "metadata": {
        "colab": {
          "base_uri": "https://localhost:8080/"
        },
        "id": "Y4wcdgBkuY0g",
        "outputId": "1ca1bf7d-e31a-45f7-be77-e63ebd3f2e0b"
      },
      "source": [
        "df_loandata_explore.info()"
      ],
      "execution_count": 26,
      "outputs": [
        {
          "output_type": "stream",
          "text": [
            "<class 'pandas.core.frame.DataFrame'>\n",
            "RangeIndex: 49870 entries, 0 to 49869\n",
            "Data columns (total 7 columns):\n",
            " #   Column           Non-Null Count  Dtype  \n",
            "---  ------           --------------  -----  \n",
            " 0   loan_amnt        49870 non-null  int64  \n",
            " 1   emp_length       49870 non-null  int64  \n",
            " 2   annual_inc       49870 non-null  float64\n",
            " 3   revol_bal        49870 non-null  int64  \n",
            " 4   tot_cur_debt     49870 non-null  int64  \n",
            " 5   total_credit_rv  49870 non-null  int64  \n",
            " 6   purpose          49870 non-null  object \n",
            "dtypes: float64(1), int64(5), object(1)\n",
            "memory usage: 2.7+ MB\n"
          ],
          "name": "stdout"
        }
      ]
    },
    {
      "cell_type": "code",
      "metadata": {
        "colab": {
          "base_uri": "https://localhost:8080/",
          "height": 1000
        },
        "id": "8AMjit7NuY0g",
        "outputId": "bf4d21c1-57cf-48a6-8af9-f48cfcaf8655"
      },
      "source": [
        "sns.pairplot(df_loandata_explore, hue = 'purpose')"
      ],
      "execution_count": 27,
      "outputs": [
        {
          "output_type": "execute_result",
          "data": {
            "text/plain": [
              "<seaborn.axisgrid.PairGrid at 0x7fe7366e0590>"
            ]
          },
          "metadata": {
            "tags": []
          },
          "execution_count": 27
        },
        {
          "output_type": "display_data",
          "data": {
            "image/png": "[encoded data removed]",
            "text/plain": [
              "<Figure size 1210.12x1080 with 42 Axes>"
            ]
          },
          "metadata": {
            "tags": [],
            "needs_background": "light"
          }
        }
      ]
    },
    {
      "cell_type": "code",
      "metadata": {
        "id": "a1v7VdbsuY0g"
      },
      "source": [
        "df_loandata_explore_num = df_loandata_explore.drop('purpose', axis = 1)"
      ],
      "execution_count": 28,
      "outputs": []
    },
    {
      "cell_type": "code",
      "metadata": {
        "colab": {
          "base_uri": "https://localhost:8080/",
          "height": 741
        },
        "id": "l5RnNDmZuY0h",
        "outputId": "e3238de1-cd03-4692-ba2d-80f04c29a2d0"
      },
      "source": [
        "colormap = plt.cm.viridis\n",
        "plt.figure(figsize=(14,12))\n",
        "plt.title('Pearson Correlation of Features', y=1.05, size=15)\n",
        "sns.heatmap(df_loandata_explore_num.astype(float).corr(),linewidths=0.1,vmax=1.0, square=True, cmap=colormap, linecolor='white', annot=True)"
      ],
      "execution_count": 29,
      "outputs": [
        {
          "output_type": "execute_result",
          "data": {
            "text/plain": [
              "<matplotlib.axes._subplots.AxesSubplot at 0x7fe73684d490>"
            ]
          },
          "metadata": {
            "tags": []
          },
          "execution_count": 29
        },
        {
          "output_type": "display_data",
          "data": {
            "image/png": "[encoded data removed]",
            "text/plain": [
              "<Figure size 1008x864 with 2 Axes>"
            ]
          },
          "metadata": {
            "tags": [],
            "needs_background": "light"
          }
        }
      ]
    },
    {
      "cell_type": "code",
      "metadata": {
        "colab": {
          "base_uri": "https://localhost:8080/",
          "height": 286
        },
        "id": "f4-tKRm7uY0h",
        "outputId": "63e4e5a3-0cc5-4bfd-88a7-293193d6dc1f"
      },
      "source": [
        "sns.set(style=\"ticks\", palette=\"pastel\")\n",
        "ax2 = sns.boxplot(y='loan_amnt', x = 'purpose',  data=df_loandata_explore)\n"
      ],
      "execution_count": 30,
      "outputs": [
        {
          "output_type": "display_data",
          "data": {
            "image/png": "[encoded data removed]",
            "text/plain": [
              "<Figure size 432x288 with 1 Axes>"
            ]
          },
          "metadata": {
            "tags": []
          }
        }
      ]
    },
    {
      "cell_type": "code",
      "metadata": {
        "colab": {
          "base_uri": "https://localhost:8080/"
        },
        "id": "QpG8I1CCuY0h",
        "outputId": "6dd77990-897c-451c-f976-ee8646e5efc5"
      },
      "source": [
        "df_loandata_explore.info()"
      ],
      "execution_count": 31,
      "outputs": [
        {
          "output_type": "stream",
          "text": [
            "<class 'pandas.core.frame.DataFrame'>\n",
            "RangeIndex: 49870 entries, 0 to 49869\n",
            "Data columns (total 7 columns):\n",
            " #   Column           Non-Null Count  Dtype  \n",
            "---  ------           --------------  -----  \n",
            " 0   loan_amnt        49870 non-null  int64  \n",
            " 1   emp_length       49870 non-null  int64  \n",
            " 2   annual_inc       49870 non-null  float64\n",
            " 3   revol_bal        49870 non-null  int64  \n",
            " 4   tot_cur_debt     49870 non-null  int64  \n",
            " 5   total_credit_rv  49870 non-null  int64  \n",
            " 6   purpose          49870 non-null  object \n",
            "dtypes: float64(1), int64(5), object(1)\n",
            "memory usage: 2.7+ MB\n"
          ],
          "name": "stdout"
        }
      ]
    },
    {
      "cell_type": "code",
      "metadata": {
        "colab": {
          "base_uri": "https://localhost:8080/"
        },
        "id": "InoHbrAd15Sw",
        "outputId": "ae09ebb1-71b0-485a-d78d-158a857a4002"
      },
      "source": [
        "pd.set_option('display.float_format', lambda x: '%.1f' % x)\n",
        "print(df_loandata_explore['annual_inc'])"
      ],
      "execution_count": 37,
      "outputs": [
        {
          "output_type": "stream",
          "text": [
            "0        58000.0\n",
            "1        64000.0\n",
            "2        55000.0\n",
            "3       130000.0\n",
            "4       120000.0\n",
            "          ...   \n",
            "49865   125000.0\n",
            "49866    81000.0\n",
            "49867   110000.0\n",
            "49868   108000.0\n",
            "49869    35000.0\n",
            "Name: annual_inc, Length: 49870, dtype: float64\n"
          ],
          "name": "stdout"
        }
      ]
    },
    {
      "cell_type": "code",
      "metadata": {
        "colab": {
          "base_uri": "https://localhost:8080/"
        },
        "id": "VhsShf0M4iZ0",
        "outputId": "695adcfb-64fc-4900-a5ea-817fe4a0453e"
      },
      "source": [
        "print(df_loandata_explore['revol_bal'])"
      ],
      "execution_count": 39,
      "outputs": [
        {
          "output_type": "stream",
          "text": [
            "0         3874\n",
            "1        29797\n",
            "2         6840\n",
            "3        23025\n",
            "4        18641\n",
            "         ...  \n",
            "49865    29123\n",
            "49866    32651\n",
            "49867    23691\n",
            "49868    37822\n",
            "49869     6602\n",
            "Name: revol_bal, Length: 49870, dtype: int64\n"
          ],
          "name": "stdout"
        }
      ]
    },
    {
      "cell_type": "code",
      "metadata": {
        "id": "jHAxepNk7Ia9"
      },
      "source": [
        "axes[1,0].ticklabel_format(style='plain', axis='y')"
      ],
      "execution_count": 41,
      "outputs": []
    },
    {
      "cell_type": "code",
      "metadata": {
        "colab": {
          "base_uri": "https://localhost:8080/",
          "height": 901
        },
        "id": "Y6tmCD2JuY0h",
        "outputId": "a2af0f61-cc91-466e-8a74-19b5b4f80309"
      },
      "source": [
        "f, axes = plt.subplots(3, 2, figsize=(15, 15), sharex=True)\n",
        "sns.boxplot(y='loan_amnt', x = 'purpose',  data=df_loandata_explore, ax=axes[0,0])\n",
        "sns.boxplot(y='emp_length', x = 'purpose',  data=df_loandata_explore, ax=axes[0,1])\n",
        "sns.boxplot(y='annual_inc', x = 'purpose',  data=df_loandata_explore, ax=axes[1,0])\n",
        "sns.boxplot(y='revol_bal', x = 'purpose',  data=df_loandata_explore, ax=axes[1,1])\n",
        "sns.boxplot(y='tot_cur_debt', x = 'purpose',  data=df_loandata_explore, ax=axes[2,0])\n",
        "sns.boxplot(y='total_credit_rv', x = 'purpose',  data=df_loandata_explore, ax=axes[2,1])"
      ],
      "execution_count": 42,
      "outputs": [
        {
          "output_type": "execute_result",
          "data": {
            "text/plain": [
              "<matplotlib.axes._subplots.AxesSubplot at 0x7fe726172210>"
            ]
          },
          "metadata": {
            "tags": []
          },
          "execution_count": 42
        },
        {
          "output_type": "display_data",
          "data": {
            "image/png": "[encoded data removed]",
            "text/plain": [
              "<Figure size 1080x1080 with 6 Axes>"
            ]
          },
          "metadata": {
            "tags": []
          }
        }
      ]
    },
    {
      "cell_type": "markdown",
      "metadata": {
        "id": "FcZUuo26uY0i"
      },
      "source": [
        "# --------------------------------------------------------------------------------\n",
        "# XXXXXXXXXXXXXXXXXX  Cleanse the  Data XXXXXXXXXXXXXXXXXX\n",
        "# --------------------------------------------------------------------------------"
      ]
    },
    {
      "cell_type": "code",
      "metadata": {
        "id": "tZ6oSv1VuY0i"
      },
      "source": [
        "df_loandata.info()"
      ],
      "execution_count": null,
      "outputs": []
    },
    {
      "cell_type": "markdown",
      "metadata": {
        "id": "RSmAF5p_uY0i"
      },
      "source": [
        "## Fill with a specific value\n",
        "\n",
        "- Change all NaN values to 0."
      ]
    },
    {
      "cell_type": "code",
      "metadata": {
        "id": "Thk5aRiEuY0j"
      },
      "source": [
        "df_loandata.mths_since_last_delinq.isnull().sum()"
      ],
      "execution_count": null,
      "outputs": []
    },
    {
      "cell_type": "code",
      "metadata": {
        "id": "0Xm6jtynuY0j"
      },
      "source": [
        "df_loandata['mths_since_last_delinq'] = df_loandata['mths_since_last_delinq'].fillna(0)"
      ],
      "execution_count": null,
      "outputs": []
    },
    {
      "cell_type": "code",
      "metadata": {
        "id": "yUkWReLBuY0j"
      },
      "source": [
        "df_loandata.info()"
      ],
      "execution_count": null,
      "outputs": []
    },
    {
      "cell_type": "markdown",
      "metadata": {
        "id": "dGAy55ImuY0j"
      },
      "source": [
        "## Fill in the mean for total_acc"
      ]
    },
    {
      "cell_type": "code",
      "metadata": {
        "id": "xGiBmuH6uY0k"
      },
      "source": [
        "pd.pivot_table(df_loandata,index=[\"purpose\"], values=[\"total_acc\"])"
      ],
      "execution_count": null,
      "outputs": []
    },
    {
      "cell_type": "code",
      "metadata": {
        "id": "EuKEf2k4uY0k"
      },
      "source": [
        "mean_value = df_loandata['total_acc'].mean()\n",
        "df_loandata['total_acc'] = df_loandata['total_acc'].fillna(mean_value)"
      ],
      "execution_count": null,
      "outputs": []
    },
    {
      "cell_type": "code",
      "metadata": {
        "id": "UFTQPO7EuY0k"
      },
      "source": [
        "df_loandata.info()"
      ],
      "execution_count": null,
      "outputs": []
    },
    {
      "cell_type": "markdown",
      "metadata": {
        "id": "R7NyHrDPuY0k"
      },
      "source": [
        "## What is going on with Annual Income?"
      ]
    },
    {
      "cell_type": "code",
      "metadata": {
        "scrolled": true,
        "id": "EmmbsioVuY0k"
      },
      "source": [
        "df_loandata['annual_inc'].describe()"
      ],
      "execution_count": null,
      "outputs": []
    },
    {
      "cell_type": "code",
      "metadata": {
        "id": "zbT-AYezuY0l"
      },
      "source": [
        "df_loandata['annual_inc'].median()"
      ],
      "execution_count": null,
      "outputs": []
    },
    {
      "cell_type": "code",
      "metadata": {
        "id": "1x8hVN2ZuY0l"
      },
      "source": [
        "df_loandata.head()"
      ],
      "execution_count": null,
      "outputs": []
    },
    {
      "cell_type": "code",
      "metadata": {
        "id": "yKannWNwuY0l"
      },
      "source": [
        "df_loandata[df_loandata['annual_inc'] >10000000]"
      ],
      "execution_count": null,
      "outputs": []
    },
    {
      "cell_type": "markdown",
      "metadata": {
        "id": "KZg0HI0JuY0l"
      },
      "source": [
        "### Mistake in entering the annual_inc - forgot to add the decimal places - should be 123,600.00 not 12,360,000."
      ]
    },
    {
      "cell_type": "code",
      "metadata": {
        "id": "edWaHHWvuY0l"
      },
      "source": [
        "df_loandata.loc[[2968827], [\"annual_inc\"]]"
      ],
      "execution_count": null,
      "outputs": []
    },
    {
      "cell_type": "code",
      "metadata": {
        "id": "RQimgZYVuY0l"
      },
      "source": [
        "df_loandata.loc[[2968827], [\"annual_inc\"]]=123600"
      ],
      "execution_count": null,
      "outputs": []
    },
    {
      "cell_type": "code",
      "metadata": {
        "id": "rDdBRflFuY0m"
      },
      "source": [
        "df_loandata.loc[[2968827], [\"annual_inc\"]]"
      ],
      "execution_count": null,
      "outputs": []
    },
    {
      "cell_type": "code",
      "metadata": {
        "id": "9Ns-DEdwuY0m"
      },
      "source": [
        "sns.boxplot(y='annual_inc', x = 'purpose',  data=df_loandata)"
      ],
      "execution_count": null,
      "outputs": []
    },
    {
      "cell_type": "code",
      "metadata": {
        "id": "Y7ENfYOUuY0m"
      },
      "source": [
        "f, axes = plt.subplots(2, 2, figsize=(15, 15), sharex=True)\n",
        "sns.boxplot(y='annual_inc', x = 'purpose',  data=df_loandata, ax=axes[0,0])\n",
        "sns.boxplot(y='revol_bal', x = 'purpose',  data=df_loandata, ax=axes[0,1])\n",
        "sns.boxplot(y='tot_cur_debt', x = 'purpose',  data=df_loandata, ax=axes[1,0])\n",
        "sns.boxplot(y='total_credit_rv', x = 'purpose',  data=df_loandata, ax=axes[1,1])"
      ],
      "execution_count": null,
      "outputs": []
    },
    {
      "cell_type": "code",
      "metadata": {
        "id": "LqzQBTBwuY0m"
      },
      "source": [
        "df_loandata.drop(df_loandata[df_loandata.annual_inc > 1000000].index, inplace=True)\n",
        "df_loandata.drop(df_loandata[df_loandata.revol_bal > 750000].index, inplace=True)\n",
        "df_loandata.drop(df_loandata[df_loandata.tot_cur_debt > 3000000].index, inplace=True)\n",
        "df_loandata.drop(df_loandata[df_loandata.total_credit_rv > 750000].index, inplace=True)"
      ],
      "execution_count": null,
      "outputs": []
    },
    {
      "cell_type": "code",
      "metadata": {
        "id": "p-_P3PjFuY0m"
      },
      "source": [
        "f, axes = plt.subplots(2, 2, figsize=(15, 15), sharex=True)\n",
        "sns.boxplot(y='annual_inc', x = 'purpose',  data=df_loandata, ax=axes[0,0])\n",
        "sns.boxplot(y='revol_bal', x = 'purpose',  data=df_loandata, ax=axes[0,1])\n",
        "sns.boxplot(y='tot_cur_debt', x = 'purpose',  data=df_loandata, ax=axes[1,0])\n",
        "sns.boxplot(y='total_credit_rv', x = 'purpose',  data=df_loandata, ax=axes[1,1])"
      ],
      "execution_count": null,
      "outputs": []
    },
    {
      "cell_type": "code",
      "metadata": {
        "id": "WG192AUYuY0n"
      },
      "source": [
        "sns.boxplot(x='annual_inc', y = 'purpose' ,data=df_loandata)"
      ],
      "execution_count": null,
      "outputs": []
    },
    {
      "cell_type": "markdown",
      "metadata": {
        "collapsed": true,
        "id": "kQW3ZcO7uY0n"
      },
      "source": [
        "# --------------------------------------------------------------------------------\n",
        "# XXXXXXXXXXXXXXXXX  Transform the Data XXXXXXXXXXXXXXXXX\n",
        "# --------------------------------------------------------------------------------"
      ]
    },
    {
      "cell_type": "markdown",
      "metadata": {
        "id": "aUtpr6FeuY0n"
      },
      "source": [
        "## Re-coding of categorical data\n",
        "\n",
        "<br>\n",
        "### 3 ways to recode categorical data\n",
        "- **label encoder** - changes categories to integers based on alphabetical order\n",
        "- **hot one encoder** - changes one column of categorical data into several binary (dummy) columns\n",
        "- **use a custom function** for changing categories to integers"
      ]
    },
    {
      "cell_type": "markdown",
      "metadata": {
        "id": "oHPeHAh-uY0n"
      },
      "source": [
        "## Re-Label using Label Encoding"
      ]
    },
    {
      "cell_type": "code",
      "metadata": {
        "id": "2wAdaL4_uY0o"
      },
      "source": [
        "from sklearn.preprocessing import LabelEncoder"
      ],
      "execution_count": null,
      "outputs": []
    },
    {
      "cell_type": "code",
      "metadata": {
        "id": "GYQcYYjZuY0o"
      },
      "source": [
        "lc = LabelEncoder()"
      ],
      "execution_count": null,
      "outputs": []
    },
    {
      "cell_type": "code",
      "metadata": {
        "id": "tEeWz46nuY0o"
      },
      "source": [
        "df_loandata.sub_grade.value_counts()"
      ],
      "execution_count": null,
      "outputs": []
    },
    {
      "cell_type": "code",
      "metadata": {
        "id": "66APFQ7guY0o"
      },
      "source": [
        "df_loandata.head()"
      ],
      "execution_count": null,
      "outputs": []
    },
    {
      "cell_type": "code",
      "metadata": {
        "id": "uxHNVBiquY0o"
      },
      "source": [
        "df_loandata['sub_grade'] = lc.fit_transform(df_loandata['sub_grade'])"
      ],
      "execution_count": null,
      "outputs": []
    },
    {
      "cell_type": "code",
      "metadata": {
        "id": "aZzhqRQ1uY0o"
      },
      "source": [
        "df_loandata.sub_grade.value_counts()"
      ],
      "execution_count": null,
      "outputs": []
    },
    {
      "cell_type": "markdown",
      "metadata": {
        "id": "vJ_XWdM3uY0p"
      },
      "source": [
        "## Dummy Variables - Hot one encoding"
      ]
    },
    {
      "cell_type": "code",
      "metadata": {
        "id": "PwEt2eObuY0p"
      },
      "source": [
        "dummies_home = pd.get_dummies(df_loandata['home_ownership'], drop_first = False)\n",
        "dummies_purpose = pd.get_dummies(df_loandata['purpose'], drop_first = False)"
      ],
      "execution_count": null,
      "outputs": []
    },
    {
      "cell_type": "code",
      "metadata": {
        "id": "xSEpEEunuY0p"
      },
      "source": [
        "dummies_home.info()\n",
        "dummies_purpose.info()"
      ],
      "execution_count": null,
      "outputs": []
    },
    {
      "cell_type": "code",
      "metadata": {
        "id": "v4MXa7VEuY0p"
      },
      "source": [
        "df_loandata = pd.concat([df_loandata, dummies_home, dummies_purpose], axis = 1)\n",
        "df_loandata.info()"
      ],
      "execution_count": null,
      "outputs": []
    },
    {
      "cell_type": "code",
      "metadata": {
        "id": "BxpBTo0HuY0p"
      },
      "source": [
        "df_loandata = df_loandata.drop([\"home_ownership\", \"purpose\"], axis = 1)"
      ],
      "execution_count": null,
      "outputs": []
    },
    {
      "cell_type": "code",
      "metadata": {
        "scrolled": true,
        "id": "erloZ4BouY0q"
      },
      "source": [
        "df_loandata.info()"
      ],
      "execution_count": null,
      "outputs": []
    },
    {
      "cell_type": "code",
      "metadata": {
        "id": "jqX5bdoQuY0q"
      },
      "source": [
        "df_loandata.head()"
      ],
      "execution_count": null,
      "outputs": []
    },
    {
      "cell_type": "markdown",
      "metadata": {
        "id": "u2nXV-Z_uY0q"
      },
      "source": [
        "## Create own numerical category"
      ]
    },
    {
      "cell_type": "code",
      "metadata": {
        "id": "9MDvoALGuY0r"
      },
      "source": [
        "df_loandata.loan_status.value_counts()"
      ],
      "execution_count": null,
      "outputs": []
    },
    {
      "cell_type": "code",
      "metadata": {
        "id": "Z-HUtY25uY0r"
      },
      "source": [
        "def loanBad(d):\n",
        "    if d['loan_status'] == 'Charged Off':\n",
        "        return 1\n",
        "    elif d['loan_status'] == 'In Grace Period':\n",
        "        return 1\n",
        "    else:\n",
        "        return 0\n",
        "df_loandata['loan_is_bad'] = df_loandata.apply(loanBad, axis = 1)\n",
        "df_loandata.head()"
      ],
      "execution_count": null,
      "outputs": []
    },
    {
      "cell_type": "markdown",
      "metadata": {
        "id": "LIHCpflpuY0s"
      },
      "source": [
        "## Create your target dataset"
      ]
    },
    {
      "cell_type": "code",
      "metadata": {
        "id": "mniGDvBvuY0s"
      },
      "source": [
        "y = df_loandata['loan_is_bad']\n",
        "y.value_counts()"
      ],
      "execution_count": null,
      "outputs": []
    },
    {
      "cell_type": "code",
      "metadata": {
        "id": "egZp2zl0uY0t"
      },
      "source": [
        "df_loandata = df_loandata.drop('loan_status', axis = 1) #this drops the target variable from your original dataset,\n",
        "# axis = 1 refers to dropping a column - where axis = 0 would drop row"
      ],
      "execution_count": null,
      "outputs": []
    },
    {
      "cell_type": "markdown",
      "metadata": {
        "id": "8FiIab48uY0t"
      },
      "source": [
        "## Save a copy of the data as a csv file\n",
        "### Why at this point?\n",
        "- includes target and feature variables"
      ]
    },
    {
      "cell_type": "code",
      "metadata": {
        "id": "pJflZLImuY0t"
      },
      "source": [
        "df_loandata.to_csv('LoanData_Cleansed.csv')"
      ],
      "execution_count": null,
      "outputs": []
    },
    {
      "cell_type": "markdown",
      "metadata": {
        "id": "c3WE2-sVuY0t"
      },
      "source": [
        "### Create you Feature Dataset"
      ]
    },
    {
      "cell_type": "code",
      "metadata": {
        "id": "8xYLHufYuY0u"
      },
      "source": [
        "X = df_loandata.drop('loan_is_bad', axis = 1)\n",
        "X.info()"
      ],
      "execution_count": null,
      "outputs": []
    },
    {
      "cell_type": "code",
      "metadata": {
        "id": "AK_u8cGZuY0v"
      },
      "source": [
        "X.head()"
      ],
      "execution_count": null,
      "outputs": []
    },
    {
      "cell_type": "markdown",
      "metadata": {
        "id": "6ddliQ1suY0w"
      },
      "source": [
        "# YAY!YAY!YAY!YAY!YAY!YAY!YAY!YAY!YAY!YAY!YAY!YAY!YAY!YAY!YAY!YAY!YAY!\n",
        "\n",
        "# You have create your X and y datasets.  You are ready to model and analyze.\n",
        " \n",
        "# YAY!YAY!YAY!YAY!YAY!YAY!YAY!YAY!YAY!YAY!YAY!YAY!YAY!YAY!YAY!YAY!YAY!"
      ]
    },
    {
      "cell_type": "code",
      "metadata": {
        "id": "QyMPbeUbuY0w"
      },
      "source": [
        ""
      ],
      "execution_count": null,
      "outputs": []
    },
    {
      "cell_type": "markdown",
      "metadata": {
        "id": "KOuM-gUiuY0w"
      },
      "source": [
        "# --------------------------------------------------------------------------------\n",
        "# XXXXXXXXXXXXXXXXXXX  Split the Data XXXXXXXXXXXXXXXXXXX\n",
        "# --------------------------------------------------------------------------------"
      ]
    },
    {
      "cell_type": "code",
      "metadata": {
        "id": "P6vOj5myuY0w"
      },
      "source": [
        "from sklearn.model_selection import train_test_split\n",
        "from sklearn.preprocessing import StandardScaler"
      ],
      "execution_count": null,
      "outputs": []
    },
    {
      "cell_type": "code",
      "metadata": {
        "id": "MHWteFheuY0x"
      },
      "source": [
        "X_train, X_test, y_train, y_test = train_test_split(X, y, test_size = 0.3, random_state = 42)"
      ],
      "execution_count": null,
      "outputs": []
    },
    {
      "cell_type": "code",
      "metadata": {
        "id": "kjYtBBlguY0x"
      },
      "source": [
        "y_train"
      ],
      "execution_count": null,
      "outputs": []
    },
    {
      "cell_type": "code",
      "metadata": {
        "id": "aSwUxVBJuY0x"
      },
      "source": [
        "y_train.values.reshape(-1,1)"
      ],
      "execution_count": null,
      "outputs": []
    },
    {
      "cell_type": "markdown",
      "metadata": {
        "id": "5UpYbYAUuY0x"
      },
      "source": [
        "## Feature Scaling\n",
        "- StandardScaler\n",
        "    - The StandardScaler assumes your data is normally distributed within each feature and will scale them such that the distribution is now centred around 0, with a standard deviation of 1.\n",
        "    ![alt text](images/StandardScalar.png \"Standard\")\n",
        "- MinMaxScaler\n",
        "    - The MinMaxScaler is the probably the most famous scaling algorithm, and follows the following formula for each feature:\n",
        "    ![alt text](images/MinMaxScalar.png \"MinMax\")\n",
        "    \n",
        "\n",
        "From http://benalexkeen.com/feature-scaling-with-scikit-learn/"
      ]
    },
    {
      "cell_type": "code",
      "metadata": {
        "id": "y-ztlRpduY0y"
      },
      "source": [
        "X_train.head()"
      ],
      "execution_count": null,
      "outputs": []
    },
    {
      "cell_type": "code",
      "metadata": {
        "scrolled": true,
        "id": "B6XZLaObuY0y"
      },
      "source": [
        "scaler = StandardScaler()\n",
        "\n",
        "X_train_sc = scaler.fit_transform(X_train)\n",
        "X_train_sc = pd.DataFrame(X_train_sc, columns=X_train.columns)\n",
        "\n",
        "\n",
        "\n",
        "X_test_sc = scaler.fit_transform(X_test)\n",
        "X_test_sc = pd.DataFrame(X_test_sc, columns=X_test.columns)"
      ],
      "execution_count": null,
      "outputs": []
    },
    {
      "cell_type": "markdown",
      "metadata": {
        "id": "S0ZXs4y8uY0y"
      },
      "source": [
        "## To scale or not to scale?? Why after the split?"
      ]
    },
    {
      "cell_type": "code",
      "metadata": {
        "id": "zblWgGYbuY0y"
      },
      "source": [
        "fig, (ax1, ax2) = plt.subplots(ncols=2, figsize=(20, 5))\n",
        "\n",
        "ax1.set_title('Before Scaling')\n",
        "sns.kdeplot(X_train['loan_amnt'], ax=ax1)\n",
        "sns.kdeplot(X_train['annual_inc'], ax=ax1)\n",
        "sns.kdeplot(X_train['tot_cur_debt'], ax=ax1)\n",
        "ax2.set_title('After Standard Scaler')\n",
        "sns.kdeplot(X_train_sc['loan_amnt'], ax=ax2)\n",
        "sns.kdeplot(X_train_sc['annual_inc'], ax=ax2)\n",
        "sns.kdeplot(X_train_sc['tot_cur_debt'], ax=ax2)\n",
        "plt.show()"
      ],
      "execution_count": null,
      "outputs": []
    },
    {
      "cell_type": "code",
      "metadata": {
        "scrolled": true,
        "id": "EssRBGp-uY0z"
      },
      "source": [
        "X_train_sc.head()"
      ],
      "execution_count": null,
      "outputs": []
    },
    {
      "cell_type": "code",
      "metadata": {
        "id": "fZFn7i3uuY0z"
      },
      "source": [
        "X_test_sc.head()"
      ],
      "execution_count": null,
      "outputs": []
    },
    {
      "cell_type": "markdown",
      "metadata": {
        "id": "CgznMCbpuY0z"
      },
      "source": [
        "# --------------------------------------------------------------------------------\n",
        "# XXXXXXXXXXXXXXX  Select and Run the Model XXXXXXXXXXXXXXX\n",
        "# --------------------------------------------------------------------------------"
      ]
    },
    {
      "cell_type": "code",
      "metadata": {
        "id": "muGlzMLpuY0z"
      },
      "source": [
        ""
      ],
      "execution_count": null,
      "outputs": []
    },
    {
      "cell_type": "markdown",
      "metadata": {
        "collapsed": true,
        "id": "esNUaIaYuY0z"
      },
      "source": [
        "# XXXXXXXXXXXXXXXXXXXXXXXXXXXXXXXXXXXXXXXXXXXXXXXXXXXXX\n",
        "# Classification\n"
      ]
    },
    {
      "cell_type": "markdown",
      "metadata": {
        "id": "dSh-UxG6uY0z"
      },
      "source": [
        "### Logistic Regression\n",
        "using non-scaled data"
      ]
    },
    {
      "cell_type": "code",
      "metadata": {
        "id": "0N9-1lzUuY00"
      },
      "source": [
        "loan_names=X_train.columns.values"
      ],
      "execution_count": null,
      "outputs": []
    },
    {
      "cell_type": "code",
      "metadata": {
        "id": "x1NLaz64uY00"
      },
      "source": [
        "from sklearn.linear_model import LogisticRegression\n",
        "from sklearn.metrics import confusion_matrix, classification_report"
      ],
      "execution_count": null,
      "outputs": []
    },
    {
      "cell_type": "code",
      "metadata": {
        "id": "SAsKAHO-uY00"
      },
      "source": [
        "#without weights\n",
        "logr = LogisticRegression()\n",
        "logr.fit(X_train, y_train)\n",
        "score = logr.score(X_test, y_test)\n",
        "print(score)\n",
        "print(\"\")\n",
        "log_pred = logr.predict(X_test)\n",
        "print(confusion_matrix(y_test, log_pred))\n",
        "print(\"\")\n",
        "print(classification_report(y_test, log_pred))"
      ],
      "execution_count": null,
      "outputs": []
    },
    {
      "cell_type": "markdown",
      "metadata": {
        "id": "RHvmlv3JuY00"
      },
      "source": [
        "# --------------------------------------------------------------------------------\n",
        "# XXXXXXXXXXXXXXXXX  Fine Tune the Model XXXXXXXXXXXXXXXXX\n",
        "# --------------------------------------------------------------------------------"
      ]
    },
    {
      "cell_type": "markdown",
      "metadata": {
        "id": "eiDPsluBuY00"
      },
      "source": [
        "### Logistic Regression w/ Scaler"
      ]
    },
    {
      "cell_type": "code",
      "metadata": {
        "id": "x5Ea4A1huY01"
      },
      "source": [
        "logrsc = LogisticRegression(class_weight = {0:1, 1:3})\n",
        "logrsc.fit(X_train_sc, y_train)\n",
        "score = logrsc.score(X_test_sc, y_test)\n",
        "score"
      ],
      "execution_count": null,
      "outputs": []
    },
    {
      "cell_type": "code",
      "metadata": {
        "id": "wqmMTAADuY01"
      },
      "source": [
        "scaled_pred = logrsc.predict(X_test_sc)"
      ],
      "execution_count": null,
      "outputs": []
    },
    {
      "cell_type": "code",
      "metadata": {
        "scrolled": true,
        "id": "kIukROPkuY01"
      },
      "source": [
        "print(classification_report(y_test, scaled_pred))"
      ],
      "execution_count": null,
      "outputs": []
    },
    {
      "cell_type": "code",
      "metadata": {
        "scrolled": true,
        "id": "zjuMCXMxuY01"
      },
      "source": [
        "print(confusion_matrix(y_test, scaled_pred))"
      ],
      "execution_count": null,
      "outputs": []
    },
    {
      "cell_type": "markdown",
      "metadata": {
        "id": "PNsVIMWouY01"
      },
      "source": [
        "### Decision Tree\n",
        "![Decision-Tree-Algorithms.png](https://github.com/mbyanfei/AnalyticsSummit/blob/master/Apigian_NashAnalyticsPresentation/images/Decision-Tree-Algorithms.png?raw=1)"
      ]
    },
    {
      "cell_type": "code",
      "metadata": {
        "id": "SgrFboQZuY02"
      },
      "source": [
        "from sklearn.feature_extraction.text import CountVectorizer\n",
        "from sklearn.tree import DecisionTreeClassifier"
      ],
      "execution_count": null,
      "outputs": []
    },
    {
      "cell_type": "code",
      "metadata": {
        "id": "xRqmOQiEuY02"
      },
      "source": [
        "classifier=DecisionTreeClassifier()\n",
        "classifier=classifier.fit(X_train,y_train)"
      ],
      "execution_count": null,
      "outputs": []
    },
    {
      "cell_type": "code",
      "metadata": {
        "id": "QZlQs0XquY02"
      },
      "source": [
        "df_loanpred = classifier.predict(X_test)\n",
        "print(\"Confusion Matrix\")\n",
        "print(confusion_matrix(y_test, df_loanpred))\n",
        "print(\"\")\n",
        "print(\"classification Report\")\n",
        "print(classification_report(y_test, df_loanpred))"
      ],
      "execution_count": null,
      "outputs": []
    },
    {
      "cell_type": "code",
      "metadata": {
        "id": "vP1CZ6oLuY02"
      },
      "source": [
        "#Generating decision tree in a file(image)\n",
        "from sklearn import tree\n",
        "from io import StringIO\n",
        "from IPython.display import Image, display"
      ],
      "execution_count": null,
      "outputs": []
    },
    {
      "cell_type": "code",
      "metadata": {
        "id": "FVnw9NBSuY03"
      },
      "source": [
        "out = StringIO()\n",
        "tree.export_graphviz(classifier, out_file=out, filled=True,rounded=True)\n",
        "from sklearn.tree import export_graphviz\n",
        "import pydot "
      ],
      "execution_count": null,
      "outputs": []
    },
    {
      "cell_type": "code",
      "metadata": {
        "id": "zyK32OAmuY03"
      },
      "source": [
        "from sklearn.tree import export_graphviz\n",
        "import pydot "
      ],
      "execution_count": null,
      "outputs": []
    },
    {
      "cell_type": "code",
      "metadata": {
        "id": "G-KflCcCuY03"
      },
      "source": [
        "dot_data = StringIO()  \n",
        "export_graphviz(classifier, out_file=dot_data,filled=True,rounded=True)\n",
        "\n",
        "graph = pydot.graph_from_dot_data(dot_data.getvalue())  \n",
        "Image(graph[0].create_png())  "
      ],
      "execution_count": null,
      "outputs": []
    },
    {
      "cell_type": "code",
      "metadata": {
        "id": "r8PCOVLMuY03"
      },
      "source": [
        "#Using Decision Tree Classifier\n",
        "clf2=DecisionTreeClassifier(max_depth=5, max_leaf_nodes=10)\n",
        "clf2=clf2.fit(X_train,y_train)\n",
        "clf2.score(X_test, y_test)"
      ],
      "execution_count": null,
      "outputs": []
    },
    {
      "cell_type": "code",
      "metadata": {
        "id": "KlmxF4BwuY04"
      },
      "source": [
        "dot_data = StringIO()  \n",
        "export_graphviz(clf2, out_file=dot_data, feature_names=loan_names, filled=True,rounded=True)\n",
        "\n",
        "graph = pydot.graph_from_dot_data(dot_data.getvalue())  \n",
        "Image(graph[0].create_png()) "
      ],
      "execution_count": null,
      "outputs": []
    },
    {
      "cell_type": "code",
      "metadata": {
        "id": "mGdGkye5uY04"
      },
      "source": [
        "depth = range(1,12)\n",
        "scores = []\n",
        "\n",
        "for d in depth:\n",
        "    classifier=DecisionTreeClassifier(max_depth = d)\n",
        "    classifier=classifier.fit(X_train,y_train)\n",
        "    scores.append(classifier.score(X_test, y_test))\n",
        "    print(\"iteration {} done\".format(d))\n",
        "\n",
        "\n",
        "plt.plot(depth, scores, '-o')\n",
        "plt.xlabel('depth, d')\n",
        "plt.ylabel('scores')\n",
        "plt.xticks(depth)\n",
        "plt.show()"
      ],
      "execution_count": null,
      "outputs": []
    },
    {
      "cell_type": "code",
      "metadata": {
        "id": "z8wZdJFRuY04"
      },
      "source": [
        "clf3=DecisionTreeClassifier(max_depth = 6, max_leaf_nodes=10)\n",
        "clf3=classifier.fit(X_train,y_train)\n",
        "clf3.score(X_test, y_test)"
      ],
      "execution_count": null,
      "outputs": []
    },
    {
      "cell_type": "code",
      "metadata": {
        "id": "f-OggYEiuY04"
      },
      "source": [
        "dot_data = StringIO()  \n",
        "export_graphviz(clf3, out_file=dot_data, feature_names=loan_names, filled=True,rounded=True)\n",
        "\n",
        "graph = pydot.graph_from_dot_data(dot_data.getvalue())  \n",
        "Image(graph[0].create_png()) "
      ],
      "execution_count": null,
      "outputs": []
    },
    {
      "cell_type": "code",
      "metadata": {
        "id": "7WXw_2IwuY04"
      },
      "source": [
        "df_loanpred3 = clf3.predict(X_test)\n",
        "print(\"Confusion Matrix\")\n",
        "print(confusion_matrix(y_test, df_loanpred3))\n",
        "print(\"\")\n",
        "print(\"classification Report\")\n",
        "print(classification_report(y_test, df_loanpred3))"
      ],
      "execution_count": null,
      "outputs": []
    },
    {
      "cell_type": "code",
      "metadata": {
        "id": "k-LM9ylNuY05"
      },
      "source": [
        "dt_fi = pd.DataFrame(classifier.feature_importances_)"
      ],
      "execution_count": null,
      "outputs": []
    },
    {
      "cell_type": "code",
      "metadata": {
        "id": "A6O3TyVmuY05"
      },
      "source": [
        "names = pd.DataFrame(list(X.columns))\n",
        "df_feat_imp = pd.concat([dt_fi, names], axis = 1)"
      ],
      "execution_count": null,
      "outputs": []
    },
    {
      "cell_type": "code",
      "metadata": {
        "id": "gwpxnA55uY05"
      },
      "source": [
        "df_feat_imp.columns = ['Importance', 'Features']\n",
        "df_feat_imp.sort_values('Importance', ascending = False)"
      ],
      "execution_count": null,
      "outputs": []
    },
    {
      "cell_type": "markdown",
      "metadata": {
        "id": "F_XZ9wNXuY05"
      },
      "source": [
        "### Random Forest\n",
        "![Ensemble-Algorithms.png](https://github.com/mbyanfei/AnalyticsSummit/blob/master/Apigian_NashAnalyticsPresentation/images/Ensemble-Algorithms.png?raw=1)"
      ]
    },
    {
      "cell_type": "code",
      "metadata": {
        "id": "N06wealXuY05"
      },
      "source": [
        "from sklearn.ensemble import RandomForestClassifier"
      ],
      "execution_count": null,
      "outputs": []
    },
    {
      "cell_type": "code",
      "metadata": {
        "id": "Fwt47w04uY06"
      },
      "source": [
        "rf = RandomForestClassifier(n_estimators = 90, max_depth = 10)\n",
        "rf = rf.fit(X_train, y_train)\n",
        "score = rf.score(X_test, y_test)\n",
        "print(score)\n",
        "rf_pred = rf.predict(X_test)\n",
        "print(classification_report(y_test, rf_pred))"
      ],
      "execution_count": null,
      "outputs": []
    },
    {
      "cell_type": "code",
      "metadata": {
        "id": "iVXia64xuY06"
      },
      "source": [
        "print(confusion_matrix(y_test, rf_pred))"
      ],
      "execution_count": null,
      "outputs": []
    },
    {
      "cell_type": "code",
      "metadata": {
        "id": "-2i4eSaXuY06"
      },
      "source": [
        "rf = RandomForestClassifier(n_estimators = 90, max_depth = 10)\n",
        "rf = rf.fit(X_train_sc, y_train)\n",
        "score = rf.score(X_test_sc, y_test)\n",
        "print(score)\n",
        "rf_pred1 = rf.predict(X_test_sc)\n",
        "print(classification_report(y_test, rf_pred1))"
      ],
      "execution_count": null,
      "outputs": []
    },
    {
      "cell_type": "code",
      "metadata": {
        "id": "V3bBpUuiuY06"
      },
      "source": [
        "print(confusion_matrix(y_test, rf_pred1))"
      ],
      "execution_count": null,
      "outputs": []
    },
    {
      "cell_type": "code",
      "metadata": {
        "id": "a9TDJa15uY07"
      },
      "source": [
        "fi = pd.DataFrame(rf.feature_importances_)"
      ],
      "execution_count": null,
      "outputs": []
    },
    {
      "cell_type": "code",
      "metadata": {
        "id": "thzwi8SruY07"
      },
      "source": [
        "columns = pd.DataFrame(list(X.columns))"
      ],
      "execution_count": null,
      "outputs": []
    },
    {
      "cell_type": "code",
      "metadata": {
        "id": "FNgb-96_uY07"
      },
      "source": [
        "features = pd.concat([columns, fi], axis = 1)\n",
        "features.columns = ['Feature', 'Importance']"
      ],
      "execution_count": null,
      "outputs": []
    },
    {
      "cell_type": "code",
      "metadata": {
        "id": "7U63la9DuY07"
      },
      "source": [
        "features.sort_values(\"Importance\", ascending = False)"
      ],
      "execution_count": null,
      "outputs": []
    },
    {
      "cell_type": "code",
      "metadata": {
        "id": "B4Z6jqjjuY07"
      },
      "source": [
        "from sklearn.model_selection import GridSearchCV\n",
        "from sklearn.pipeline import Pipeline"
      ],
      "execution_count": null,
      "outputs": []
    },
    {
      "cell_type": "code",
      "metadata": {
        "id": "RZuUB6PJuY08"
      },
      "source": [
        "# Create a pipeline\n",
        "pipe = Pipeline([('classifier', RandomForestClassifier())])\n",
        "\n",
        "# Create space of candidate learning algorithms and their hyperparameters\n",
        "search_space = [{'classifier': [LogisticRegression()],\n",
        "                 'classifier__penalty': ['l1', 'l2'],\n",
        "                 'classifier__C': np.logspace(0, 4, 10)},\n",
        "                {'classifier': [RandomForestClassifier()],\n",
        "                 'classifier__n_estimators': [10, 100, 1000],\n",
        "                 'classifier__max_features': [1, 2, 3]}]"
      ],
      "execution_count": null,
      "outputs": []
    },
    {
      "cell_type": "code",
      "metadata": {
        "id": "rOMn7yI3uY08"
      },
      "source": [
        "# Create grid search \n",
        "clf_best = GridSearchCV(pipe, search_space, cv=5, verbose=0)"
      ],
      "execution_count": null,
      "outputs": []
    },
    {
      "cell_type": "code",
      "metadata": {
        "id": "Y2otHWh8uY08"
      },
      "source": [
        "# Fit grid search\n",
        "best_model = clf_best.fit(X_train, y_train)"
      ],
      "execution_count": null,
      "outputs": []
    },
    {
      "cell_type": "code",
      "metadata": {
        "id": "EhdEXdGQuY08"
      },
      "source": [
        "# View best model\n",
        "best_model.best_estimator_.get_params()['classifier']"
      ],
      "execution_count": null,
      "outputs": []
    },
    {
      "cell_type": "code",
      "metadata": {
        "id": "RfltScLquY08"
      },
      "source": [
        "best_model.predict(X_test)"
      ],
      "execution_count": null,
      "outputs": []
    },
    {
      "cell_type": "code",
      "metadata": {
        "id": "MQtuPQ1MuY09"
      },
      "source": [
        "score = best_model.score(X_test, y_test)\n",
        "print(\"Accuracy Score\")\n",
        "print(score)\n",
        "best_model_pred = best_model.predict(X_test)\n",
        "print(\"\")\n",
        "print(\"Confusion Matrix\")\n",
        "print(confusion_matrix(y_test, best_model_pred))\n",
        "print(\"\")\n",
        "print(\"Confusion Matrix\")\n",
        "print(classification_report(y_test, best_model_pred))"
      ],
      "execution_count": null,
      "outputs": []
    },
    {
      "cell_type": "markdown",
      "metadata": {
        "id": "SKevMNvKuY09"
      },
      "source": [
        "## Regression Analysis\n",
        "![Regression-Algorithms.png](https://github.com/mbyanfei/AnalyticsSummit/blob/master/Apigian_NashAnalyticsPresentation/images/Regression-Algorithms.png?raw=1)"
      ]
    },
    {
      "cell_type": "code",
      "metadata": {
        "id": "FrB9w3_huY09"
      },
      "source": [
        "df_loandata_reg = df_loandata[df_loandata['loan_is_bad'] == 0]"
      ],
      "execution_count": null,
      "outputs": []
    },
    {
      "cell_type": "code",
      "metadata": {
        "id": "olFVwePyuY09"
      },
      "source": [
        "df_loandata_reg.info()"
      ],
      "execution_count": null,
      "outputs": []
    },
    {
      "cell_type": "markdown",
      "metadata": {
        "id": "aAai_JP8uY09"
      },
      "source": [
        "### Scikit Simple Regression\n",
        "using annual_inc as predictor"
      ]
    },
    {
      "cell_type": "code",
      "metadata": {
        "id": "HI-ri4cruY0-"
      },
      "source": [
        "X = df_loandata_reg.drop(['loan_is_bad', 'loan_amnt'], axis =1)\n",
        "X.info()"
      ],
      "execution_count": null,
      "outputs": []
    },
    {
      "cell_type": "code",
      "metadata": {
        "id": "wKgs9EXkuY0-"
      },
      "source": [
        "y = df_loandata_reg['loan_amnt']"
      ],
      "execution_count": null,
      "outputs": []
    },
    {
      "cell_type": "code",
      "metadata": {
        "id": "wf9cMoY8uY0-"
      },
      "source": [
        "y"
      ],
      "execution_count": null,
      "outputs": []
    },
    {
      "cell_type": "code",
      "metadata": {
        "id": "QDyxLO-UuY0-"
      },
      "source": [
        "y.values.reshape(-1, 1)"
      ],
      "execution_count": null,
      "outputs": []
    },
    {
      "cell_type": "code",
      "metadata": {
        "id": "ifDrWv5_uY0-"
      },
      "source": [
        "from sklearn import datasets, linear_model\n",
        "from sklearn.metrics import mean_squared_error, explained_variance_score, r2_score"
      ],
      "execution_count": null,
      "outputs": []
    },
    {
      "cell_type": "code",
      "metadata": {
        "id": "HlUUY77muY0-"
      },
      "source": [
        "reg = linear_model.LinearRegression()\n",
        "annual_income = df_loandata_reg[['annual_inc']]"
      ],
      "execution_count": null,
      "outputs": []
    },
    {
      "cell_type": "code",
      "metadata": {
        "id": "mjK4HxV5uY0_"
      },
      "source": [
        "reg.fit(annual_income, y)"
      ],
      "execution_count": null,
      "outputs": []
    },
    {
      "cell_type": "code",
      "metadata": {
        "id": "JGKMnG3juY0_"
      },
      "source": [
        "predictions = reg.predict(annual_income)"
      ],
      "execution_count": null,
      "outputs": []
    },
    {
      "cell_type": "code",
      "metadata": {
        "id": "VxTay0mYuY1A"
      },
      "source": [
        "df_predictions = pd.DataFrame(predictions)"
      ],
      "execution_count": null,
      "outputs": []
    },
    {
      "cell_type": "code",
      "metadata": {
        "id": "boc7_3vjuY1A"
      },
      "source": [
        "sns.lmplot(x=\"annual_inc\", y=\"loan_amnt\", data=df_loandata_reg,\n",
        "            ci=None,  markers = 'o', order=3, hue=\"term\", scatter_kws={\"s\": 50});"
      ],
      "execution_count": null,
      "outputs": []
    },
    {
      "cell_type": "code",
      "metadata": {
        "id": "Ci-OsJSeuY1A"
      },
      "source": [
        "g = sns.lmplot(x=\"annual_inc\", y=\"loan_amnt\", col=\"term\", hue=\"term\",\n",
        "              data=df_loandata_reg)\n",
        "g = (g.set_axis_labels(\"Annual Income\", \"Loan Amount\")\n",
        "       .set(ylim=(0, 40000))\n",
        "       .fig.subplots_adjust(wspace=.02))"
      ],
      "execution_count": null,
      "outputs": []
    },
    {
      "cell_type": "markdown",
      "metadata": {
        "id": "neo5fSHhuY1A"
      },
      "source": [
        "### Add an order of 3"
      ]
    },
    {
      "cell_type": "code",
      "metadata": {
        "id": "p5MlVEQuuY1A"
      },
      "source": [
        "g = sns.lmplot(x=\"annual_inc\", y=\"loan_amnt\", order=3, col=\"term\", hue=\"term\",\n",
        "              data=df_loandata_reg)\n",
        "g = (g.set_axis_labels(\"Annual Income\", \"Loan Amount\")\n",
        "       .set(ylim=(0, 40000))\n",
        "       .fig.subplots_adjust(wspace=.02))"
      ],
      "execution_count": null,
      "outputs": []
    },
    {
      "cell_type": "code",
      "metadata": {
        "scrolled": true,
        "id": "H6GOOejguY1B"
      },
      "source": [
        "plt.scatter(annual_income, y, color = 'blue')\n",
        "plt.plot(annual_income, predictions, color = 'black')\n",
        "plt.show()"
      ],
      "execution_count": null,
      "outputs": []
    },
    {
      "cell_type": "code",
      "metadata": {
        "id": "Lq999AQYuY1B"
      },
      "source": [
        "reg.score(annual_income, y)"
      ],
      "execution_count": null,
      "outputs": []
    },
    {
      "cell_type": "markdown",
      "metadata": {
        "id": "zTjD-y-cuY1B"
      },
      "source": [
        "### Correlation Matrix"
      ]
    },
    {
      "cell_type": "code",
      "metadata": {
        "id": "N8BhbEHouY1B"
      },
      "source": [
        "colormap = plt.cm.viridis\n",
        "plt.figure(figsize=(14,12))\n",
        "plt.title('Pearson Correlation of Features', y=1.05, size=15)\n",
        "sns.heatmap(df_loandata_reg.astype(float).corr(),linewidths=0.1, vmax=1.0, square=True, cmap=colormap, linecolor='white', annot=True)"
      ],
      "execution_count": null,
      "outputs": []
    },
    {
      "cell_type": "markdown",
      "metadata": {
        "collapsed": true,
        "id": "XNIgLV4buY1B"
      },
      "source": [
        "## Lasso Regression"
      ]
    },
    {
      "cell_type": "code",
      "metadata": {
        "id": "XwI1B-s2uY1C"
      },
      "source": [
        "from sklearn.linear_model import Lasso"
      ],
      "execution_count": null,
      "outputs": []
    },
    {
      "cell_type": "code",
      "metadata": {
        "id": "M36XAuLKuY1C"
      },
      "source": [
        "X_train, X_test, y_train, y_test = train_test_split(X, y, test_size = 0.3, random_state = 42)"
      ],
      "execution_count": null,
      "outputs": []
    },
    {
      "cell_type": "code",
      "metadata": {
        "id": "d8ZcLU_CuY1C"
      },
      "source": [
        "scaler = StandardScaler()\n",
        "\n",
        "X_train_sc = scaler.fit_transform(X_train)\n",
        "X_train_sc = pd.DataFrame(X_train_sc, columns=X_train.columns)\n",
        "\n",
        "\n",
        "X_test_sc = scaler.fit_transform(X_test)\n",
        "X_test_sc = pd.DataFrame(X_test_sc, columns=X_test.columns)"
      ],
      "execution_count": null,
      "outputs": []
    },
    {
      "cell_type": "markdown",
      "metadata": {
        "id": "cm3etTTmuY1C"
      },
      "source": [
        "### Fine tune the model to find optimal alpha value for Lasso"
      ]
    },
    {
      "cell_type": "code",
      "metadata": {
        "id": "VMNs9cAAuY1C"
      },
      "source": [
        "alphas = [0.1, 0.5, 1, 5, 10, 25, 50, 100]\n",
        "scores = []\n",
        "\n",
        "for a in alphas:\n",
        "    lasso = Lasso(alpha = a)\n",
        "    lasso.fit(X_train_sc, y_train)\n",
        "    scores.append(lasso.score(X_test_sc, y_test))\n",
        "    print(\"iteration {} done\".format(a))\n",
        "\n",
        "\n",
        "plt.plot(alphas, scores, '-o')\n",
        "plt.xlabel('alpha, a')\n",
        "plt.ylabel('scores')\n",
        "plt.xticks(alphas)\n",
        "plt.show()"
      ],
      "execution_count": null,
      "outputs": []
    },
    {
      "cell_type": "markdown",
      "metadata": {
        "id": "n1OmFrkvuY1D"
      },
      "source": [
        "Alpha = 10 provides the best score (somewhat minimally)"
      ]
    },
    {
      "cell_type": "code",
      "metadata": {
        "id": "AuxgfznbuY1D"
      },
      "source": [
        "lasso = Lasso(alpha=10.0)"
      ],
      "execution_count": null,
      "outputs": []
    },
    {
      "cell_type": "code",
      "metadata": {
        "id": "UM0tOx7puY1D"
      },
      "source": [
        "lasso.fit(X_train_sc, y_train)"
      ],
      "execution_count": null,
      "outputs": []
    },
    {
      "cell_type": "code",
      "metadata": {
        "id": "KS5iLY1XuY1D"
      },
      "source": [
        "lasso_pred = lasso.predict(X_train_sc)"
      ],
      "execution_count": null,
      "outputs": []
    },
    {
      "cell_type": "code",
      "metadata": {
        "id": "pXUE_EjbuY1D"
      },
      "source": [
        "lasso.score(X_test_sc, y_test)"
      ],
      "execution_count": null,
      "outputs": []
    },
    {
      "cell_type": "code",
      "metadata": {
        "id": "A3_mM5PPuY1D"
      },
      "source": [
        "lasso.coef_"
      ],
      "execution_count": null,
      "outputs": []
    },
    {
      "cell_type": "code",
      "metadata": {
        "id": "qBbrcjmauY1D"
      },
      "source": [
        "df_lasso = pd.DataFrame(lasso.coef_)"
      ],
      "execution_count": null,
      "outputs": []
    },
    {
      "cell_type": "code",
      "metadata": {
        "id": "O-Eocyl6uY1E"
      },
      "source": [
        "names = pd.DataFrame(list(X.columns))"
      ],
      "execution_count": null,
      "outputs": []
    },
    {
      "cell_type": "code",
      "metadata": {
        "id": "riafzXXWuY1E"
      },
      "source": [
        "df_lasso = pd.concat([df_lasso, names], axis = 1)"
      ],
      "execution_count": null,
      "outputs": []
    },
    {
      "cell_type": "code",
      "metadata": {
        "id": "Mp5To-DluY1E"
      },
      "source": [
        "df_lasso.columns = ['Coefficient', 'Feature']\n",
        "df_lasso"
      ],
      "execution_count": null,
      "outputs": []
    },
    {
      "cell_type": "markdown",
      "metadata": {
        "id": "E6akooD5uY1E"
      },
      "source": [
        "## Ridge"
      ]
    },
    {
      "cell_type": "markdown",
      "metadata": {
        "id": "uQclV3xyuY1E"
      },
      "source": [
        "### Import needed libraries"
      ]
    },
    {
      "cell_type": "code",
      "metadata": {
        "id": "LVlFWjSXuY1E"
      },
      "source": [
        "from sklearn.linear_model import Ridge"
      ],
      "execution_count": null,
      "outputs": []
    },
    {
      "cell_type": "markdown",
      "metadata": {
        "id": "K0YaBCPtuY1F"
      },
      "source": [
        "### Fine tune the model to find optimal alpha value"
      ]
    },
    {
      "cell_type": "code",
      "metadata": {
        "id": "02rsn4gHuY1F"
      },
      "source": [
        "alphas = [1, 5, 10, 25, 50, 100, 150, 200, 300, 400, 500]\n",
        "scores = []\n",
        "\n",
        "for a in alphas:\n",
        "    ridge = Ridge(alpha = a)\n",
        "    ridge.fit(X_train_sc, y_train)\n",
        "    scores.append(ridge.score(X_test_sc, y_test))\n",
        "    print(\"iteration {} done\".format(a))\n",
        "\n",
        "\n",
        "plt.plot(alphas, scores, '-o')\n",
        "plt.xlabel('alpha, a')\n",
        "plt.ylabel('scores')\n",
        "plt.xticks(alphas)\n",
        "plt.show()"
      ],
      "execution_count": null,
      "outputs": []
    },
    {
      "cell_type": "code",
      "metadata": {
        "id": "zGK5qwfguY1F"
      },
      "source": [
        "ridge = Ridge(alpha=150)"
      ],
      "execution_count": null,
      "outputs": []
    },
    {
      "cell_type": "code",
      "metadata": {
        "id": "WtplyqRhuY1F"
      },
      "source": [
        "ridge.fit(X_train_sc, y_train)"
      ],
      "execution_count": null,
      "outputs": []
    },
    {
      "cell_type": "code",
      "metadata": {
        "id": "pU8IFj1duY1F"
      },
      "source": [
        "ridge_preds = ridge.predict(X_test_sc)"
      ],
      "execution_count": null,
      "outputs": []
    },
    {
      "cell_type": "code",
      "metadata": {
        "id": "6PmiUFuuuY1G"
      },
      "source": [
        "ridge.score(X_test_sc, y_test)"
      ],
      "execution_count": null,
      "outputs": []
    },
    {
      "cell_type": "code",
      "metadata": {
        "id": "1sHyrr3NuY1G"
      },
      "source": [
        "df_ridge = pd.DataFrame(ridge.coef_)\n",
        "\n",
        "names = pd.DataFrame(list(X.columns))\n",
        "\n",
        "df_ridge = pd.concat([df_ridge, names], axis = 1)\n",
        "\n",
        "df_ridge.columns = ['Coefficient', 'Feature']\n",
        "df_ridge"
      ],
      "execution_count": null,
      "outputs": []
    },
    {
      "cell_type": "code",
      "metadata": {
        "id": "q1-WYmi9uY1G"
      },
      "source": [
        "lasso_pred = pd.DataFrame(lasso_pred)\n",
        "ridge_pred = pd.DataFrame(ridge_preds)\n",
        "preds = pd.concat([lasso_pred, ridge_pred], axis = 1)"
      ],
      "execution_count": null,
      "outputs": []
    },
    {
      "cell_type": "code",
      "metadata": {
        "id": "2LdCr-S_uY1G"
      },
      "source": [
        "preds.columns = ['Lasso', 'Ridge']"
      ],
      "execution_count": null,
      "outputs": []
    },
    {
      "cell_type": "code",
      "metadata": {
        "id": "T2ogdF7suY1G"
      },
      "source": [
        "sns.regplot(x = 'Lasso', y = 'Ridge', data = preds)\n",
        "plt.ylim(0,40000)"
      ],
      "execution_count": null,
      "outputs": []
    },
    {
      "cell_type": "code",
      "metadata": {
        "id": "B_Hr-ZsOuY1G"
      },
      "source": [
        ""
      ],
      "execution_count": null,
      "outputs": []
    }
  ]
}