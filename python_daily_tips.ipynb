{
  "nbformat": 4,
  "nbformat_minor": 0,
  "metadata": {
    "colab": {
      "name": "python daily tips.ipynb",
      "provenance": [],
      "collapsed_sections": [],
      "authorship_tag": "ABX9TyPHD2/LMgnIHVGlyfhCsX9E",
      "include_colab_link": true
    },
    "kernelspec": {
      "name": "python3",
      "display_name": "Python 3"
    },
    "language_info": {
      "name": "python"
    }
  },
  "cells": [
    {
      "cell_type": "markdown",
      "metadata": {
        "id": "view-in-github",
        "colab_type": "text"
      },
      "source": [
        "<a href=\"https://colab.research.google.com/github/mbyanfei/Google-Colab/blob/master/python_daily_tips.ipynb\" target=\"_parent\"><img src=\"https://colab.research.google.com/assets/colab-badge.svg\" alt=\"Open In Colab\"/></a>"
      ]
    },
    {
      "cell_type": "markdown",
      "metadata": {
        "id": "AYguG5D1rxpc"
      },
      "source": [
        "**07/21/2021**"
      ]
    },
    {
      "cell_type": "markdown",
      "metadata": {
        "id": "YAp29wYurmRt"
      },
      "source": [
        "**yarl: Create and Extract Elements from a URL Using Python**"
      ]
    },
    {
      "cell_type": "code",
      "metadata": {
        "colab": {
          "base_uri": "https://localhost:8080/"
        },
        "id": "yeUpF9EIps9p",
        "outputId": "4a0b9b83-6cd6-4c1d-ffbb-f5456c605cdd"
      },
      "source": [
        "!pip install yarl"
      ],
      "execution_count": 1,
      "outputs": [
        {
          "output_type": "stream",
          "text": [
            "Collecting yarl\n",
            "  Downloading yarl-1.6.3-cp37-cp37m-manylinux2014_x86_64.whl (294 kB)\n",
            "\u001b[K     |████████████████████████████████| 294 kB 8.4 MB/s \n",
            "\u001b[?25hCollecting multidict>=4.0\n",
            "  Downloading multidict-5.1.0-cp37-cp37m-manylinux2014_x86_64.whl (142 kB)\n",
            "\u001b[K     |████████████████████████████████| 142 kB 58.5 MB/s \n",
            "\u001b[?25hRequirement already satisfied: typing-extensions>=3.7.4 in /usr/local/lib/python3.7/dist-packages (from yarl) (3.7.4.3)\n",
            "Requirement already satisfied: idna>=2.0 in /usr/local/lib/python3.7/dist-packages (from yarl) (2.10)\n",
            "Installing collected packages: multidict, yarl\n",
            "Successfully installed multidict-5.1.0 yarl-1.6.3\n"
          ],
          "name": "stdout"
        }
      ]
    },
    {
      "cell_type": "code",
      "metadata": {
        "id": "m9xjdma8qZz2"
      },
      "source": [
        "from yarl import URL"
      ],
      "execution_count": 2,
      "outputs": []
    },
    {
      "cell_type": "code",
      "metadata": {
        "id": "1cINzxAhqnEm"
      },
      "source": [
        "url = URL('https://github.com')"
      ],
      "execution_count": 3,
      "outputs": []
    },
    {
      "cell_type": "code",
      "metadata": {
        "id": "EJHV6o7FqrpG"
      },
      "source": [
        "new_url = url / \"search\" % 'q=data+science'"
      ],
      "execution_count": 4,
      "outputs": []
    },
    {
      "cell_type": "code",
      "metadata": {
        "colab": {
          "base_uri": "https://localhost:8080/"
        },
        "id": "EeCKEsPjq0mv",
        "outputId": "5fff7f30-e706-409d-c671-4e4cc5a55a7b"
      },
      "source": [
        "new_url"
      ],
      "execution_count": 5,
      "outputs": [
        {
          "output_type": "execute_result",
          "data": {
            "text/plain": [
              "URL('https://github.com/search?q=data+science')"
            ]
          },
          "metadata": {
            "tags": []
          },
          "execution_count": 5
        }
      ]
    },
    {
      "cell_type": "code",
      "metadata": {
        "colab": {
          "base_uri": "https://localhost:8080/",
          "height": 35
        },
        "id": "qekAUliSq1nn",
        "outputId": "69eb6a50-f50f-40aa-cf5a-9809c47a7f91"
      },
      "source": [
        "new_url.host"
      ],
      "execution_count": 6,
      "outputs": [
        {
          "output_type": "execute_result",
          "data": {
            "application/vnd.google.colaboratory.intrinsic+json": {
              "type": "string"
            },
            "text/plain": [
              "'github.com'"
            ]
          },
          "metadata": {
            "tags": []
          },
          "execution_count": 6
        }
      ]
    },
    {
      "cell_type": "code",
      "metadata": {
        "colab": {
          "base_uri": "https://localhost:8080/",
          "height": 35
        },
        "id": "V9RFZQlyq5AI",
        "outputId": "3f5ae008-6afe-4037-de7f-f741a4334104"
      },
      "source": [
        "new_url.path"
      ],
      "execution_count": 7,
      "outputs": [
        {
          "output_type": "execute_result",
          "data": {
            "application/vnd.google.colaboratory.intrinsic+json": {
              "type": "string"
            },
            "text/plain": [
              "'/search'"
            ]
          },
          "metadata": {
            "tags": []
          },
          "execution_count": 7
        }
      ]
    },
    {
      "cell_type": "code",
      "metadata": {
        "colab": {
          "base_uri": "https://localhost:8080/",
          "height": 35
        },
        "id": "OWUwohMTq7C3",
        "outputId": "463f3e56-65c4-4e32-b2fb-1d0edac9fba2"
      },
      "source": [
        "new_url.query_string"
      ],
      "execution_count": 8,
      "outputs": [
        {
          "output_type": "execute_result",
          "data": {
            "application/vnd.google.colaboratory.intrinsic+json": {
              "type": "string"
            },
            "text/plain": [
              "'q=data science'"
            ]
          },
          "metadata": {
            "tags": []
          },
          "execution_count": 8
        }
      ]
    },
    {
      "cell_type": "code",
      "metadata": {
        "id": "ytamSKLhq91Q"
      },
      "source": [
        ""
      ],
      "execution_count": null,
      "outputs": []
    },
    {
      "cell_type": "markdown",
      "metadata": {
        "id": "9EpIr0sOr-t8"
      },
      "source": [
        "**tip #2 - pd.reindex: Replace the values of the missing dats with 0** "
      ]
    },
    {
      "cell_type": "code",
      "metadata": {
        "id": "EDDaJh4isQGF"
      },
      "source": [
        "import pandas as pd"
      ],
      "execution_count": 9,
      "outputs": []
    },
    {
      "cell_type": "code",
      "metadata": {
        "id": "-4UJA0hFsSsP"
      },
      "source": [
        "s = pd.Series([1,2,3], index=['2021-07-20', \n",
        "                              '2021-07-23',\n",
        "                              '2021-07-25'])"
      ],
      "execution_count": 10,
      "outputs": []
    },
    {
      "cell_type": "code",
      "metadata": {
        "colab": {
          "base_uri": "https://localhost:8080/"
        },
        "id": "17dm5c7XsmfX",
        "outputId": "ab16c545-de0c-4779-cc50-962712973670"
      },
      "source": [
        "s"
      ],
      "execution_count": 16,
      "outputs": [
        {
          "output_type": "execute_result",
          "data": {
            "text/plain": [
              "2021-07-20    1\n",
              "2021-07-23    2\n",
              "2021-07-25    3\n",
              "dtype: int64"
            ]
          },
          "metadata": {
            "tags": []
          },
          "execution_count": 16
        }
      ]
    },
    {
      "cell_type": "code",
      "metadata": {
        "colab": {
          "base_uri": "https://localhost:8080/"
        },
        "id": "Dp39qYE_u9sZ",
        "outputId": "384e8834-489d-45de-cd4e-9f6206a0a923"
      },
      "source": [
        "s.index"
      ],
      "execution_count": 17,
      "outputs": [
        {
          "output_type": "execute_result",
          "data": {
            "text/plain": [
              "Index(['2021-07-20', '2021-07-23', '2021-07-25'], dtype='object')"
            ]
          },
          "metadata": {
            "tags": []
          },
          "execution_count": 17
        }
      ]
    },
    {
      "cell_type": "code",
      "metadata": {
        "id": "u5BOa9w2u1K1"
      },
      "source": [
        "s.index = pd.to_datetime(s.index)"
      ],
      "execution_count": 19,
      "outputs": []
    },
    {
      "cell_type": "code",
      "metadata": {
        "colab": {
          "base_uri": "https://localhost:8080/"
        },
        "id": "3E5m9X5yvEmr",
        "outputId": "70c7c471-d48a-4cca-cb52-0df27f4212ba"
      },
      "source": [
        "s.index"
      ],
      "execution_count": 20,
      "outputs": [
        {
          "output_type": "execute_result",
          "data": {
            "text/plain": [
              "DatetimeIndex(['2021-07-20', '2021-07-23', '2021-07-25'], dtype='datetime64[ns]', freq=None)"
            ]
          },
          "metadata": {
            "tags": []
          },
          "execution_count": 20
        }
      ]
    },
    {
      "cell_type": "code",
      "metadata": {
        "id": "i2IjAr2dtsQE"
      },
      "source": [
        "new_index = pd.date_range('2021-07-20',\n",
        "                          '2021-07-25')"
      ],
      "execution_count": 12,
      "outputs": []
    },
    {
      "cell_type": "code",
      "metadata": {
        "colab": {
          "base_uri": "https://localhost:8080/"
        },
        "id": "RDjTqrpsuTmJ",
        "outputId": "3424fe2f-67b7-446a-d09e-faf56ad23bde"
      },
      "source": [
        "new_index"
      ],
      "execution_count": 13,
      "outputs": [
        {
          "output_type": "execute_result",
          "data": {
            "text/plain": [
              "DatetimeIndex(['2021-07-20', '2021-07-21', '2021-07-22', '2021-07-23',\n",
              "               '2021-07-24', '2021-07-25'],\n",
              "              dtype='datetime64[ns]', freq='D')"
            ]
          },
          "metadata": {
            "tags": []
          },
          "execution_count": 13
        }
      ]
    },
    {
      "cell_type": "code",
      "metadata": {
        "id": "bm5H06X0ub8v"
      },
      "source": [
        "# conform series to new index\n",
        "new_s = s.reindex(new_index, fill_value=0)"
      ],
      "execution_count": 14,
      "outputs": []
    },
    {
      "cell_type": "code",
      "metadata": {
        "colab": {
          "base_uri": "https://localhost:8080/"
        },
        "id": "tSGX4RRTuoPQ",
        "outputId": "b3a74e26-83a9-48e1-d6ce-b57169a19ef3"
      },
      "source": [
        "new_s"
      ],
      "execution_count": 15,
      "outputs": [
        {
          "output_type": "execute_result",
          "data": {
            "text/plain": [
              "2021-07-20    0\n",
              "2021-07-21    0\n",
              "2021-07-22    0\n",
              "2021-07-23    0\n",
              "2021-07-24    0\n",
              "2021-07-25    0\n",
              "Freq: D, dtype: int64"
            ]
          },
          "metadata": {
            "tags": []
          },
          "execution_count": 15
        }
      ]
    },
    {
      "cell_type": "code",
      "metadata": {
        "id": "PxAGBZQ_upbw"
      },
      "source": [
        ""
      ],
      "execution_count": null,
      "outputs": []
    }
  ]
}