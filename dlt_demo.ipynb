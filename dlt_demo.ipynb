{
  "nbformat": 4,
  "nbformat_minor": 0,
  "metadata": {
    "colab": {
      "provenance": [],
      "include_colab_link": true
    },
    "kernelspec": {
      "name": "python3",
      "display_name": "Python 3"
    },
    "language_info": {
      "name": "python"
    }
  },
  "cells": [
    {
      "cell_type": "markdown",
      "metadata": {
        "id": "view-in-github",
        "colab_type": "text"
      },
      "source": [
        "<a href=\"https://colab.research.google.com/github/mbyanfei/Google-Colab/blob/master/dlt_demo.ipynb\" target=\"_parent\"><img src=\"https://colab.research.google.com/assets/colab-badge.svg\" alt=\"Open In Colab\"/></a>"
      ]
    },
    {
      "cell_type": "markdown",
      "source": [
        "# **[Demo] Create a `dlt` pipeline in 4 steps** 🚀\n",
        "\n",
        "---\n",
        "\n",
        "**TL;DR: create and execute a pipeline that loads data from the [PokeAPI](https://pokeapi.co/) into a [DuckDB](https://duckdb.org/) database using the `dlt` library**"
      ],
      "metadata": {
        "id": "GYREioraz1m6"
      }
    },
    {
      "cell_type": "markdown",
      "source": [
        "## 1 **Install `dlt`**"
      ],
      "metadata": {
        "id": "U33sg53V4xlR"
      }
    },
    {
      "cell_type": "code",
      "source": [
        "%%capture\n",
        "!pip install dlt[duckdb] # Install dlt with all the necessary DuckDB dependencies"
      ],
      "metadata": {
        "id": "GSfjew3L5Efg"
      },
      "execution_count": 1,
      "outputs": []
    },
    {
      "cell_type": "code",
      "source": [
        "!dlt --version"
      ],
      "metadata": {
        "colab": {
          "base_uri": "https://localhost:8080/"
        },
        "id": "t5FVypQXvr2t",
        "outputId": "33e06314-a5dd-4a4a-8c43-30a0128f1815"
      },
      "execution_count": 2,
      "outputs": [
        {
          "output_type": "stream",
          "name": "stdout",
          "text": [
            "dlt 0.3.18\n"
          ]
        }
      ]
    },
    {
      "cell_type": "code",
      "source": [],
      "metadata": {
        "id": "gtAmjUfFr1OK"
      },
      "execution_count": null,
      "outputs": []
    },
    {
      "cell_type": "markdown",
      "source": [
        "## 2 **Import `dlt` and initialize the pipeline**"
      ],
      "metadata": {
        "id": "1wf1R0yQh7pv"
      }
    },
    {
      "cell_type": "code",
      "source": [
        "import dlt\n",
        "\n",
        "pipeline = dlt.pipeline(pipeline_name=\"pokemon_pipeline\", destination=\"duckdb\", dataset_name=\"pokemon_data\")"
      ],
      "metadata": {
        "id": "A3NRS0y38alk"
      },
      "execution_count": 3,
      "outputs": []
    },
    {
      "cell_type": "markdown",
      "source": [
        "## 3 **Get data from the source**\n",
        "\n",
        "We load the list of pokemons data using url."
      ],
      "metadata": {
        "id": "JgbaVBwZaYuF"
      }
    },
    {
      "cell_type": "code",
      "source": [
        "from dlt.sources.helpers import requests\n",
        "\n",
        "POKEMON_URL = \"https://pokeapi.co/api/v2/pokemon/\"\n",
        "\n",
        "data = requests.get(POKEMON_URL).json()[\"results\"]"
      ],
      "metadata": {
        "id": "M5CWr_eZGfps"
      },
      "execution_count": 4,
      "outputs": []
    },
    {
      "cell_type": "code",
      "source": [
        "data"
      ],
      "metadata": {
        "colab": {
          "base_uri": "https://localhost:8080/"
        },
        "id": "HVlNbFKHwiRt",
        "outputId": "9ae35914-71d7-43d7-8694-b6a791b60abf"
      },
      "execution_count": 5,
      "outputs": [
        {
          "output_type": "execute_result",
          "data": {
            "text/plain": [
              "[{'name': 'bulbasaur', 'url': 'https://pokeapi.co/api/v2/pokemon/1/'},\n",
              " {'name': 'ivysaur', 'url': 'https://pokeapi.co/api/v2/pokemon/2/'},\n",
              " {'name': 'venusaur', 'url': 'https://pokeapi.co/api/v2/pokemon/3/'},\n",
              " {'name': 'charmander', 'url': 'https://pokeapi.co/api/v2/pokemon/4/'},\n",
              " {'name': 'charmeleon', 'url': 'https://pokeapi.co/api/v2/pokemon/5/'},\n",
              " {'name': 'charizard', 'url': 'https://pokeapi.co/api/v2/pokemon/6/'},\n",
              " {'name': 'squirtle', 'url': 'https://pokeapi.co/api/v2/pokemon/7/'},\n",
              " {'name': 'wartortle', 'url': 'https://pokeapi.co/api/v2/pokemon/8/'},\n",
              " {'name': 'blastoise', 'url': 'https://pokeapi.co/api/v2/pokemon/9/'},\n",
              " {'name': 'caterpie', 'url': 'https://pokeapi.co/api/v2/pokemon/10/'},\n",
              " {'name': 'metapod', 'url': 'https://pokeapi.co/api/v2/pokemon/11/'},\n",
              " {'name': 'butterfree', 'url': 'https://pokeapi.co/api/v2/pokemon/12/'},\n",
              " {'name': 'weedle', 'url': 'https://pokeapi.co/api/v2/pokemon/13/'},\n",
              " {'name': 'kakuna', 'url': 'https://pokeapi.co/api/v2/pokemon/14/'},\n",
              " {'name': 'beedrill', 'url': 'https://pokeapi.co/api/v2/pokemon/15/'},\n",
              " {'name': 'pidgey', 'url': 'https://pokeapi.co/api/v2/pokemon/16/'},\n",
              " {'name': 'pidgeotto', 'url': 'https://pokeapi.co/api/v2/pokemon/17/'},\n",
              " {'name': 'pidgeot', 'url': 'https://pokeapi.co/api/v2/pokemon/18/'},\n",
              " {'name': 'rattata', 'url': 'https://pokeapi.co/api/v2/pokemon/19/'},\n",
              " {'name': 'raticate', 'url': 'https://pokeapi.co/api/v2/pokemon/20/'}]"
            ]
          },
          "metadata": {},
          "execution_count": 5
        }
      ]
    },
    {
      "cell_type": "markdown",
      "source": [
        "## 4 **Run the pipeline**"
      ],
      "metadata": {
        "id": "D-3RP79kugz3"
      }
    },
    {
      "cell_type": "code",
      "source": [
        "%%capture\n",
        "# Normalize and load the data onto the locally created duckdb database 'pokemon_pipeline.duckdb'\n",
        "pipeline.run(data, table_name='pokemon')"
      ],
      "metadata": {
        "id": "CoVzXSF5sInX"
      },
      "execution_count": 6,
      "outputs": []
    },
    {
      "cell_type": "code",
      "source": [
        "!pwd"
      ],
      "metadata": {
        "colab": {
          "base_uri": "https://localhost:8080/"
        },
        "id": "1n2-tNgwsUO6",
        "outputId": "bffee6d1-eb9c-47a6-c354-69a3c003c9c0"
      },
      "execution_count": 7,
      "outputs": [
        {
          "output_type": "stream",
          "name": "stdout",
          "text": [
            "/content\n"
          ]
        }
      ]
    },
    {
      "cell_type": "code",
      "source": [
        "!ls -l"
      ],
      "metadata": {
        "colab": {
          "base_uri": "https://localhost:8080/"
        },
        "id": "71OUrSIcsWey",
        "outputId": "8d8015de-b911-4474-f9aa-679a6c318a7b"
      },
      "execution_count": 8,
      "outputs": [
        {
          "output_type": "stream",
          "name": "stdout",
          "text": [
            "total 2320\n",
            "-rw-r--r-- 1 root root 2633728 Oct  2 14:00 pokemon_pipeline.duckdb\n",
            "drwxr-xr-x 1 root root    4096 Sep 28 13:26 sample_data\n"
          ]
        }
      ]
    },
    {
      "cell_type": "markdown",
      "source": [
        "## 🎉 **Finish!** 🎉"
      ],
      "metadata": {
        "id": "4QBtnFC_3o6F"
      }
    },
    {
      "cell_type": "markdown",
      "source": [
        "## **Bonus: Query the loaded data** 🦆\n",
        "\n",
        "To access the loaded data, connect to the DuckDB database using the Python DuckDB connector"
      ],
      "metadata": {
        "id": "DT2DTGZiyJ8g"
      }
    },
    {
      "cell_type": "code",
      "source": [
        "import duckdb\n",
        "from google.colab import data_table\n",
        "data_table.enable_dataframe_formatter()\n",
        "\n",
        "# a database 'chess_pipeline.duckdb' was created in working directory so just connect to it\n",
        "conn = duckdb.connect(f\"{pipeline.pipeline_name}.duckdb\")\n",
        "\n",
        "# this lets us query data without adding schema prefix to table names\n",
        "conn.sql(f\"SET search_path = '{pipeline.dataset_name}'\")\n",
        "\n"
      ],
      "metadata": {
        "id": "ki1Fjk6_sTd5"
      },
      "execution_count": 9,
      "outputs": []
    },
    {
      "cell_type": "code",
      "source": [
        "# list all tables\n",
        "display(conn.sql(\"DESCRIBE\"))\n"
      ],
      "metadata": {
        "colab": {
          "base_uri": "https://localhost:8080/",
          "height": 178
        },
        "id": "c0XK2t3-tGfR",
        "outputId": "f310988a-51dc-4caf-eb4e-2654e56671f1"
      },
      "execution_count": 10,
      "outputs": [
        {
          "output_type": "display_data",
          "data": {
            "text/plain": [
              "┌──────────────────┬──────────────┬─────────────────────┬──────────────────────┬───────────────────────────┬───────────┐\n",
              "│     database     │    schema    │        name         │     column_names     │       column_types        │ temporary │\n",
              "│     varchar      │   varchar    │       varchar       │      varchar[]       │         varchar[]         │  boolean  │\n",
              "├──────────────────┼──────────────┼─────────────────────┼──────────────────────┼───────────────────────────┼───────────┤\n",
              "│ pokemon_pipeline │ pokemon_data │ _dlt_loads          │ [load_id, schema_n…  │ [VARCHAR, VARCHAR, BIGI…  │ false     │\n",
              "│ pokemon_pipeline │ pokemon_data │ _dlt_pipeline_state │ [version, engine_v…  │ [BIGINT, BIGINT, VARCHA…  │ false     │\n",
              "│ pokemon_pipeline │ pokemon_data │ _dlt_version        │ [version, engine_v…  │ [BIGINT, BIGINT, TIMEST…  │ false     │\n",
              "│ pokemon_pipeline │ pokemon_data │ pokemon             │ [name, url, _dlt_l…  │ [VARCHAR, VARCHAR, VARC…  │ false     │\n",
              "└──────────────────┴──────────────┴─────────────────────┴──────────────────────┴───────────────────────────┴───────────┘"
            ]
          },
          "metadata": {}
        }
      ]
    },
    {
      "cell_type": "code",
      "source": [
        "stats_table = conn.sql(\"SELECT * FROM pokemon\").df()\n",
        "display(stats_table)"
      ],
      "metadata": {
        "colab": {
          "base_uri": "https://localhost:8080/",
          "height": 552
        },
        "id": "FWgBpj9gtIGy",
        "outputId": "540b6a7e-ac06-4145-dfa8-12e6d54fe743"
      },
      "execution_count": 11,
      "outputs": [
        {
          "output_type": "display_data",
          "data": {
            "text/plain": [
              "          name                                    url       _dlt_load_id  \\\n",
              "0    bulbasaur   https://pokeapi.co/api/v2/pokemon/1/  1696255242.954876   \n",
              "1      ivysaur   https://pokeapi.co/api/v2/pokemon/2/  1696255242.954876   \n",
              "2     venusaur   https://pokeapi.co/api/v2/pokemon/3/  1696255242.954876   \n",
              "3   charmander   https://pokeapi.co/api/v2/pokemon/4/  1696255242.954876   \n",
              "4   charmeleon   https://pokeapi.co/api/v2/pokemon/5/  1696255242.954876   \n",
              "5    charizard   https://pokeapi.co/api/v2/pokemon/6/  1696255242.954876   \n",
              "6     squirtle   https://pokeapi.co/api/v2/pokemon/7/  1696255242.954876   \n",
              "7    wartortle   https://pokeapi.co/api/v2/pokemon/8/  1696255242.954876   \n",
              "8    blastoise   https://pokeapi.co/api/v2/pokemon/9/  1696255242.954876   \n",
              "9     caterpie  https://pokeapi.co/api/v2/pokemon/10/  1696255242.954876   \n",
              "10     metapod  https://pokeapi.co/api/v2/pokemon/11/  1696255242.954876   \n",
              "11  butterfree  https://pokeapi.co/api/v2/pokemon/12/  1696255242.954876   \n",
              "12      weedle  https://pokeapi.co/api/v2/pokemon/13/  1696255242.954876   \n",
              "13      kakuna  https://pokeapi.co/api/v2/pokemon/14/  1696255242.954876   \n",
              "14    beedrill  https://pokeapi.co/api/v2/pokemon/15/  1696255242.954876   \n",
              "15      pidgey  https://pokeapi.co/api/v2/pokemon/16/  1696255242.954876   \n",
              "16   pidgeotto  https://pokeapi.co/api/v2/pokemon/17/  1696255242.954876   \n",
              "17     pidgeot  https://pokeapi.co/api/v2/pokemon/18/  1696255242.954876   \n",
              "18     rattata  https://pokeapi.co/api/v2/pokemon/19/  1696255242.954876   \n",
              "19    raticate  https://pokeapi.co/api/v2/pokemon/20/  1696255242.954876   \n",
              "\n",
              "           _dlt_id  \n",
              "0   eXxVlEvjo1KWLA  \n",
              "1   McJwYTRx0xB5JQ  \n",
              "2   lailc2V41ruG0Q  \n",
              "3   w334MBbZevJsHQ  \n",
              "4   uOcCRlNAfS8HWA  \n",
              "5   ZJQUQ76yCYfm0w  \n",
              "6   Ug2yX1f1td7I6A  \n",
              "7   OgBgbA9bCwdSlw  \n",
              "8   8aUzaskNbsH/Og  \n",
              "9   jlln8jZwnmi+Iw  \n",
              "10  QzeVCjJRQDCTzg  \n",
              "11  w8PneF2UTAewOw  \n",
              "12  ZI6S0eQinp3xHg  \n",
              "13  38JOqIRCizPcNQ  \n",
              "14  dnfY0fzqbPQkRg  \n",
              "15  CvQugKM4o8u3og  \n",
              "16  9uqXlNKkb+EopA  \n",
              "17  5bZQfsj2w9lorg  \n",
              "18  fP0p1eyxoMZndQ  \n",
              "19  MCIMULFbm6osBA  "
            ],
            "text/html": [
              "\n",
              "  <div id=\"df-78de8330-4faf-49aa-830a-8c97b446b705\" class=\"colab-df-container\">\n",
              "    <div>\n",
              "<style scoped>\n",
              "    .dataframe tbody tr th:only-of-type {\n",
              "        vertical-align: middle;\n",
              "    }\n",
              "\n",
              "    .dataframe tbody tr th {\n",
              "        vertical-align: top;\n",
              "    }\n",
              "\n",
              "    .dataframe thead th {\n",
              "        text-align: right;\n",
              "    }\n",
              "</style>\n",
              "<table border=\"1\" class=\"dataframe\">\n",
              "  <thead>\n",
              "    <tr style=\"text-align: right;\">\n",
              "      <th></th>\n",
              "      <th>name</th>\n",
              "      <th>url</th>\n",
              "      <th>_dlt_load_id</th>\n",
              "      <th>_dlt_id</th>\n",
              "    </tr>\n",
              "  </thead>\n",
              "  <tbody>\n",
              "    <tr>\n",
              "      <th>0</th>\n",
              "      <td>bulbasaur</td>\n",
              "      <td>https://pokeapi.co/api/v2/pokemon/1/</td>\n",
              "      <td>1696255242.954876</td>\n",
              "      <td>eXxVlEvjo1KWLA</td>\n",
              "    </tr>\n",
              "    <tr>\n",
              "      <th>1</th>\n",
              "      <td>ivysaur</td>\n",
              "      <td>https://pokeapi.co/api/v2/pokemon/2/</td>\n",
              "      <td>1696255242.954876</td>\n",
              "      <td>McJwYTRx0xB5JQ</td>\n",
              "    </tr>\n",
              "    <tr>\n",
              "      <th>2</th>\n",
              "      <td>venusaur</td>\n",
              "      <td>https://pokeapi.co/api/v2/pokemon/3/</td>\n",
              "      <td>1696255242.954876</td>\n",
              "      <td>lailc2V41ruG0Q</td>\n",
              "    </tr>\n",
              "    <tr>\n",
              "      <th>3</th>\n",
              "      <td>charmander</td>\n",
              "      <td>https://pokeapi.co/api/v2/pokemon/4/</td>\n",
              "      <td>1696255242.954876</td>\n",
              "      <td>w334MBbZevJsHQ</td>\n",
              "    </tr>\n",
              "    <tr>\n",
              "      <th>4</th>\n",
              "      <td>charmeleon</td>\n",
              "      <td>https://pokeapi.co/api/v2/pokemon/5/</td>\n",
              "      <td>1696255242.954876</td>\n",
              "      <td>uOcCRlNAfS8HWA</td>\n",
              "    </tr>\n",
              "    <tr>\n",
              "      <th>5</th>\n",
              "      <td>charizard</td>\n",
              "      <td>https://pokeapi.co/api/v2/pokemon/6/</td>\n",
              "      <td>1696255242.954876</td>\n",
              "      <td>ZJQUQ76yCYfm0w</td>\n",
              "    </tr>\n",
              "    <tr>\n",
              "      <th>6</th>\n",
              "      <td>squirtle</td>\n",
              "      <td>https://pokeapi.co/api/v2/pokemon/7/</td>\n",
              "      <td>1696255242.954876</td>\n",
              "      <td>Ug2yX1f1td7I6A</td>\n",
              "    </tr>\n",
              "    <tr>\n",
              "      <th>7</th>\n",
              "      <td>wartortle</td>\n",
              "      <td>https://pokeapi.co/api/v2/pokemon/8/</td>\n",
              "      <td>1696255242.954876</td>\n",
              "      <td>OgBgbA9bCwdSlw</td>\n",
              "    </tr>\n",
              "    <tr>\n",
              "      <th>8</th>\n",
              "      <td>blastoise</td>\n",
              "      <td>https://pokeapi.co/api/v2/pokemon/9/</td>\n",
              "      <td>1696255242.954876</td>\n",
              "      <td>8aUzaskNbsH/Og</td>\n",
              "    </tr>\n",
              "    <tr>\n",
              "      <th>9</th>\n",
              "      <td>caterpie</td>\n",
              "      <td>https://pokeapi.co/api/v2/pokemon/10/</td>\n",
              "      <td>1696255242.954876</td>\n",
              "      <td>jlln8jZwnmi+Iw</td>\n",
              "    </tr>\n",
              "    <tr>\n",
              "      <th>10</th>\n",
              "      <td>metapod</td>\n",
              "      <td>https://pokeapi.co/api/v2/pokemon/11/</td>\n",
              "      <td>1696255242.954876</td>\n",
              "      <td>QzeVCjJRQDCTzg</td>\n",
              "    </tr>\n",
              "    <tr>\n",
              "      <th>11</th>\n",
              "      <td>butterfree</td>\n",
              "      <td>https://pokeapi.co/api/v2/pokemon/12/</td>\n",
              "      <td>1696255242.954876</td>\n",
              "      <td>w8PneF2UTAewOw</td>\n",
              "    </tr>\n",
              "    <tr>\n",
              "      <th>12</th>\n",
              "      <td>weedle</td>\n",
              "      <td>https://pokeapi.co/api/v2/pokemon/13/</td>\n",
              "      <td>1696255242.954876</td>\n",
              "      <td>ZI6S0eQinp3xHg</td>\n",
              "    </tr>\n",
              "    <tr>\n",
              "      <th>13</th>\n",
              "      <td>kakuna</td>\n",
              "      <td>https://pokeapi.co/api/v2/pokemon/14/</td>\n",
              "      <td>1696255242.954876</td>\n",
              "      <td>38JOqIRCizPcNQ</td>\n",
              "    </tr>\n",
              "    <tr>\n",
              "      <th>14</th>\n",
              "      <td>beedrill</td>\n",
              "      <td>https://pokeapi.co/api/v2/pokemon/15/</td>\n",
              "      <td>1696255242.954876</td>\n",
              "      <td>dnfY0fzqbPQkRg</td>\n",
              "    </tr>\n",
              "    <tr>\n",
              "      <th>15</th>\n",
              "      <td>pidgey</td>\n",
              "      <td>https://pokeapi.co/api/v2/pokemon/16/</td>\n",
              "      <td>1696255242.954876</td>\n",
              "      <td>CvQugKM4o8u3og</td>\n",
              "    </tr>\n",
              "    <tr>\n",
              "      <th>16</th>\n",
              "      <td>pidgeotto</td>\n",
              "      <td>https://pokeapi.co/api/v2/pokemon/17/</td>\n",
              "      <td>1696255242.954876</td>\n",
              "      <td>9uqXlNKkb+EopA</td>\n",
              "    </tr>\n",
              "    <tr>\n",
              "      <th>17</th>\n",
              "      <td>pidgeot</td>\n",
              "      <td>https://pokeapi.co/api/v2/pokemon/18/</td>\n",
              "      <td>1696255242.954876</td>\n",
              "      <td>5bZQfsj2w9lorg</td>\n",
              "    </tr>\n",
              "    <tr>\n",
              "      <th>18</th>\n",
              "      <td>rattata</td>\n",
              "      <td>https://pokeapi.co/api/v2/pokemon/19/</td>\n",
              "      <td>1696255242.954876</td>\n",
              "      <td>fP0p1eyxoMZndQ</td>\n",
              "    </tr>\n",
              "    <tr>\n",
              "      <th>19</th>\n",
              "      <td>raticate</td>\n",
              "      <td>https://pokeapi.co/api/v2/pokemon/20/</td>\n",
              "      <td>1696255242.954876</td>\n",
              "      <td>MCIMULFbm6osBA</td>\n",
              "    </tr>\n",
              "  </tbody>\n",
              "</table>\n",
              "</div>\n",
              "    <div class=\"colab-df-buttons\">\n",
              "\n",
              "  <div class=\"colab-df-container\">\n",
              "    <button class=\"colab-df-convert\" onclick=\"convertToInteractive('df-78de8330-4faf-49aa-830a-8c97b446b705')\"\n",
              "            title=\"Convert this dataframe to an interactive table.\"\n",
              "            style=\"display:none;\">\n",
              "\n",
              "  <svg xmlns=\"http://www.w3.org/2000/svg\" height=\"24px\" viewBox=\"0 -960 960 960\">\n",
              "    <path d=\"M120-120v-720h720v720H120Zm60-500h600v-160H180v160Zm220 220h160v-160H400v160Zm0 220h160v-160H400v160ZM180-400h160v-160H180v160Zm440 0h160v-160H620v160ZM180-180h160v-160H180v160Zm440 0h160v-160H620v160Z\"/>\n",
              "  </svg>\n",
              "    </button>\n",
              "\n",
              "  <style>\n",
              "    .colab-df-container {\n",
              "      display:flex;\n",
              "      gap: 12px;\n",
              "    }\n",
              "\n",
              "    .colab-df-convert {\n",
              "      background-color: #E8F0FE;\n",
              "      border: none;\n",
              "      border-radius: 50%;\n",
              "      cursor: pointer;\n",
              "      display: none;\n",
              "      fill: #1967D2;\n",
              "      height: 32px;\n",
              "      padding: 0 0 0 0;\n",
              "      width: 32px;\n",
              "    }\n",
              "\n",
              "    .colab-df-convert:hover {\n",
              "      background-color: #E2EBFA;\n",
              "      box-shadow: 0px 1px 2px rgba(60, 64, 67, 0.3), 0px 1px 3px 1px rgba(60, 64, 67, 0.15);\n",
              "      fill: #174EA6;\n",
              "    }\n",
              "\n",
              "    .colab-df-buttons div {\n",
              "      margin-bottom: 4px;\n",
              "    }\n",
              "\n",
              "    [theme=dark] .colab-df-convert {\n",
              "      background-color: #3B4455;\n",
              "      fill: #D2E3FC;\n",
              "    }\n",
              "\n",
              "    [theme=dark] .colab-df-convert:hover {\n",
              "      background-color: #434B5C;\n",
              "      box-shadow: 0px 1px 3px 1px rgba(0, 0, 0, 0.15);\n",
              "      filter: drop-shadow(0px 1px 2px rgba(0, 0, 0, 0.3));\n",
              "      fill: #FFFFFF;\n",
              "    }\n",
              "  </style>\n",
              "\n",
              "    <script>\n",
              "      const buttonEl =\n",
              "        document.querySelector('#df-78de8330-4faf-49aa-830a-8c97b446b705 button.colab-df-convert');\n",
              "      buttonEl.style.display =\n",
              "        google.colab.kernel.accessAllowed ? 'block' : 'none';\n",
              "\n",
              "      async function convertToInteractive(key) {\n",
              "        const element = document.querySelector('#df-78de8330-4faf-49aa-830a-8c97b446b705');\n",
              "        const dataTable =\n",
              "          await google.colab.kernel.invokeFunction('convertToInteractive',\n",
              "                                                    [key], {});\n",
              "        if (!dataTable) return;\n",
              "\n",
              "        const docLinkHtml = 'Like what you see? Visit the ' +\n",
              "          '<a target=\"_blank\" href=https://colab.research.google.com/notebooks/data_table.ipynb>data table notebook</a>'\n",
              "          + ' to learn more about interactive tables.';\n",
              "        element.innerHTML = '';\n",
              "        dataTable['output_type'] = 'display_data';\n",
              "        await google.colab.output.renderOutput(dataTable, element);\n",
              "        const docLink = document.createElement('div');\n",
              "        docLink.innerHTML = docLinkHtml;\n",
              "        element.appendChild(docLink);\n",
              "      }\n",
              "    </script>\n",
              "  </div>\n",
              "\n",
              "\n",
              "<div id=\"df-99553399-53c2-452b-ae93-17a738ceafb9\">\n",
              "  <button class=\"colab-df-quickchart\" onclick=\"quickchart('df-99553399-53c2-452b-ae93-17a738ceafb9')\"\n",
              "            title=\"Suggest charts.\"\n",
              "            style=\"display:none;\">\n",
              "\n",
              "<svg xmlns=\"http://www.w3.org/2000/svg\" height=\"24px\"viewBox=\"0 0 24 24\"\n",
              "     width=\"24px\">\n",
              "    <g>\n",
              "        <path d=\"M19 3H5c-1.1 0-2 .9-2 2v14c0 1.1.9 2 2 2h14c1.1 0 2-.9 2-2V5c0-1.1-.9-2-2-2zM9 17H7v-7h2v7zm4 0h-2V7h2v10zm4 0h-2v-4h2v4z\"/>\n",
              "    </g>\n",
              "</svg>\n",
              "  </button>\n",
              "\n",
              "<style>\n",
              "  .colab-df-quickchart {\n",
              "      --bg-color: #E8F0FE;\n",
              "      --fill-color: #1967D2;\n",
              "      --hover-bg-color: #E2EBFA;\n",
              "      --hover-fill-color: #174EA6;\n",
              "      --disabled-fill-color: #AAA;\n",
              "      --disabled-bg-color: #DDD;\n",
              "  }\n",
              "\n",
              "  [theme=dark] .colab-df-quickchart {\n",
              "      --bg-color: #3B4455;\n",
              "      --fill-color: #D2E3FC;\n",
              "      --hover-bg-color: #434B5C;\n",
              "      --hover-fill-color: #FFFFFF;\n",
              "      --disabled-bg-color: #3B4455;\n",
              "      --disabled-fill-color: #666;\n",
              "  }\n",
              "\n",
              "  .colab-df-quickchart {\n",
              "    background-color: var(--bg-color);\n",
              "    border: none;\n",
              "    border-radius: 50%;\n",
              "    cursor: pointer;\n",
              "    display: none;\n",
              "    fill: var(--fill-color);\n",
              "    height: 32px;\n",
              "    padding: 0;\n",
              "    width: 32px;\n",
              "  }\n",
              "\n",
              "  .colab-df-quickchart:hover {\n",
              "    background-color: var(--hover-bg-color);\n",
              "    box-shadow: 0 1px 2px rgba(60, 64, 67, 0.3), 0 1px 3px 1px rgba(60, 64, 67, 0.15);\n",
              "    fill: var(--button-hover-fill-color);\n",
              "  }\n",
              "\n",
              "  .colab-df-quickchart-complete:disabled,\n",
              "  .colab-df-quickchart-complete:disabled:hover {\n",
              "    background-color: var(--disabled-bg-color);\n",
              "    fill: var(--disabled-fill-color);\n",
              "    box-shadow: none;\n",
              "  }\n",
              "\n",
              "  .colab-df-spinner {\n",
              "    border: 2px solid var(--fill-color);\n",
              "    border-color: transparent;\n",
              "    border-bottom-color: var(--fill-color);\n",
              "    animation:\n",
              "      spin 1s steps(1) infinite;\n",
              "  }\n",
              "\n",
              "  @keyframes spin {\n",
              "    0% {\n",
              "      border-color: transparent;\n",
              "      border-bottom-color: var(--fill-color);\n",
              "      border-left-color: var(--fill-color);\n",
              "    }\n",
              "    20% {\n",
              "      border-color: transparent;\n",
              "      border-left-color: var(--fill-color);\n",
              "      border-top-color: var(--fill-color);\n",
              "    }\n",
              "    30% {\n",
              "      border-color: transparent;\n",
              "      border-left-color: var(--fill-color);\n",
              "      border-top-color: var(--fill-color);\n",
              "      border-right-color: var(--fill-color);\n",
              "    }\n",
              "    40% {\n",
              "      border-color: transparent;\n",
              "      border-right-color: var(--fill-color);\n",
              "      border-top-color: var(--fill-color);\n",
              "    }\n",
              "    60% {\n",
              "      border-color: transparent;\n",
              "      border-right-color: var(--fill-color);\n",
              "    }\n",
              "    80% {\n",
              "      border-color: transparent;\n",
              "      border-right-color: var(--fill-color);\n",
              "      border-bottom-color: var(--fill-color);\n",
              "    }\n",
              "    90% {\n",
              "      border-color: transparent;\n",
              "      border-bottom-color: var(--fill-color);\n",
              "    }\n",
              "  }\n",
              "</style>\n",
              "\n",
              "  <script>\n",
              "    async function quickchart(key) {\n",
              "      const quickchartButtonEl =\n",
              "        document.querySelector('#' + key + ' button');\n",
              "      quickchartButtonEl.disabled = true;  // To prevent multiple clicks.\n",
              "      quickchartButtonEl.classList.add('colab-df-spinner');\n",
              "      try {\n",
              "        const charts = await google.colab.kernel.invokeFunction(\n",
              "            'suggestCharts', [key], {});\n",
              "      } catch (error) {\n",
              "        console.error('Error during call to suggestCharts:', error);\n",
              "      }\n",
              "      quickchartButtonEl.classList.remove('colab-df-spinner');\n",
              "      quickchartButtonEl.classList.add('colab-df-quickchart-complete');\n",
              "    }\n",
              "    (() => {\n",
              "      let quickchartButtonEl =\n",
              "        document.querySelector('#df-99553399-53c2-452b-ae93-17a738ceafb9 button');\n",
              "      quickchartButtonEl.style.display =\n",
              "        google.colab.kernel.accessAllowed ? 'block' : 'none';\n",
              "    })();\n",
              "  </script>\n",
              "</div>\n",
              "    </div>\n",
              "  </div>\n"
            ],
            "application/vnd.google.colaboratory.module+javascript": "\n      import \"https://ssl.gstatic.com/colaboratory/data_table/881c4a0d49046431/data_table.js\";\n\n      const table = window.createDataTable({\n        data: [[{\n            'v': 0,\n            'f': \"0\",\n        },\n\"bulbasaur\",\n\"https://pokeapi.co/api/v2/pokemon/1/\",\n\"1696255242.954876\",\n\"eXxVlEvjo1KWLA\"],\n [{\n            'v': 1,\n            'f': \"1\",\n        },\n\"ivysaur\",\n\"https://pokeapi.co/api/v2/pokemon/2/\",\n\"1696255242.954876\",\n\"McJwYTRx0xB5JQ\"],\n [{\n            'v': 2,\n            'f': \"2\",\n        },\n\"venusaur\",\n\"https://pokeapi.co/api/v2/pokemon/3/\",\n\"1696255242.954876\",\n\"lailc2V41ruG0Q\"],\n [{\n            'v': 3,\n            'f': \"3\",\n        },\n\"charmander\",\n\"https://pokeapi.co/api/v2/pokemon/4/\",\n\"1696255242.954876\",\n\"w334MBbZevJsHQ\"],\n [{\n            'v': 4,\n            'f': \"4\",\n        },\n\"charmeleon\",\n\"https://pokeapi.co/api/v2/pokemon/5/\",\n\"1696255242.954876\",\n\"uOcCRlNAfS8HWA\"],\n [{\n            'v': 5,\n            'f': \"5\",\n        },\n\"charizard\",\n\"https://pokeapi.co/api/v2/pokemon/6/\",\n\"1696255242.954876\",\n\"ZJQUQ76yCYfm0w\"],\n [{\n            'v': 6,\n            'f': \"6\",\n        },\n\"squirtle\",\n\"https://pokeapi.co/api/v2/pokemon/7/\",\n\"1696255242.954876\",\n\"Ug2yX1f1td7I6A\"],\n [{\n            'v': 7,\n            'f': \"7\",\n        },\n\"wartortle\",\n\"https://pokeapi.co/api/v2/pokemon/8/\",\n\"1696255242.954876\",\n\"OgBgbA9bCwdSlw\"],\n [{\n            'v': 8,\n            'f': \"8\",\n        },\n\"blastoise\",\n\"https://pokeapi.co/api/v2/pokemon/9/\",\n\"1696255242.954876\",\n\"8aUzaskNbsH/Og\"],\n [{\n            'v': 9,\n            'f': \"9\",\n        },\n\"caterpie\",\n\"https://pokeapi.co/api/v2/pokemon/10/\",\n\"1696255242.954876\",\n\"jlln8jZwnmi+Iw\"],\n [{\n            'v': 10,\n            'f': \"10\",\n        },\n\"metapod\",\n\"https://pokeapi.co/api/v2/pokemon/11/\",\n\"1696255242.954876\",\n\"QzeVCjJRQDCTzg\"],\n [{\n            'v': 11,\n            'f': \"11\",\n        },\n\"butterfree\",\n\"https://pokeapi.co/api/v2/pokemon/12/\",\n\"1696255242.954876\",\n\"w8PneF2UTAewOw\"],\n [{\n            'v': 12,\n            'f': \"12\",\n        },\n\"weedle\",\n\"https://pokeapi.co/api/v2/pokemon/13/\",\n\"1696255242.954876\",\n\"ZI6S0eQinp3xHg\"],\n [{\n            'v': 13,\n            'f': \"13\",\n        },\n\"kakuna\",\n\"https://pokeapi.co/api/v2/pokemon/14/\",\n\"1696255242.954876\",\n\"38JOqIRCizPcNQ\"],\n [{\n            'v': 14,\n            'f': \"14\",\n        },\n\"beedrill\",\n\"https://pokeapi.co/api/v2/pokemon/15/\",\n\"1696255242.954876\",\n\"dnfY0fzqbPQkRg\"],\n [{\n            'v': 15,\n            'f': \"15\",\n        },\n\"pidgey\",\n\"https://pokeapi.co/api/v2/pokemon/16/\",\n\"1696255242.954876\",\n\"CvQugKM4o8u3og\"],\n [{\n            'v': 16,\n            'f': \"16\",\n        },\n\"pidgeotto\",\n\"https://pokeapi.co/api/v2/pokemon/17/\",\n\"1696255242.954876\",\n\"9uqXlNKkb+EopA\"],\n [{\n            'v': 17,\n            'f': \"17\",\n        },\n\"pidgeot\",\n\"https://pokeapi.co/api/v2/pokemon/18/\",\n\"1696255242.954876\",\n\"5bZQfsj2w9lorg\"],\n [{\n            'v': 18,\n            'f': \"18\",\n        },\n\"rattata\",\n\"https://pokeapi.co/api/v2/pokemon/19/\",\n\"1696255242.954876\",\n\"fP0p1eyxoMZndQ\"],\n [{\n            'v': 19,\n            'f': \"19\",\n        },\n\"raticate\",\n\"https://pokeapi.co/api/v2/pokemon/20/\",\n\"1696255242.954876\",\n\"MCIMULFbm6osBA\"]],\n        columns: [[\"number\", \"index\"], [\"string\", \"name\"], [\"string\", \"url\"], [\"string\", \"_dlt_load_id\"], [\"string\", \"_dlt_id\"]],\n        columnOptions: [{\"width\": \"1px\", \"className\": \"index_column\"}],\n        rowsPerPage: 25,\n        helpUrl: \"https://colab.research.google.com/notebooks/data_table.ipynb\",\n        suppressOutputScrolling: true,\n        minimumWidth: undefined,\n      });\n\n      function appendQuickchartButton(parentElement) {\n        let quickchartButtonContainerElement = document.createElement('div');\n        quickchartButtonContainerElement.innerHTML = `\n<div id=\"df-02300d1c-3479-4038-a06a-0e9fe53a98eb\">\n  <button class=\"colab-df-quickchart\" onclick=\"quickchart('df-02300d1c-3479-4038-a06a-0e9fe53a98eb')\"\n            title=\"Suggest charts.\"\n            style=\"display:none;\">\n    \n<svg xmlns=\"http://www.w3.org/2000/svg\" height=\"24px\"viewBox=\"0 0 24 24\"\n     width=\"24px\">\n    <g>\n        <path d=\"M19 3H5c-1.1 0-2 .9-2 2v14c0 1.1.9 2 2 2h14c1.1 0 2-.9 2-2V5c0-1.1-.9-2-2-2zM9 17H7v-7h2v7zm4 0h-2V7h2v10zm4 0h-2v-4h2v4z\"/>\n    </g>\n</svg>\n  </button>\n  \n<style>\n  .colab-df-quickchart {\n      --bg-color: #E8F0FE;\n      --fill-color: #1967D2;\n      --hover-bg-color: #E2EBFA;\n      --hover-fill-color: #174EA6;\n      --disabled-fill-color: #AAA;\n      --disabled-bg-color: #DDD;\n  }\n\n  [theme=dark] .colab-df-quickchart {\n      --bg-color: #3B4455;\n      --fill-color: #D2E3FC;\n      --hover-bg-color: #434B5C;\n      --hover-fill-color: #FFFFFF;\n      --disabled-bg-color: #3B4455;\n      --disabled-fill-color: #666;\n  }\n\n  .colab-df-quickchart {\n    background-color: var(--bg-color);\n    border: none;\n    border-radius: 50%;\n    cursor: pointer;\n    display: none;\n    fill: var(--fill-color);\n    height: 32px;\n    padding: 0;\n    width: 32px;\n  }\n\n  .colab-df-quickchart:hover {\n    background-color: var(--hover-bg-color);\n    box-shadow: 0 1px 2px rgba(60, 64, 67, 0.3), 0 1px 3px 1px rgba(60, 64, 67, 0.15);\n    fill: var(--button-hover-fill-color);\n  }\n\n  .colab-df-quickchart-complete:disabled,\n  .colab-df-quickchart-complete:disabled:hover {\n    background-color: var(--disabled-bg-color);\n    fill: var(--disabled-fill-color);\n    box-shadow: none;\n  }\n\n  .colab-df-spinner {\n    border: 2px solid var(--fill-color);\n    border-color: transparent;\n    border-bottom-color: var(--fill-color);\n    animation:\n      spin 1s steps(1) infinite;\n  }\n\n  @keyframes spin {\n    0% {\n      border-color: transparent;\n      border-bottom-color: var(--fill-color);\n      border-left-color: var(--fill-color);\n    }\n    20% {\n      border-color: transparent;\n      border-left-color: var(--fill-color);\n      border-top-color: var(--fill-color);\n    }\n    30% {\n      border-color: transparent;\n      border-left-color: var(--fill-color);\n      border-top-color: var(--fill-color);\n      border-right-color: var(--fill-color);\n    }\n    40% {\n      border-color: transparent;\n      border-right-color: var(--fill-color);\n      border-top-color: var(--fill-color);\n    }\n    60% {\n      border-color: transparent;\n      border-right-color: var(--fill-color);\n    }\n    80% {\n      border-color: transparent;\n      border-right-color: var(--fill-color);\n      border-bottom-color: var(--fill-color);\n    }\n    90% {\n      border-color: transparent;\n      border-bottom-color: var(--fill-color);\n    }\n  }\n</style>\n\n  <script>\n    async function quickchart(key) {\n      const quickchartButtonEl =\n        document.querySelector('#' + key + ' button');\n      quickchartButtonEl.disabled = true;  // To prevent multiple clicks.\n      quickchartButtonEl.classList.add('colab-df-spinner');\n      try {\n        const charts = await google.colab.kernel.invokeFunction(\n            'suggestCharts', [key], {});\n      } catch (error) {\n        console.error('Error during call to suggestCharts:', error);\n      }\n      quickchartButtonEl.classList.remove('colab-df-spinner');\n      quickchartButtonEl.classList.add('colab-df-quickchart-complete');\n    }\n    (() => {\n      let quickchartButtonEl =\n        document.querySelector('#df-02300d1c-3479-4038-a06a-0e9fe53a98eb button');\n      quickchartButtonEl.style.display =\n        google.colab.kernel.accessAllowed ? 'block' : 'none';\n    })();\n  </script>\n</div>`;\n        parentElement.appendChild(quickchartButtonContainerElement);\n      }\n\n      appendQuickchartButton(table);\n    "
          },
          "metadata": {}
        }
      ]
    },
    {
      "cell_type": "markdown",
      "source": [
        "# **Next Steps** 👀"
      ],
      "metadata": {
        "id": "ol13bwL3yENc"
      }
    },
    {
      "cell_type": "markdown",
      "source": [
        "## **[Give `dlt` a ⭐ on GitHub](https://github.com/dlt-hub/dlt)**\n",
        "## **[Join the `dlt` community on Slack](https://join.slack.com/t/dlthub-community/shared_invite/zt-1slox199h-HAE7EQoXmstkP_bTqal65g)**\n",
        "## **[Read the `dlt` docs](https://dlthub.com/docs/)**"
      ],
      "metadata": {
        "id": "nNIRk_NM1Mf6"
      }
    }
  ]
}