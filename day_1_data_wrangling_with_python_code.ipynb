{
  "nbformat": 4,
  "nbformat_minor": 0,
  "metadata": {
    "language": "python",
    "kernelspec": {
      "name": "python_defaultSpec_1593188532046",
      "display_name": "Python 3.7.4 64-bit ('base': conda)"
    },
    "colab": {
      "name": "day_1_data_wrangling_with_python_code.ipynb",
      "provenance": [],
      "include_colab_link": true
    }
  },
  "cells": [
    {
      "cell_type": "markdown",
      "metadata": {
        "id": "view-in-github",
        "colab_type": "text"
      },
      "source": [
        "<a href=\"https://colab.research.google.com/github/mbyanfei/Google-Colab/blob/master/day_1_data_wrangling_with_python_code.ipynb\" target=\"_parent\"><img src=\"https://colab.research.google.com/assets/colab-badge.svg\" alt=\"Open In Colab\"/></a>"
      ]
    },
    {
      "cell_type": "code",
      "metadata": {
        "id": "duyboGTPgMSA"
      },
      "source": [
        "\n",
        "#######################################################\n",
        "#######################################################\n",
        "############    COPYRIGHT - DATA SOCIETY   ############\n",
        "#######################################################\n",
        "#######################################################\n",
        "\n",
        "## DAY 1 DATA WRANGLING WITH PYTHON ##\n",
        "\n",
        "## NOTE: To run individual pieces of code, select the line of code and\n",
        "##       press ctrl + enter for PCs or command + enter for Macs\n",
        "\n"
      ],
      "execution_count": null,
      "outputs": []
    },
    {
      "cell_type": "code",
      "metadata": {
        "tags": [],
        "id": "Db771G3QgMSI",
        "outputId": "f5f1aaca-014f-44d0-efda-12c76bbc56a6"
      },
      "source": [
        "#=================================================-\n",
        "#### Slide 25: Refresh on basic coding in Python  ####\n",
        "\n",
        "# Store variables.\n",
        "name = 'Mike'\n",
        "a, b, c = 1, 2, 3\n",
        "\n",
        "# Print a variable out.\n",
        "print(a)\n",
        "# Swap variable values.\n",
        "a, b = b, a\n",
        "\n",
        "# Delete a variable.\n",
        "del a\n",
        "# Slice a string\n",
        "letters = 'ABCDEFGH'\n",
        "print(letters[2:5])\n",
        "# Length of a string\n",
        "print(len(letters))\n",
        "print(type(letters))\n",
        "\n"
      ],
      "execution_count": null,
      "outputs": [
        {
          "output_type": "stream",
          "text": [
            "1\n",
            "CDE\n",
            "8\n",
            "<class 'str'>\n"
          ],
          "name": "stdout"
        }
      ]
    },
    {
      "cell_type": "code",
      "metadata": {
        "tags": [],
        "id": "KVYOiRvKgMSJ",
        "outputId": "e4ab038b-c6c1-4d3d-96d1-80e7e1a514ce"
      },
      "source": [
        "#=================================================-\n",
        "#### Slide 29: User-defined functions in Python  ####\n",
        "\n",
        "# Define a function that prints the value of `Pi`.\n",
        "def PrintPi():     #<- function name\n",
        "    print(3.14)    #<- action to perform\n",
        "PrintPi()\n",
        "\n"
      ],
      "execution_count": null,
      "outputs": [
        {
          "output_type": "stream",
          "text": [
            "3.14\n"
          ],
          "name": "stdout"
        }
      ]
    },
    {
      "cell_type": "code",
      "metadata": {
        "tags": [],
        "id": "HQ3KMGehgMSK",
        "outputId": "9b459f37-94ae-45f9-d277-665cec29aa87"
      },
      "source": [
        "#=================================================-\n",
        "#### Slide 30: Functions in Python with 1 or more arguments  ####\n",
        "\n",
        "# Define a function that prints the value of `Pi`\n",
        "# and takes a number of decimal points to which we want to round the number.\n",
        "def PrintPi(num_decimals):               #<- function name + argument(s)\n",
        "    pi = 3.14159265359                   #<- action to perform\n",
        "    rounded_pi = round(pi, num_decimals) #<- action to perform\n",
        "    print(rounded_pi)                    #<- action to perform\n",
        "\n",
        "# Print value of pi rounded to 4 decimal points.\n",
        "PrintPi(4)\n",
        "\n"
      ],
      "execution_count": null,
      "outputs": [
        {
          "output_type": "stream",
          "text": [
            "3.1416\n"
          ],
          "name": "stdout"
        }
      ]
    },
    {
      "cell_type": "code",
      "metadata": {
        "id": "uJ49pyC7gMSL"
      },
      "source": [
        "#=================================================-\n",
        "#### Slide 31: Functions in Python that return a value  ####\n",
        "\n",
        "# Define a function that prints the value of `Pi`,\n",
        "# takes a number of decimal points to which we want to round the number,\n",
        "# and returns the value back to us.\n",
        "def GetPi(num_decimals):                 #<- function name + argument(s)\n",
        "    pi = 3.14159265359                   #<- action to perform\n",
        "    rounded_pi = round(pi, num_decimals) #<- action to perform\n",
        "    return rounded_pi                    #<- value to return\n",
        "\n"
      ],
      "execution_count": null,
      "outputs": []
    },
    {
      "cell_type": "code",
      "metadata": {
        "tags": [],
        "id": "RtX2XR-UgMSM",
        "outputId": "3ef9dbfe-4bd0-4b64-ccc3-c719c61014d4"
      },
      "source": [
        "#=================================================-\n",
        "#### Slide 32: Functions in Python that return a value (cont'd)  ####\n",
        "\n",
        "# Return a value of pi rounded to 4 decimal points.\n",
        "print(GetPi(4))\n",
        "\n",
        "# Return a value of pi rounded to 4 decimal points.\n",
        "# Assign it to a variable.\n",
        "pi_4 = GetPi(4)\n",
        "print(pi_4)\n",
        "\n",
        "\n"
      ],
      "execution_count": null,
      "outputs": [
        {
          "output_type": "stream",
          "text": [
            "3.1416\n",
            "3.1416\n"
          ],
          "name": "stdout"
        }
      ]
    },
    {
      "cell_type": "code",
      "metadata": {
        "id": "pNVR3Z7qgMSM"
      },
      "source": [
        "#=================================================-\n",
        "#### Slide 34: Functions in Python: MakeFullName  ####\n",
        "\n",
        "# Define a function that concatenates\n",
        "# first and last names.\n",
        "def MakeFullName(first_name, last_name):\n",
        "    full_name = first_name + ' ' + last_name\n",
        "    return full_name\n",
        "\n"
      ],
      "execution_count": null,
      "outputs": []
    },
    {
      "cell_type": "code",
      "metadata": {
        "tags": [],
        "id": "u-lrO7I1gMSN",
        "outputId": "55cb5640-1601-4ceb-c8ff-15563a063c84"
      },
      "source": [
        "#=================================================-\n",
        "#### Slide 35: Functions in Python: calling a function  ####\n",
        "\n",
        "# Call the function.\n",
        "print(MakeFullName(\"Harry\", \"Potter\"))\n",
        "# Call the function and save\n",
        "# output to variable.\n",
        "output_name = MakeFullName(\"Harry\", \"Potter\")\n",
        "print(output_name)\n",
        "\n"
      ],
      "execution_count": null,
      "outputs": [
        {
          "output_type": "stream",
          "text": [
            "Harry Potter\n",
            "Harry Potter\n"
          ],
          "name": "stdout"
        }
      ]
    },
    {
      "cell_type": "code",
      "metadata": {
        "id": "TKQUhS11gMSO"
      },
      "source": [
        "#=================================================-\n",
        "#### Slide 36: Functions in Python: EvaluateCarPrice  ####\n",
        "\n",
        "def EvaluateCarPrice(price):\n",
        "    if price > 38000:\n",
        "        action = \"Leave the dealership immediately, this is a rip off!\"\n",
        "    elif price > 22000 and price <= 38000 :\n",
        "        action = \"Take the car and go celebrate, you can afford it!\"\n",
        "    else:\n",
        "        action = \"Leave the dealership immediately, this is a scam!\"\n",
        "    return action\n",
        "\n"
      ],
      "execution_count": null,
      "outputs": []
    },
    {
      "cell_type": "code",
      "metadata": {
        "tags": [],
        "id": "p0mqvFpqgMSO",
        "outputId": "072b283e-3a28-4770-c9b3-a0aa04b2671c"
      },
      "source": [
        "#=================================================-\n",
        "#### Slide 37: Functions in Python: calling a function  ####\n",
        "\n",
        "# Let's set the price of a car to $45,000.\n",
        "price = 45000\n",
        "action1 = EvaluateCarPrice(price)\n",
        "print(action1)\n",
        "\n",
        "# Let's set the price of a car to $32,000.\n",
        "price = 32000\n",
        "action2 = EvaluateCarPrice(price)\n",
        "print(action2)\n",
        "\n",
        "# Let's set the price of a car to $5,000.\n",
        "price = 5000\n",
        "action3 = EvaluateCarPrice(price)\n",
        "print(action3)\n",
        "\n"
      ],
      "execution_count": null,
      "outputs": [
        {
          "output_type": "stream",
          "text": [
            "Leave the dealership immediately, this is a rip off!\n",
            "Take the car and go celebrate, you can afford it!\n",
            "Leave the dealership immediately, this is a scam!\n"
          ],
          "name": "stdout"
        }
      ]
    },
    {
      "cell_type": "code",
      "metadata": {
        "id": "jM6B7AKLgMSP"
      },
      "source": [
        "#=================================================-\n",
        "#### Slide 38: Functions that return two or more values  ####\n",
        "\n",
        "def MostProfitableMonth(sales_data):\n",
        "\n",
        "    biggest_amt = 0\n",
        "    biggest_month = None\n",
        "\n",
        "    for month, amt in sales_data.items():\n",
        "        if amt >= biggest_amt:\n",
        "            biggest_amt = amt\n",
        "            biggest_month = month\n",
        "\n",
        "    return (biggest_month, biggest_amt)\n",
        "\n"
      ],
      "execution_count": null,
      "outputs": []
    },
    {
      "cell_type": "code",
      "metadata": {
        "tags": [],
        "id": "a1jFcx9EgMSP",
        "outputId": "c91820d5-002b-4ee7-ce90-5b66dc1929f1"
      },
      "source": [
        "#=================================================-\n",
        "#### Slide 39: Functions that return two or more values (cont'd)  ####\n",
        "\n",
        "# Let's define a dictionary with sales data.\n",
        "year_sales = {'January': 1045, 'February': 1008, 'March': 1025,\n",
        "'April': 1080, 'May': 1100, 'June': 1050, 'July': 1050,\n",
        "'August': 950, 'September': 1010, 'October': 1500,\n",
        "'November': 1450, 'December': 1380}\n",
        "# Assign output of function to variables in correct order.\n",
        "best_sales_month, best_sales_amt = MostProfitableMonth(year_sales)\n",
        "print(\"Best month:\", best_sales_month)\n",
        "print(\"Best amount:\", best_sales_amt)\n",
        "\n"
      ],
      "execution_count": null,
      "outputs": [
        {
          "output_type": "stream",
          "text": [
            "Best month: October\n",
            "Best amount: 1500\n"
          ],
          "name": "stdout"
        }
      ]
    },
    {
      "cell_type": "code",
      "metadata": {
        "tags": [],
        "id": "vnO_HkKzgMSQ",
        "outputId": "9aa4210d-7bf0-47be-d318-99504246b9e1"
      },
      "source": [
        "#=================================================-\n",
        "#### Slide 40: Passing a list as an argument  ####\n",
        "\n",
        "# Define a function that returns the length of all character strings in a list.\n",
        "def calculate_lengths(list_of_strings):\n",
        "# Define an empty list to store the result.\n",
        "    lengths = []\n",
        "# Use a for loop to access items in the input list.\n",
        "    for item in list_of_strings:\n",
        "        lengths.append(len(item))\n",
        "\n",
        "    return lengths\n",
        "    \n",
        "result = calculate_lengths([\"Monday\", \"Tuesday\", \"Saturday\"])\n",
        "print(result)\n",
        "\n"
      ],
      "execution_count": null,
      "outputs": [
        {
          "output_type": "stream",
          "text": [
            "[6, 7, 8]\n"
          ],
          "name": "stdout"
        }
      ]
    },
    {
      "cell_type": "code",
      "metadata": {
        "id": "D65XKXC9gMSQ"
      },
      "source": [
        "#=================================================-\n",
        "#### Slide 41: Functions that have default arguments  ####\n",
        "\n",
        "def MostProfitableMonth(sales_data, verbose = True):\n",
        "\n",
        "    biggest_amt = 0\n",
        "    biggest_month = None\n",
        "\n",
        "    for month, amt in sales_data.items():\n",
        "        if amt >= biggest_amt:\n",
        "            biggest_amt = amt\n",
        "            biggest_month = month\n",
        "\n",
        "    if verbose:\n",
        "        print('The best sales month was', biggest_month, 'with amount sold equal to', biggest_amt)\n",
        "\n",
        "    return (biggest_month, biggest_amt)\n",
        "\n"
      ],
      "execution_count": null,
      "outputs": []
    },
    {
      "cell_type": "code",
      "metadata": {
        "tags": [],
        "id": "6PRo9egbgMSR",
        "outputId": "c0df4465-3486-48a4-d4e4-e367dbb1f7fb"
      },
      "source": [
        "#=================================================-\n",
        "#### Slide 42: Functions that have default arguments (cont'd)  ####\n",
        "\n",
        "# Assign output of function to variables in correct order.\n",
        "best_sales_month, best_sales_amt = MostProfitableMonth(year_sales)\n",
        "# Assign output of function to variables in correct order.\n",
        "best_sales_month, best_sales_amt = MostProfitableMonth(year_sales, False)\n",
        "print(\"Best month:\", best_sales_month, \"Best amount:\", best_sales_amt)\n",
        "\n"
      ],
      "execution_count": null,
      "outputs": [
        {
          "output_type": "stream",
          "text": [
            "The best sales month was October with amount sold equal to 1500\n",
            "Best month: October Best amount: 1500\n"
          ],
          "name": "stdout"
        }
      ]
    },
    {
      "cell_type": "code",
      "metadata": {
        "tags": [],
        "id": "1JehU9ZDgMSR",
        "outputId": "e80a8368-1334-4f06-d760-18737c29ffad"
      },
      "source": [
        "#=================================================-\n",
        "#### Slide 44: Anonymous functions: Syntax  ####\n",
        "\n",
        "print((lambda v: v + \" the 5th of November!\")(\"Remember\"))\n",
        "\n"
      ],
      "execution_count": null,
      "outputs": [
        {
          "output_type": "stream",
          "text": [
            "Remember the 5th of November!\n"
          ],
          "name": "stdout"
        }
      ]
    },
    {
      "cell_type": "code",
      "metadata": {
        "tags": [],
        "id": "Ugp7LV9igMSR",
        "outputId": "f4416474-eb93-4409-bf1e-bcc3e93d84dc"
      },
      "source": [
        "#=================================================-\n",
        "#### Slide 45: Anonymous functions with multiple arguments  ####\n",
        "\n",
        "remember = lambda v: v + \" the 5th of November!\"\n",
        "print(remember(\"Remember\"))\n",
        "y = lambda a, b: a + b\n",
        "print(y(765, -987))\n",
        "\n",
        "\n"
      ],
      "execution_count": null,
      "outputs": [
        {
          "output_type": "stream",
          "text": [
            "Remember the 5th of November!\n",
            "-222\n"
          ],
          "name": "stdout"
        }
      ]
    },
    {
      "cell_type": "code",
      "metadata": {
        "tags": [],
        "id": "A4WN2sY3gMSS",
        "outputId": "630493f4-f80e-4442-fb88-b00dfe676b5c"
      },
      "source": [
        "#=================================================-\n",
        "#### Slide 46: Function within another function  ####\n",
        "\n",
        "# Define a function to check if a number is even or odd.\n",
        "def even_odd(num):\n",
        "    if num%2 == 0:           #<- % is the Modulo operator.\n",
        "        result = \"Even\"\n",
        "    else:\n",
        "        result = \"Odd\"\n",
        "    return result\n",
        "# Define a function to print if each element of a list is even or odd.\n",
        "def even_odd_list(numbers):\n",
        "    for num in numbers:\n",
        "        result = even_odd(num)   #<- Call function on num an assign its result\n",
        "        print(num, \": \", result)\n",
        "\n",
        "even_odd_list([22,41,16,13])\n",
        "\n"
      ],
      "execution_count": null,
      "outputs": [
        {
          "output_type": "stream",
          "text": [
            "22 :  Even\n",
            "41 :  Odd\n",
            "16 :  Even\n",
            "13 :  Odd\n"
          ],
          "name": "stdout"
        }
      ]
    },
    {
      "cell_type": "code",
      "metadata": {
        "id": "MUrf-WYOgMSS"
      },
      "source": [
        ""
      ],
      "execution_count": null,
      "outputs": []
    }
  ]
}