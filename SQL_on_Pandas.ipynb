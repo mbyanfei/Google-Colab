{
  "nbformat": 4,
  "nbformat_minor": 0,
  "metadata": {
    "colab": {
      "name": "SQL on Pandas",
      "provenance": [],
      "collapsed_sections": [],
      "include_colab_link": true
    },
    "kernelspec": {
      "name": "python3",
      "display_name": "Python 3"
    },
    "language_info": {
      "name": "python"
    }
  },
  "cells": [
    {
      "cell_type": "markdown",
      "metadata": {
        "id": "view-in-github",
        "colab_type": "text"
      },
      "source": [
        "<a href=\"https://colab.research.google.com/github/mbyanfei/Google-Colab/blob/master/SQL_on_Pandas.ipynb\" target=\"_parent\"><img src=\"https://colab.research.google.com/assets/colab-badge.svg\" alt=\"Open In Colab\"/></a>"
      ]
    },
    {
      "cell_type": "markdown",
      "metadata": {
        "id": "mBHWHOhvCGqk"
      },
      "source": [
        "## **Practical SQL for Data Analysis**\n",
        "### What you can do *together with* Pandas\n",
        "\n"
      ]
    },
    {
      "cell_type": "code",
      "metadata": {
        "id": "rZshWSvDYGJ_",
        "colab": {
          "base_uri": "https://localhost:8080/"
        },
        "outputId": "a5556685-ea8e-4cea-e6b7-c28250453fa5"
      },
      "source": [
        "!pip install --quiet duckdb"
      ],
      "execution_count": 3,
      "outputs": [
        {
          "output_type": "stream",
          "name": "stdout",
          "text": [
            "\u001b[K     |████████████████████████████████| 13.9 MB 3.9 MB/s \n",
            "\u001b[?25h"
          ]
        }
      ]
    },
    {
      "cell_type": "code",
      "metadata": {
        "id": "PA0kyhY_X4UF"
      },
      "source": [
        "import pandas as pd\n",
        "import numpy as np\n",
        "\n",
        "import sqlite3\n",
        "import duckdb\n",
        "import time"
      ],
      "execution_count": 4,
      "outputs": []
    },
    {
      "cell_type": "markdown",
      "metadata": {
        "id": "2EHkr4qXQK4r"
      },
      "source": [
        "**Preparation**\n",
        "\n",
        "Download the data and set up the Pandas data frames. We read the data into a Pandas DataFrame using DuckDB's built-in Parquet reader."
      ]
    },
    {
      "cell_type": "code",
      "metadata": {
        "id": "0uN62jfDMlLj"
      },
      "source": [
        "!wget -q https://github.com/cwida/duckdb-data/releases/download/v1.0/lineitemsf1.snappy.parquet"
      ],
      "execution_count": 7,
      "outputs": []
    },
    {
      "cell_type": "code",
      "metadata": {
        "id": "OY-bw_UiOZN7"
      },
      "source": [
        "!wget -q https://github.com/cwida/duckdb-data/releases/download/v1.0/orders.parquet"
      ],
      "execution_count": 8,
      "outputs": []
    },
    {
      "cell_type": "code",
      "source": [
        "!pwd"
      ],
      "metadata": {
        "id": "r7cZ48LX5cN2",
        "outputId": "4daf39cf-8d77-45c3-8462-8c7a400fecec",
        "colab": {
          "base_uri": "https://localhost:8080/"
        }
      },
      "execution_count": 5,
      "outputs": [
        {
          "output_type": "stream",
          "name": "stdout",
          "text": [
            "/content\n"
          ]
        }
      ]
    },
    {
      "cell_type": "code",
      "source": [
        "!ls -hlt"
      ],
      "metadata": {
        "id": "UXNOolmz5cDG",
        "outputId": "1577bcb0-b3f8-4b1e-82c7-83ed2de45600",
        "colab": {
          "base_uri": "https://localhost:8080/"
        }
      },
      "execution_count": 6,
      "outputs": [
        {
          "output_type": "stream",
          "name": "stdout",
          "text": [
            "total 4.0K\n",
            "drwxr-xr-x 1 root root 4.0K Jun  1 13:50 sample_data\n"
          ]
        }
      ]
    },
    {
      "cell_type": "code",
      "metadata": {
        "id": "siC5p7oONAFr"
      },
      "source": [
        "lineitem = duckdb.query(\"SELECT * FROM 'lineitemsf1.snappy.parquet'\").to_df()\n",
        "orders = duckdb.query(\"SELECT * FROM 'orders.parquet'\").to_df()"
      ],
      "execution_count": 9,
      "outputs": []
    },
    {
      "cell_type": "code",
      "source": [
        "lineitem.shape"
      ],
      "metadata": {
        "id": "krl6NxNP5r0Y",
        "outputId": "1ea86196-a88b-46eb-c7a8-b8cf89e92c97",
        "colab": {
          "base_uri": "https://localhost:8080/"
        }
      },
      "execution_count": 10,
      "outputs": [
        {
          "output_type": "execute_result",
          "data": {
            "text/plain": [
              "(6001215, 16)"
            ]
          },
          "metadata": {},
          "execution_count": 10
        }
      ]
    },
    {
      "cell_type": "code",
      "source": [
        "orders.shape"
      ],
      "metadata": {
        "id": "PKPZfG_s5uLz",
        "outputId": "4018278d-eb65-4540-ba74-f3df3d01c00c",
        "colab": {
          "base_uri": "https://localhost:8080/"
        }
      },
      "execution_count": 11,
      "outputs": [
        {
          "output_type": "execute_result",
          "data": {
            "text/plain": [
              "(1500000, 9)"
            ]
          },
          "metadata": {},
          "execution_count": 11
        }
      ]
    },
    {
      "cell_type": "code",
      "source": [
        "con = duckdb.connect()\n",
        "con.execute('PRAGMA threads=2')"
      ],
      "metadata": {
        "id": "IZiyoUBQ58-Z",
        "outputId": "aa4fcca0-b428-48c1-e780-a8cc16b0900c",
        "colab": {
          "base_uri": "https://localhost:8080/"
        }
      },
      "execution_count": 12,
      "outputs": [
        {
          "output_type": "execute_result",
          "data": {
            "text/plain": [
              "<_duckdb_extension.DuckDBPyConnection at 0x7f51170596f0>"
            ]
          },
          "metadata": {},
          "execution_count": 12
        }
      ]
    },
    {
      "cell_type": "code",
      "metadata": {
        "id": "-ECk5BW2RcS0"
      },
      "source": [
        "def timeit(fun, name):\n",
        "\timport time\n",
        "\tstart_time = time.monotonic()\n",
        "\tfun()\n",
        "\treturn [name, time.monotonic() - start_time]\n",
        "\n",
        "def plot_results(results, title):\n",
        "  df = pd.DataFrame.from_dict({\n",
        "      'name': [x[0] for x in results],\n",
        "      'time': [x[1] for x in results]\n",
        "  })\n",
        "  print(title)\n",
        "  print(df)"
      ],
      "execution_count": 13,
      "outputs": []
    },
    {
      "cell_type": "markdown",
      "metadata": {
        "id": "3HON-2DkQJTB"
      },
      "source": [
        "**Ungrouped Aggregates**\n",
        "\n",
        "This performs a simple set of ungrouped aggregates (sum, min, max, avg) over a column without any filters or other complex operations.\n",
        "\n",
        "\n",
        "\n"
      ]
    },
    {
      "cell_type": "code",
      "metadata": {
        "colab": {
          "base_uri": "https://localhost:8080/"
        },
        "id": "FYOX8ZZldf-K",
        "outputId": "c20abf56-658c-4420-e74d-a6b5e4f10504"
      },
      "source": [
        "ungrouped_aggregate = '''\n",
        "    SELECT SUM(l_extendedprice), MIN(l_extendedprice), MAX(l_extendedprice), AVG(l_extendedprice) FROM lineitem\n",
        "'''\n",
        "\n",
        "def duckdb_ungrouped_aggregate(d_con):\n",
        "\tprint(d_con.query(ungrouped_aggregate).to_df())\n",
        "\n",
        "def duckdb_ungrouped_aggregate_1t():\n",
        "\tduckdb_ungrouped_aggregate(duckdb)\n",
        "\n",
        "def duckdb_ungrouped_aggregate_2t():\n",
        "\tduckdb_ungrouped_aggregate(con)\n",
        "\n",
        "def pandas_ungrouped_aggregate():\n",
        "  # result = lineitem.groupby(\n",
        "  #   ['l_returnflag', 'l_linestatus']\n",
        "  # ).agg(\n",
        "  #   Sum=('l_extendedprice', 'sum'),\n",
        "  #   Min=('l_extendedprice', 'min'),\n",
        "  #   Max=('l_extendedprice', 'max'),\n",
        "  #   Avg=('l_extendedprice', 'mean')\n",
        "  # )\n",
        "  result = lineitem.agg(\n",
        "    Sum=('l_extendedprice', 'sum'),\n",
        "    Min=('l_extendedprice', 'min'),\n",
        "    Max=('l_extendedprice', 'max'),\n",
        "    Avg=('l_extendedprice', 'mean')\n",
        "  )\n",
        "  print(result)\n",
        "\t# print(lineitem.agg(Sum=('l_extendedprice', 'sum'), Min=('l_extendedprice', 'min'), Max=('l_extendedprice', 'max'), Avg=('l_extendedprice', 'mean')))\n",
        "\n",
        "ua_results = []\n",
        "ua_results.append(timeit(duckdb_ungrouped_aggregate_1t, 'DuckDB (1T)'))\n",
        "ua_results.append(timeit(duckdb_ungrouped_aggregate_2t, 'DuckDB (2T)'))\n",
        "ua_results.append(timeit(pandas_ungrouped_aggregate, 'Pandas'))\n",
        "plot_results(ua_results, 'Ungrouped Aggregate')\n"
      ],
      "execution_count": 14,
      "outputs": [
        {
          "output_type": "stream",
          "name": "stdout",
          "text": [
            "   sum(l_extendedprice)  min(l_extendedprice)  max(l_extendedprice)  \\\n",
            "0          2.295773e+11                 901.0              104949.5   \n",
            "\n",
            "   avg(l_extendedprice)  \n",
            "0          38255.138485  \n",
            "   sum(l_extendedprice)  min(l_extendedprice)  max(l_extendedprice)  \\\n",
            "0          2.295773e+11                 901.0              104949.5   \n",
            "\n",
            "   avg(l_extendedprice)  \n",
            "0          38255.138485  \n",
            "     l_extendedprice\n",
            "Sum     2.295773e+11\n",
            "Min     9.010000e+02\n",
            "Max     1.049495e+05\n",
            "Avg     3.825514e+04\n",
            "Ungrouped Aggregate\n",
            "          name      time\n",
            "0  DuckDB (1T)  0.130607\n",
            "1  DuckDB (2T)  0.106756\n",
            "2       Pandas  0.050860\n"
          ]
        }
      ]
    },
    {
      "cell_type": "code",
      "metadata": {
        "id": "aGZQBZKdClRM"
      },
      "source": [
        ""
      ],
      "execution_count": null,
      "outputs": []
    },
    {
      "cell_type": "markdown",
      "metadata": {
        "id": "Fq_vlfwTQIaE"
      },
      "source": [
        "**Grouped Aggregates**\n",
        "\n",
        "This performs the same set of aggregates, but this time grouped by two other columns (*l_returnflag* and *l_linestatus*).\n",
        "\n"
      ]
    },
    {
      "cell_type": "code",
      "metadata": {
        "colab": {
          "base_uri": "https://localhost:8080/"
        },
        "id": "7o4QB7bJYBbm",
        "outputId": "8dd27c91-bf78-4030-d826-fc1cf2610a84"
      },
      "source": [
        "grouped_aggregate = '''\n",
        "SELECT l_returnflag,\n",
        "       l_linestatus,\n",
        "       SUM(l_extendedprice),\n",
        "       MIN(l_extendedprice),\n",
        "       MAX(l_extendedprice),\n",
        "       AVG(l_extendedprice)\n",
        "FROM lineitem\n",
        "GROUP BY l_returnflag,\n",
        "         l_linestatus\n",
        "'''\n",
        "\n",
        "def duckdb_grouped_aggregate(d_con):\n",
        "\tprint(d_con.query(grouped_aggregate).to_df())\n",
        "\n",
        "def duckdb_grouped_aggregate_1t():\n",
        "\tduckdb_grouped_aggregate(duckdb)\n",
        "\n",
        "def duckdb_grouped_aggregate_2t():\n",
        "\tduckdb_grouped_aggregate(con)\n",
        "\n",
        "def pandas_grouped_aggregate():\n",
        "\tprint(lineitem.groupby(['l_returnflag', 'l_linestatus']).agg(Sum=('l_extendedprice', 'sum'), Min=('l_extendedprice', 'min'), Max=('l_extendedprice', 'max'), Avg=('l_extendedprice', 'mean')))\n",
        "\n",
        "results = []\n",
        "results.append(timeit(duckdb_grouped_aggregate_1t, 'DuckDB (1T)'))\n",
        "results.append(timeit(duckdb_grouped_aggregate_2t, 'DuckDB (2T)'))\n",
        "results.append(timeit(pandas_grouped_aggregate, 'Pandas'))\n",
        "plot_results(results, 'Grouped Aggregate')"
      ],
      "execution_count": 15,
      "outputs": [
        {
          "output_type": "stream",
          "name": "stdout",
          "text": [
            "  l_returnflag l_linestatus  sum(l_extendedprice)  min(l_extendedprice)  \\\n",
            "0            N            O          1.149352e+11                 901.0   \n",
            "1            R            F          5.656804e+10                 904.0   \n",
            "2            A            F          5.658655e+10                 904.0   \n",
            "3            N            F          1.487505e+09                 920.0   \n",
            "\n",
            "   max(l_extendedprice)  avg(l_extendedprice)  \n",
            "0              104749.5          38248.015609  \n",
            "1              104899.5          38250.854626  \n",
            "2              104949.5          38273.129735  \n",
            "3              104049.5          38284.467761  \n",
            "  l_returnflag l_linestatus  sum(l_extendedprice)  min(l_extendedprice)  \\\n",
            "0            N            O          1.149352e+11                 901.0   \n",
            "1            A            F          5.658655e+10                 904.0   \n",
            "2            R            F          5.656804e+10                 904.0   \n",
            "3            N            F          1.487505e+09                 920.0   \n",
            "\n",
            "   max(l_extendedprice)  avg(l_extendedprice)  \n",
            "0              104749.5          38248.015609  \n",
            "1              104949.5          38273.129735  \n",
            "2              104899.5          38250.854626  \n",
            "3              104049.5          38284.467761  \n",
            "                                    Sum    Min       Max           Avg\n",
            "l_returnflag l_linestatus                                             \n",
            "A            F             5.658655e+10  904.0  104949.5  38273.129735\n",
            "N            F             1.487505e+09  920.0  104049.5  38284.467761\n",
            "             O             1.149352e+11  901.0  104749.5  38248.015609\n",
            "R            F             5.656804e+10  904.0  104899.5  38250.854626\n",
            "Grouped Aggregate\n",
            "          name      time\n",
            "0  DuckDB (1T)  0.427259\n",
            "1  DuckDB (2T)  0.424506\n",
            "2       Pandas  0.883554\n"
          ]
        }
      ]
    },
    {
      "cell_type": "markdown",
      "metadata": {
        "id": "4cIqD0gcQ6Rn"
      },
      "source": [
        "**Grouped Aggregate with a Filter**\n",
        "\n",
        "This benchmark performs a grouped aggregate with a filter over the shipdate column.\n",
        "\n",
        "As Pandas does not perform any projection pushdown, we include a version where we manually perform the projection pushdown by filtering only the columns we actually need before running the filter and aggregate.\n",
        "\n",
        "This optimization is performed automatically in DuckDB by the query optimizer."
      ]
    },
    {
      "cell_type": "code",
      "metadata": {
        "colab": {
          "base_uri": "https://localhost:8080/"
        },
        "id": "ZA8W1lrcX6_y",
        "outputId": "119f1aa0-0242-4313-b7bb-d52dff3c5fbc"
      },
      "source": [
        "def duckdb_grouped_aggregate_filter(d_con):\n",
        "\tprint(d_con.query('''\n",
        "SELECT l_returnflag,\n",
        "       l_linestatus,\n",
        "       SUM(l_extendedprice),\n",
        "       MIN(l_extendedprice),\n",
        "       MAX(l_extendedprice),\n",
        "       AVG(l_extendedprice)\n",
        "FROM lineitem\n",
        "WHERE\n",
        "    l_shipdate <= DATE '1998-09-02'\n",
        "GROUP BY l_returnflag,\n",
        "         l_linestatus\n",
        "''').to_df())\n",
        "\n",
        "def duckdb_grouped_aggregate_filter_1t():\n",
        "\tduckdb_grouped_aggregate_filter(duckdb)\n",
        "\n",
        "def duckdb_grouped_aggregate_filter_2t():\n",
        "\tduckdb_grouped_aggregate_filter(con)\n",
        "\n",
        "def pandas_grouped_aggregate_filter():\n",
        "  filtered_df = lineitem[lineitem['l_shipdate'] < \"1998-09-02\"]\n",
        "  print(filtered_df.groupby(['l_returnflag', 'l_linestatus']).agg(Sum=('l_extendedprice', 'sum'), Min=('l_extendedprice', 'min'), Max=('l_extendedprice', 'max'), Avg=('l_extendedprice', 'mean')))\n",
        "\n",
        "def pandas_grouped_aggregate_filter_projection_pushdown():\n",
        "  pushed_down_df = lineitem[['l_shipdate', 'l_returnflag', 'l_linestatus', 'l_extendedprice']]\n",
        "  filtered_df = pushed_down_df[pushed_down_df['l_shipdate'] < \"1998-09-02\"]\n",
        "  print(filtered_df.groupby(['l_returnflag', 'l_linestatus']).agg(Sum=('l_extendedprice', 'sum'), Min=('l_extendedprice', 'min'), Max=('l_extendedprice', 'max'), Avg=('l_extendedprice', 'mean')))\n",
        "\n",
        "results = []\n",
        "results.append(timeit(duckdb_grouped_aggregate_filter_1t, 'DuckDB (1T)'))\n",
        "results.append(timeit(duckdb_grouped_aggregate_filter_2t, 'DuckDB (2T)'))\n",
        "results.append(timeit(pandas_grouped_aggregate_filter, 'Pandas'))\n",
        "results.append(timeit(pandas_grouped_aggregate_filter_projection_pushdown, 'Pandas (manual pushdown)'))\n",
        "plot_results(results, 'Grouped Aggregate + Filter')\n"
      ],
      "execution_count": 16,
      "outputs": [
        {
          "output_type": "stream",
          "name": "stdout",
          "text": [
            "  l_returnflag l_linestatus  sum(l_extendedprice)  min(l_extendedprice)  \\\n",
            "0            N            O          1.117017e+11                 901.0   \n",
            "1            R            F          5.656804e+10                 904.0   \n",
            "2            A            F          5.658655e+10                 904.0   \n",
            "3            N            F          1.487505e+09                 920.0   \n",
            "\n",
            "   max(l_extendedprice)  avg(l_extendedprice)  \n",
            "0              104749.5          38249.117989  \n",
            "1              104899.5          38250.854626  \n",
            "2              104949.5          38273.129735  \n",
            "3              104049.5          38284.467761  \n",
            "  l_returnflag l_linestatus  sum(l_extendedprice)  min(l_extendedprice)  \\\n",
            "0            N            O          1.117017e+11                 901.0   \n",
            "1            R            F          5.656804e+10                 904.0   \n",
            "2            A            F          5.658655e+10                 904.0   \n",
            "3            N            F          1.487505e+09                 920.0   \n",
            "\n",
            "   max(l_extendedprice)  avg(l_extendedprice)  \n",
            "0              104749.5          38249.117989  \n",
            "1              104899.5          38250.854626  \n",
            "2              104949.5          38273.129735  \n",
            "3              104049.5          38284.467761  \n",
            "                                    Sum    Min       Max           Avg\n",
            "l_returnflag l_linestatus                                             \n",
            "A            F             5.658655e+10  904.0  104949.5  38273.129735\n",
            "N            F             1.487505e+09  920.0  104049.5  38284.467761\n",
            "             O             1.116318e+11  901.0  104749.5  38249.322811\n",
            "R            F             5.656804e+10  904.0  104899.5  38250.854626\n",
            "                                    Sum    Min       Max           Avg\n",
            "l_returnflag l_linestatus                                             \n",
            "A            F             5.658655e+10  904.0  104949.5  38273.129735\n",
            "N            F             1.487505e+09  920.0  104049.5  38284.467761\n",
            "             O             1.116318e+11  901.0  104749.5  38249.322811\n",
            "R            F             5.656804e+10  904.0  104899.5  38250.854626\n",
            "Grouped Aggregate + Filter\n",
            "                       name      time\n",
            "0               DuckDB (1T)  0.556843\n",
            "1               DuckDB (2T)  0.558208\n",
            "2                    Pandas  2.711527\n",
            "3  Pandas (manual pushdown)  2.887870\n"
          ]
        }
      ]
    },
    {
      "cell_type": "markdown",
      "metadata": {
        "id": "1VTWvm1nSPhe"
      },
      "source": [
        "**Grouped Aggregate with Join and Filter**\n",
        "\n",
        "In this benchmark we expand on the previous benchmark by including a join and a filter on the joined-on table.\n",
        "\n",
        "Note that the naive version in Pandas is extremely slow, as it performs a full join of the entire table including all the columns that are not used and all the rows that will be filtered out. For that reason we have included a separate benchmark in which we have manually optimized the Pandas code by pushing down the projections and the filters.\n",
        "\n",
        "These optimizations are performed automatically in DuckDB by the query optimizer."
      ]
    },
    {
      "cell_type": "code",
      "metadata": {
        "id": "oux8DH0z8ktF"
      },
      "source": [
        "\n",
        "# projection & filter on lineitem table\n",
        "lineitem_projected = lineitem[\n",
        "  ['l_shipdate',\n",
        "   'l_orderkey',\n",
        "   'l_linestatus',\n",
        "   'l_returnflag',\n",
        "   'l_extendedprice']\n",
        "]\n",
        "lineitem_filtered = lineitem_projected[\n",
        "  lineitem_projected['l_shipdate'] < \"1998-09-02\"]\n",
        "# projection and filter on order table\n",
        "orders_projected = orders[\n",
        "  ['o_orderkey',\n",
        "   'o_orderstatus']\n",
        "]\n",
        "orders_filtered = orders_projected[\n",
        "  orders_projected['o_orderstatus'] == 'O']\n",
        "# perform the join\n",
        "merged = lineitem_filtered.merge(\n",
        "  orders_filtered,\n",
        "  left_on='l_orderkey',\n",
        "  right_on='o_orderkey')\n",
        "# perform the aggregate\n",
        "result = merged.groupby(\n",
        "  ['l_returnflag', 'l_linestatus']\n",
        ").agg(\n",
        "  Sum=('l_extendedprice', 'sum'),\n",
        "  Min=('l_extendedprice', 'min'),\n",
        "  Max=('l_extendedprice', 'max'),\n",
        "  Avg=('l_extendedprice', 'mean')\n",
        ")"
      ],
      "execution_count": 17,
      "outputs": []
    },
    {
      "cell_type": "code",
      "metadata": {
        "colab": {
          "base_uri": "https://localhost:8080/",
          "height": 112
        },
        "id": "8HcFztq39oMI",
        "outputId": "9dd2a0f6-b23b-476f-8bab-e4ade0b813ac"
      },
      "source": [
        "result"
      ],
      "execution_count": 18,
      "outputs": [
        {
          "output_type": "execute_result",
          "data": {
            "text/plain": [
              "                                    Sum    Min       Max           Avg\n",
              "l_returnflag l_linestatus                                             \n",
              "N            O             1.080448e+11  901.0  104749.5  38250.662806"
            ],
            "text/html": [
              "\n",
              "  <div id=\"df-9fbe4ec8-af99-4460-bb91-f375947a6555\">\n",
              "    <div class=\"colab-df-container\">\n",
              "      <div>\n",
              "<style scoped>\n",
              "    .dataframe tbody tr th:only-of-type {\n",
              "        vertical-align: middle;\n",
              "    }\n",
              "\n",
              "    .dataframe tbody tr th {\n",
              "        vertical-align: top;\n",
              "    }\n",
              "\n",
              "    .dataframe thead th {\n",
              "        text-align: right;\n",
              "    }\n",
              "</style>\n",
              "<table border=\"1\" class=\"dataframe\">\n",
              "  <thead>\n",
              "    <tr style=\"text-align: right;\">\n",
              "      <th></th>\n",
              "      <th></th>\n",
              "      <th>Sum</th>\n",
              "      <th>Min</th>\n",
              "      <th>Max</th>\n",
              "      <th>Avg</th>\n",
              "    </tr>\n",
              "    <tr>\n",
              "      <th>l_returnflag</th>\n",
              "      <th>l_linestatus</th>\n",
              "      <th></th>\n",
              "      <th></th>\n",
              "      <th></th>\n",
              "      <th></th>\n",
              "    </tr>\n",
              "  </thead>\n",
              "  <tbody>\n",
              "    <tr>\n",
              "      <th>N</th>\n",
              "      <th>O</th>\n",
              "      <td>1.080448e+11</td>\n",
              "      <td>901.0</td>\n",
              "      <td>104749.5</td>\n",
              "      <td>38250.662806</td>\n",
              "    </tr>\n",
              "  </tbody>\n",
              "</table>\n",
              "</div>\n",
              "      <button class=\"colab-df-convert\" onclick=\"convertToInteractive('df-9fbe4ec8-af99-4460-bb91-f375947a6555')\"\n",
              "              title=\"Convert this dataframe to an interactive table.\"\n",
              "              style=\"display:none;\">\n",
              "        \n",
              "  <svg xmlns=\"http://www.w3.org/2000/svg\" height=\"24px\"viewBox=\"0 0 24 24\"\n",
              "       width=\"24px\">\n",
              "    <path d=\"M0 0h24v24H0V0z\" fill=\"none\"/>\n",
              "    <path d=\"M18.56 5.44l.94 2.06.94-2.06 2.06-.94-2.06-.94-.94-2.06-.94 2.06-2.06.94zm-11 1L8.5 8.5l.94-2.06 2.06-.94-2.06-.94L8.5 2.5l-.94 2.06-2.06.94zm10 10l.94 2.06.94-2.06 2.06-.94-2.06-.94-.94-2.06-.94 2.06-2.06.94z\"/><path d=\"M17.41 7.96l-1.37-1.37c-.4-.4-.92-.59-1.43-.59-.52 0-1.04.2-1.43.59L10.3 9.45l-7.72 7.72c-.78.78-.78 2.05 0 2.83L4 21.41c.39.39.9.59 1.41.59.51 0 1.02-.2 1.41-.59l7.78-7.78 2.81-2.81c.8-.78.8-2.07 0-2.86zM5.41 20L4 18.59l7.72-7.72 1.47 1.35L5.41 20z\"/>\n",
              "  </svg>\n",
              "      </button>\n",
              "      \n",
              "  <style>\n",
              "    .colab-df-container {\n",
              "      display:flex;\n",
              "      flex-wrap:wrap;\n",
              "      gap: 12px;\n",
              "    }\n",
              "\n",
              "    .colab-df-convert {\n",
              "      background-color: #E8F0FE;\n",
              "      border: none;\n",
              "      border-radius: 50%;\n",
              "      cursor: pointer;\n",
              "      display: none;\n",
              "      fill: #1967D2;\n",
              "      height: 32px;\n",
              "      padding: 0 0 0 0;\n",
              "      width: 32px;\n",
              "    }\n",
              "\n",
              "    .colab-df-convert:hover {\n",
              "      background-color: #E2EBFA;\n",
              "      box-shadow: 0px 1px 2px rgba(60, 64, 67, 0.3), 0px 1px 3px 1px rgba(60, 64, 67, 0.15);\n",
              "      fill: #174EA6;\n",
              "    }\n",
              "\n",
              "    [theme=dark] .colab-df-convert {\n",
              "      background-color: #3B4455;\n",
              "      fill: #D2E3FC;\n",
              "    }\n",
              "\n",
              "    [theme=dark] .colab-df-convert:hover {\n",
              "      background-color: #434B5C;\n",
              "      box-shadow: 0px 1px 3px 1px rgba(0, 0, 0, 0.15);\n",
              "      filter: drop-shadow(0px 1px 2px rgba(0, 0, 0, 0.3));\n",
              "      fill: #FFFFFF;\n",
              "    }\n",
              "  </style>\n",
              "\n",
              "      <script>\n",
              "        const buttonEl =\n",
              "          document.querySelector('#df-9fbe4ec8-af99-4460-bb91-f375947a6555 button.colab-df-convert');\n",
              "        buttonEl.style.display =\n",
              "          google.colab.kernel.accessAllowed ? 'block' : 'none';\n",
              "\n",
              "        async function convertToInteractive(key) {\n",
              "          const element = document.querySelector('#df-9fbe4ec8-af99-4460-bb91-f375947a6555');\n",
              "          const dataTable =\n",
              "            await google.colab.kernel.invokeFunction('convertToInteractive',\n",
              "                                                     [key], {});\n",
              "          if (!dataTable) return;\n",
              "\n",
              "          const docLinkHtml = 'Like what you see? Visit the ' +\n",
              "            '<a target=\"_blank\" href=https://colab.research.google.com/notebooks/data_table.ipynb>data table notebook</a>'\n",
              "            + ' to learn more about interactive tables.';\n",
              "          element.innerHTML = '';\n",
              "          dataTable['output_type'] = 'display_data';\n",
              "          await google.colab.output.renderOutput(dataTable, element);\n",
              "          const docLink = document.createElement('div');\n",
              "          docLink.innerHTML = docLinkHtml;\n",
              "          element.appendChild(docLink);\n",
              "        }\n",
              "      </script>\n",
              "    </div>\n",
              "  </div>\n",
              "  "
            ]
          },
          "metadata": {},
          "execution_count": 18
        }
      ]
    },
    {
      "cell_type": "code",
      "metadata": {
        "colab": {
          "base_uri": "https://localhost:8080/"
        },
        "id": "XKph90VWYs92",
        "outputId": "b9c668f0-c61e-4b37-d30e-e06b1d97243e"
      },
      "source": [
        "def duckdb_grouped_aggregate_filter_join(d_con):\n",
        "\tprint(d_con.query('''\n",
        "SELECT l_returnflag,\n",
        "       l_linestatus,\n",
        "       sum(l_extendedprice),\n",
        "       min(l_extendedprice),\n",
        "       max(l_extendedprice),\n",
        "       avg(l_extendedprice)\n",
        "FROM lineitem lineitem\n",
        "JOIN orders orders ON (l_orderkey=o_orderkey)\n",
        "WHERE l_shipdate <= DATE '1998-09-02'\n",
        "  AND o_orderstatus='O'\n",
        "GROUP BY l_returnflag,\n",
        "         l_linestatus\n",
        "''').to_df())\n",
        "\n",
        "def duckdb_grouped_aggregate_filter_join_1t():\n",
        "\tduckdb_grouped_aggregate_filter_join(duckdb)\n",
        "\n",
        "def duckdb_grouped_aggregate_filter_join_2t():\n",
        "\tduckdb_grouped_aggregate_filter_join(con)\n",
        "\n",
        "def pandas_grouped_aggregate_filter_join():\n",
        "\tmerged = lineitem.merge(orders, left_on='l_orderkey', right_on='o_orderkey')\n",
        "\tfiltered_a = merged[merged['l_shipdate'] < \"1998-09-02\"]\n",
        "\tfiltered_b = filtered_a[filtered_a['o_orderstatus'] == 'O']\n",
        "\tresult = filtered_b.groupby(['l_returnflag', 'l_linestatus']).agg(Sum=('l_extendedprice', 'sum'), Min=('l_extendedprice', 'min'), Max=('l_extendedprice', 'max'), Avg=('l_extendedprice', 'mean'))\n",
        "\tprint(result)\n",
        "\n",
        "def pandas_grouped_aggregate_filter_join_manual_pushdown():\n",
        "\tlineitem_projected = lineitem[['l_shipdate', 'l_orderkey', 'l_linestatus', 'l_returnflag', 'l_extendedprice']]\n",
        "\tlineitem_filtered = lineitem_projected[lineitem_projected['l_shipdate'] < \"1998-09-02\"]\n",
        "\torders_projected = orders[['o_orderkey', 'o_orderstatus']]\n",
        "\torders_filtered = orders_projected[orders_projected['o_orderstatus'] == 'O']\n",
        "\tmerged = lineitem_filtered.merge(orders_filtered, left_on='l_orderkey', right_on='o_orderkey')\n",
        "\tresult = merged.groupby(['l_returnflag', 'l_linestatus']).agg(Sum=('l_extendedprice', 'sum'), Min=('l_extendedprice', 'min'), Max=('l_extendedprice', 'max'), Avg=('l_extendedprice', 'mean'))\n",
        "\tprint(result)\n",
        "\n",
        "results = []\n",
        "results.append(timeit(duckdb_grouped_aggregate_filter_join_1t, 'DuckDB (1T)'))\n",
        "results.append(timeit(duckdb_grouped_aggregate_filter_join_2t, 'DuckDB (2T)'))\n",
        "results.append(timeit(pandas_grouped_aggregate_filter_join, 'Pandas'))\n",
        "results.append(timeit(pandas_grouped_aggregate_filter_join_manual_pushdown, 'Pandas (manual pushdown)'))\n",
        "plot_results(results, 'Grouped Aggregate Join')\n",
        "\n"
      ],
      "execution_count": 19,
      "outputs": [
        {
          "output_type": "stream",
          "name": "stdout",
          "text": [
            "  l_returnflag l_linestatus  sum(l_extendedprice)  min(l_extendedprice)  \\\n",
            "0            N            O          1.081147e+11                 901.0   \n",
            "\n",
            "   max(l_extendedprice)  avg(l_extendedprice)  \n",
            "0              104749.5          38250.450307  \n",
            "  l_returnflag l_linestatus  sum(l_extendedprice)  min(l_extendedprice)  \\\n",
            "0            N            O          1.081147e+11                 901.0   \n",
            "\n",
            "   max(l_extendedprice)  avg(l_extendedprice)  \n",
            "0              104749.5          38250.450307  \n",
            "                                    Sum    Min       Max           Avg\n",
            "l_returnflag l_linestatus                                             \n",
            "N            O             1.080448e+11  901.0  104749.5  38250.662806\n",
            "                                    Sum    Min       Max           Avg\n",
            "l_returnflag l_linestatus                                             \n",
            "N            O             1.080448e+11  901.0  104749.5  38250.662806\n",
            "Grouped Aggregate Join\n",
            "                       name       time\n",
            "0               DuckDB (1T)   0.642910\n",
            "1               DuckDB (2T)   0.609778\n",
            "2                    Pandas  13.387921\n",
            "3  Pandas (manual pushdown)   3.861350\n"
          ]
        }
      ]
    },
    {
      "cell_type": "markdown",
      "metadata": {
        "id": "MbzbpQjPgNBJ"
      },
      "source": [
        "# Appendix A: There and back again: Transferring data from Pandas to a SQL engine and back\n",
        "\n",
        "As Appendix A relies on the presence of an external PostgreSQL database server, the code cannot be executed in colab. The source code can be found here: https://gist.github.com/hannesmuehleisen/a95a39a1eda63aeb0ca13fd82d1ba49c\n"
      ]
    },
    {
      "cell_type": "markdown",
      "metadata": {
        "id": "PFcRX09mbUoy"
      },
      "source": [
        "# Appendix B: PandasSQL\n",
        "\n",
        "Note: we cannot run this on the original dataset, as colab will run out of memory and crash. Instead for the benchmark we add a sample clause to reduce the data set size to 10% of the original data set size."
      ]
    },
    {
      "cell_type": "code",
      "metadata": {
        "id": "NBwdwr1ubZbC",
        "colab": {
          "base_uri": "https://localhost:8080/"
        },
        "outputId": "f12533bd-798c-41bc-c6f1-f80118afcdb6"
      },
      "source": [
        "!pip install --quiet pandasql"
      ],
      "execution_count": 20,
      "outputs": [
        {
          "output_type": "stream",
          "name": "stdout",
          "text": [
            "  Building wheel for pandasql (setup.py) ... \u001b[?25l\u001b[?25hdone\n"
          ]
        }
      ]
    },
    {
      "cell_type": "code",
      "metadata": {
        "id": "QsIpOGHbbWxF"
      },
      "source": [
        "import pandasql as psql\n",
        "pysqldf = lambda q: psql.sqldf(q, globals())\n"
      ],
      "execution_count": 21,
      "outputs": []
    },
    {
      "cell_type": "code",
      "metadata": {
        "id": "KtA6Kd6ee_r5"
      },
      "source": [
        "lineitem_sample = duckdb.query(\"SELECT * FROM 'lineitemsf1.snappy.parquet' USING SAMPLE 10%\").to_df()"
      ],
      "execution_count": 22,
      "outputs": []
    },
    {
      "cell_type": "code",
      "metadata": {
        "colab": {
          "base_uri": "https://localhost:8080/"
        },
        "id": "TaYDvPyfbXzv",
        "outputId": "a55697c9-7c5f-4e6d-89dd-6d5fa16a0c6f"
      },
      "source": [
        "ungrouped_aggregate = '''\n",
        "    SELECT SUM(l_extendedprice), MIN(l_extendedprice), MAX(l_extendedprice), AVG(l_extendedprice) FROM lineitem_sample\n",
        "'''\n",
        "\n",
        "def duckdb_ungrouped_aggregate(d_con):\n",
        "\tprint(d_con.query(ungrouped_aggregate).to_df())\n",
        "\n",
        "def duckdb_ungrouped_aggregate_1t():\n",
        "\tduckdb_ungrouped_aggregate(duckdb)\n",
        "\n",
        "def duckdb_ungrouped_aggregate_2t():\n",
        "\tduckdb_ungrouped_aggregate(con)\n",
        "\n",
        "def pandas_ungrouped_aggregate():\n",
        "\tprint(lineitem_sample.agg(Sum=('l_extendedprice', 'sum'), Min=('l_extendedprice', 'min'), Max=('l_extendedprice', 'max'), Avg=('l_extendedprice', 'mean')))\n",
        "\n",
        "def ungrouped_aggregate_pandasql():\n",
        "  print(pysqldf(ungrouped_aggregate))\n",
        "\n",
        "ua_results = []\n",
        "ua_results.append(timeit(duckdb_ungrouped_aggregate_1t, 'DuckDB (1T)'))\n",
        "ua_results.append(timeit(duckdb_ungrouped_aggregate_2t, 'DuckDB (2T)'))\n",
        "ua_results.append(timeit(pandas_ungrouped_aggregate, 'Pandas'))\n",
        "ua_results.append(timeit(ungrouped_aggregate_pandasql, 'PandaSQL'))\n",
        "plot_results(ua_results, 'Ungrouped Aggregate')"
      ],
      "execution_count": 23,
      "outputs": [
        {
          "output_type": "stream",
          "name": "stdout",
          "text": [
            "   sum(l_extendedprice)  min(l_extendedprice)  max(l_extendedprice)  \\\n",
            "0          2.229998e+10                 904.0              104649.5   \n",
            "\n",
            "   avg(l_extendedprice)  \n",
            "0          38272.975745  \n",
            "   sum(l_extendedprice)  min(l_extendedprice)  max(l_extendedprice)  \\\n",
            "0          2.229998e+10                 904.0              104649.5   \n",
            "\n",
            "   avg(l_extendedprice)  \n",
            "0          38272.975745  \n",
            "     l_extendedprice\n",
            "Sum     2.229998e+10\n",
            "Min     9.040000e+02\n",
            "Max     1.046495e+05\n",
            "Avg     3.827298e+04\n",
            "   SUM(l_extendedprice)  MIN(l_extendedprice)  MAX(l_extendedprice)  \\\n",
            "0          2.229998e+10                 904.0              104649.5   \n",
            "\n",
            "   AVG(l_extendedprice)  \n",
            "0          38272.975745  \n",
            "Ungrouped Aggregate\n",
            "          name       time\n",
            "0  DuckDB (1T)   0.018992\n",
            "1  DuckDB (2T)   0.017719\n",
            "2       Pandas   0.014001\n",
            "3     PandaSQL  21.584441\n"
          ]
        }
      ]
    },
    {
      "cell_type": "markdown",
      "metadata": {
        "id": "huqp4XYSKVM8"
      },
      "source": [
        "# Appendix C: Directly querying Parquet files\n",
        "\n",
        "In the benchmarks above, we fully read the parquet files into Pandas. However, DuckDB also has the capability of directly running queries on top of Parquet files. In this appendix, we show the performance of this compared to loading the file into Python first. \n",
        "\n",
        "You can even use the wildcard syntax to run queries on multiple Parquet files in the same folder and create a unified single-table view over them (as long as they have the same schema).\n"
      ]
    },
    {
      "cell_type": "code",
      "metadata": {
        "colab": {
          "base_uri": "https://localhost:8080/"
        },
        "id": "4GlaFMEjLa5e",
        "outputId": "afa331be-05cd-4cca-c7a1-05271de7fc92"
      },
      "source": [
        "# need to install pyarrow for pandas parquet reading\n",
        "!pip install pyarrow"
      ],
      "execution_count": 24,
      "outputs": [
        {
          "output_type": "stream",
          "name": "stdout",
          "text": [
            "Looking in indexes: https://pypi.org/simple, https://us-python.pkg.dev/colab-wheels/public/simple/\n",
            "Requirement already satisfied: pyarrow in /usr/local/lib/python3.7/dist-packages (6.0.1)\n",
            "Requirement already satisfied: numpy>=1.16.6 in /usr/local/lib/python3.7/dist-packages (from pyarrow) (1.21.6)\n"
          ]
        }
      ]
    },
    {
      "cell_type": "code",
      "metadata": {
        "id": "ZsQ5TBgx4TM9",
        "colab": {
          "base_uri": "https://localhost:8080/"
        },
        "outputId": "5b7ceda5-5d9c-4559-daea-3a7e81a3fc35"
      },
      "source": [
        "# set up the view\n",
        "parquet_con = duckdb.connect()\n",
        "parquet_con.execute(\"CREATE VIEW lineitem_parquet AS SELECT * FROM 'lineitemsf1.snappy.parquet'\")\n",
        "parquet_con.execute(\"CREATE VIEW orders_parquet AS SELECT * FROM 'orders.parquet'\")\n"
      ],
      "execution_count": 32,
      "outputs": [
        {
          "output_type": "execute_result",
          "data": {
            "text/plain": [
              "<_duckdb_extension.DuckDBPyConnection at 0x7f50fbf5a7f0>"
            ]
          },
          "metadata": {},
          "execution_count": 32
        }
      ]
    },
    {
      "cell_type": "markdown",
      "metadata": {
        "id": "kDkOq5-HPoJL"
      },
      "source": [
        "# Ungrouped Aggregate"
      ]
    },
    {
      "cell_type": "code",
      "metadata": {
        "colab": {
          "base_uri": "https://localhost:8080/"
        },
        "id": "Zy5RWbXELC1z",
        "outputId": "c23de80d-7631-45d0-a473-de7fb0352bc4"
      },
      "source": [
        "ungrouped_aggregate = '''\n",
        "    SELECT SUM(l_extendedprice), MIN(l_extendedprice), MAX(l_extendedprice), AVG(l_extendedprice) FROM lineitem_parquet\n",
        "'''\n",
        "\n",
        "def duckdb_parquet_query(d_con):\n",
        "\tprint(d_con.query(ungrouped_aggregate).to_df())\n",
        "\n",
        "def duckdb_ungrouped_parquet_1t():\n",
        "  parquet_con.execute('PRAGMA threads=1')\n",
        "  duckdb_ungrouped_aggregate(parquet_con)\n",
        " \n",
        "def duckdb_ungrouped_parquet_2t():\n",
        "  parquet_con.execute('PRAGMA threads=2')\n",
        "  duckdb_ungrouped_aggregate(parquet_con)\n",
        "\n",
        "def pandas_ungrouped_aggregate():\n",
        "\tprint(lineitem.agg(Sum=('l_extendedprice', 'sum'), Min=('l_extendedprice', 'min'), Max=('l_extendedprice', 'max'), Avg=('l_extendedprice', 'mean')))\n",
        "\n",
        "def pandas_ungrouped_aggregate_parquet_load():\n",
        "  lineitem_pandas_parquet = pd.read_parquet('lineitemsf1.snappy.parquet')\n",
        "  print(lineitem_pandas_parquet.agg(Sum=('l_extendedprice', 'sum'), Min=('l_extendedprice', 'min'), Max=('l_extendedprice', 'max'), Avg=('l_extendedprice', 'mean')))\n",
        "\n",
        "def pandas_ungrouped_aggregate_parquet_load_pushdown():\n",
        "  lineitem_pandas_parquet = pd.read_parquet('lineitemsf1.snappy.parquet', columns=['l_extendedprice'])\n",
        "  print(lineitem_pandas_parquet.agg(Sum=('l_extendedprice', 'sum'), Min=('l_extendedprice', 'min'), Max=('l_extendedprice', 'max'), Avg=('l_extendedprice', 'mean')))\n",
        "\n",
        "ua_results = []\n",
        "ua_results.append(timeit(duckdb_ungrouped_parquet_1t, 'DuckDB (1 Thread)'))\n",
        "ua_results.append(timeit(duckdb_ungrouped_parquet_2t, 'DuckDB (2 Threads)'))\n",
        "ua_results.append(timeit(pandas_ungrouped_aggregate, 'Pandas'))\n",
        "ua_results.append(timeit(pandas_ungrouped_aggregate_parquet_load, 'Pandas + Parquet Load'))\n",
        "ua_results.append(timeit(pandas_ungrouped_aggregate_parquet_load_pushdown, 'Pandas + Parquet Load (Pushdown)'))\n",
        "plot_results(ua_results, 'Ungrouped Aggregate (Parquet)')"
      ],
      "execution_count": 30,
      "outputs": [
        {
          "output_type": "stream",
          "name": "stdout",
          "text": [
            "   sum(l_extendedprice)  min(l_extendedprice)  max(l_extendedprice)  \\\n",
            "0          2.295773e+11                 901.0              104949.5   \n",
            "\n",
            "   avg(l_extendedprice)  \n",
            "0          38255.138485  \n",
            "   sum(l_extendedprice)  min(l_extendedprice)  max(l_extendedprice)  \\\n",
            "0          2.295773e+11                 901.0              104949.5   \n",
            "\n",
            "   avg(l_extendedprice)  \n",
            "0          38255.138485  \n",
            "     l_extendedprice\n",
            "Sum     2.295773e+11\n",
            "Min     9.010000e+02\n",
            "Max     1.049495e+05\n",
            "Avg     3.825514e+04\n",
            "     l_extendedprice\n",
            "Sum     2.295773e+11\n",
            "Min     9.010000e+02\n",
            "Max     1.049495e+05\n",
            "Avg     3.825514e+04\n",
            "     l_extendedprice\n",
            "Sum     2.295773e+11\n",
            "Min     9.010000e+02\n",
            "Max     1.049495e+05\n",
            "Avg     3.825514e+04\n",
            "Ungrouped Aggregate (Parquet)\n",
            "                               name      time\n",
            "0                 DuckDB (1 Thread)  0.239711\n",
            "1                DuckDB (2 Threads)  0.171998\n",
            "2                            Pandas  0.041406\n",
            "3             Pandas + Parquet Load  8.743973\n",
            "4  Pandas + Parquet Load (Pushdown)  0.166520\n"
          ]
        }
      ]
    },
    {
      "cell_type": "markdown",
      "metadata": {
        "id": "YzJD2o3MPtdQ"
      },
      "source": [
        "# Grouped Aggregate with Join and Filter"
      ]
    },
    {
      "cell_type": "code",
      "metadata": {
        "colab": {
          "base_uri": "https://localhost:8080/"
        },
        "id": "S3iX6MpMLmmD",
        "outputId": "ec9763ae-1ab6-452e-ed20-1abf7a2a63aa"
      },
      "source": [
        "def duckdb_grouped_aggregate_filter_join_pq(d_con):\n",
        "\tprint(d_con.query('''\n",
        "SELECT l_returnflag,\n",
        "       l_linestatus,\n",
        "       sum(l_extendedprice),\n",
        "       min(l_extendedprice),\n",
        "       max(l_extendedprice),\n",
        "       avg(l_extendedprice)\n",
        "FROM lineitem_parquet lineitem\n",
        "JOIN orders_parquet orders ON (l_orderkey=o_orderkey)\n",
        "WHERE l_shipdate <= DATE '1998-09-02'\n",
        "  AND o_orderstatus='O'\n",
        "GROUP BY l_returnflag,\n",
        "         l_linestatus\n",
        "''').to_df())\n",
        "\n",
        "def duckdb_grouped_aggregate_filter_join_pq_1t():\n",
        "  parquet_con.execute('PRAGMA threads=1')\n",
        "  duckdb_grouped_aggregate_filter_join_pq(parquet_con)\n",
        "\n",
        "def duckdb_grouped_aggregate_filter_join_pq_2t():\n",
        "  parquet_con.execute('PRAGMA threads=2')\n",
        "  duckdb_grouped_aggregate_filter_join_pq(parquet_con)\n",
        "\n",
        "def pandas_grouped_aggregate_filter_join_pq():\n",
        "  lineitem_pandas_parquet = pd.read_parquet('lineitemsf1.snappy.parquet')\n",
        "  orders_pandas_parquet = pd.read_parquet('orders.parquet')\n",
        "  merged = lineitem_pandas_parquet.merge(orders, left_on='l_orderkey', right_on='o_orderkey')\n",
        "  filtered_a = merged[merged['l_shipdate'] < \"1998-09-02\"]\n",
        "  filtered_b = filtered_a[filtered_a['o_orderstatus'] == 'O']\n",
        "  result = filtered_b.groupby(['l_returnflag', 'l_linestatus']).agg(Sum=('l_extendedprice', 'sum'), Min=('l_extendedprice', 'min'), Max=('l_extendedprice', 'max'), Avg=('l_extendedprice', 'mean'))\n",
        "  print(result)\n",
        "\n",
        "def pandas_grouped_aggregate_filter_join_manual_pushdown_pq():\n",
        "  lineitem_projected = pd.read_parquet('lineitemsf1.snappy.parquet', columns=['l_shipdate', 'l_orderkey', 'l_linestatus', 'l_returnflag', 'l_extendedprice'])\n",
        "  orders_projected = pd.read_parquet('orders.parquet', columns=['o_orderkey', 'o_orderstatus'])\n",
        "  lineitem_filtered = lineitem_projected[lineitem_projected['l_shipdate'] < \"1998-09-02\"]\n",
        "  orders_filtered = orders_projected[orders_projected['o_orderstatus'] == 'O']\n",
        "  merged = lineitem_filtered.merge(orders_filtered, left_on='l_orderkey', right_on='o_orderkey')\n",
        "  result = merged.groupby(['l_returnflag', 'l_linestatus']).agg(Sum=('l_extendedprice', 'sum'), Min=('l_extendedprice', 'min'), Max=('l_extendedprice', 'max'), Avg=('l_extendedprice', 'mean'))\n",
        "  print(result)\n",
        "\n",
        "results = []\n",
        "results.append(timeit(duckdb_grouped_aggregate_filter_join_pq_1t, 'DuckDB (1T)'))\n",
        "results.append(timeit(duckdb_grouped_aggregate_filter_join_pq_2t, 'DuckDB (2T)'))\n",
        "results.append(timeit(pandas_grouped_aggregate_filter_join_pq, 'Pandas'))\n",
        "results.append(timeit(pandas_grouped_aggregate_filter_join_manual_pushdown_pq, 'Pandas (manual pushdown)'))\n",
        "plot_results(results, 'Grouped Aggregate Join (Parquet)')\n",
        "\n"
      ],
      "execution_count": 33,
      "outputs": [
        {
          "output_type": "stream",
          "name": "stdout",
          "text": [
            "  l_returnflag l_linestatus  sum(l_extendedprice)  min(l_extendedprice)  \\\n",
            "0            N            O          1.081147e+11                 901.0   \n",
            "\n",
            "   max(l_extendedprice)  avg(l_extendedprice)  \n",
            "0              104749.5          38250.450307  \n",
            "  l_returnflag l_linestatus  sum(l_extendedprice)  min(l_extendedprice)  \\\n",
            "0            N            O          1.081147e+11                 901.0   \n",
            "\n",
            "   max(l_extendedprice)  avg(l_extendedprice)  \n",
            "0              104749.5          38250.450307  \n",
            "                                    Sum    Min       Max           Avg\n",
            "l_returnflag l_linestatus                                             \n",
            "N            O             1.080448e+11  901.0  104749.5  38250.662806\n",
            "                                    Sum    Min       Max           Avg\n",
            "l_returnflag l_linestatus                                             \n",
            "N            O             1.080448e+11  901.0  104749.5  38250.662806\n",
            "Grouped Aggregate Join (Parquet)\n",
            "                       name       time\n",
            "0               DuckDB (1T)   1.108135\n",
            "1               DuckDB (2T)   0.906577\n",
            "2                    Pandas  17.737057\n",
            "3  Pandas (manual pushdown)   3.658200\n"
          ]
        }
      ]
    },
    {
      "cell_type": "code",
      "metadata": {
        "id": "dzBTCNTGQNNJ"
      },
      "source": [
        ""
      ],
      "execution_count": null,
      "outputs": []
    }
  ]
}